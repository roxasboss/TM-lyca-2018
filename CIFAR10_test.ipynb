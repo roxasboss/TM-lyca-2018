{
  "nbformat": 4,
  "nbformat_minor": 0,
  "metadata": {
    "colab": {
      "name": " CIFAR10 test.ipynb",
      "version": "0.3.2",
      "provenance": [],
      "include_colab_link": true
    },
    "kernelspec": {
      "name": "python3",
      "display_name": "Python 3"
    },
    "accelerator": "GPU"
  },
  "cells": [
    {
      "cell_type": "markdown",
      "metadata": {
        "id": "view-in-github",
        "colab_type": "text"
      },
      "source": [
        "[View in Colaboratory](https://colab.research.google.com/github/roxasboss/TM-lyca-2018/blob/master/CIFAR10_test.ipynb)"
      ]
    },
    {
      "metadata": {
        "id": "z4UUaJRmynyL",
        "colab_type": "code",
        "colab": {
          "base_uri": "https://localhost:8080/",
          "height": 119
        },
        "outputId": "a4b2640c-888d-4269-ce0f-72406794c523"
      },
      "cell_type": "code",
      "source": [
        "import keras\n",
        "from keras.models import Sequential\n",
        "from keras.utils import np_utils\n",
        "from keras.preprocessing.image import ImageDataGenerator\n",
        "from keras.layers import Dense, Activation, Flatten, Dropout, BatchNormalization\n",
        "from keras.layers import Conv2D, MaxPooling2D\n",
        "from keras.datasets import cifar10\n",
        "from keras import regularizers, optimizers\n",
        "import numpy as np\n",
        "from keras.optimizers import RMSprop\n",
        "\n",
        "from keras.utils.np_utils import to_categorical\n",
        "\n",
        "(x_train, y_train), (x_test, y_test) = cifar10.load_data()\n",
        "\n",
        "#(X, y)= cifar10.load_data()\n",
        "#X = X.astype(\"float32\")\n",
        "#y = y.astype(\"float32\")\n",
        "\n",
        "#x_train = x_train/255.0\n",
        "#y = y/255.0\n",
        "\n",
        "#print(x_train)\n",
        "print(x_train.shape)\n",
        "X = np.concatenate([x_train, x_test])\n",
        "print(X.shape)\n",
        "\n",
        "y = np.concatenate([y_train, y_test])\n",
        "print(y.shape)\n",
        "\n",
        "#labels\n",
        "# Encode labels to one hot vectors (ex : cat -> [0,0,1,0,0,0,0,0,0,0])\n",
        "\n",
        "y = to_categorical(y,num_classes=10)\n",
        "    \n",
        "\n",
        "X = X.astype(\"float32\")\n",
        "#normalization \n",
        "X = X/255.0"
      ],
      "execution_count": 1,
      "outputs": [
        {
          "output_type": "stream",
          "text": [
            "Using TensorFlow backend.\n"
          ],
          "name": "stderr"
        },
        {
          "output_type": "stream",
          "text": [
            "Downloading data from https://www.cs.toronto.edu/~kriz/cifar-10-python.tar.gz\n",
            "170500096/170498071 [==============================] - 45s 0us/step\n",
            "(50000, 32, 32, 3)\n",
            "(60000, 32, 32, 3)\n",
            "(60000, 1)\n"
          ],
          "name": "stdout"
        }
      ]
    },
    {
      "metadata": {
        "id": "Sf5R4iR9fcDS",
        "colab_type": "code",
        "colab": {
          "base_uri": "https://localhost:8080/",
          "height": 68
        },
        "outputId": "b97930dc-933b-46ee-9c46-45c072938e3d"
      },
      "cell_type": "code",
      "source": [
        "#split the data\n",
        "\n",
        "\n",
        "from sklearn.metrics import explained_variance_score,mean_absolute_error,median_absolute_error\n",
        "from sklearn.model_selection import train_test_split  \n",
        "\n",
        "\n",
        "\n",
        "X_train, X_tmp, y_train, y_tmp = train_test_split(X, y, test_size=0.1, random_state=23)\n",
        "X_test, X_val, y_test, y_val = train_test_split(X_tmp, y_tmp, test_size=0.5, random_state=23)\n",
        "\n",
        "X_train.shape, X_test.shape, X_val.shape  \n",
        "print(\"Training instances   {}, Training features   {}\".format(X_train.shape[0], X_train.shape[1]))  \n",
        "print(\"Validation instances {}, Validation features {}\".format(X_val.shape[0], X_val.shape[1]))  \n",
        "print(\"Testing instances    {}, Testing features    {}\".format(X_test.shape[0], X_test.shape[1]))\n",
        " \n"
      ],
      "execution_count": 6,
      "outputs": [
        {
          "output_type": "stream",
          "text": [
            "Training instances   54000, Training features   32\n",
            "Validation instances 3000, Validation features 32\n",
            "Testing instances    3000, Testing features    32\n"
          ],
          "name": "stdout"
        }
      ]
    },
    {
      "metadata": {
        "id": "fIYbLvWwqRhA",
        "colab_type": "code",
        "colab": {
          "base_uri": "https://localhost:8080/",
          "height": 364
        },
        "outputId": "8da6e3af-8c29-45ce-ca7b-3a4b8884ab87"
      },
      "cell_type": "code",
      "source": [
        "import matplotlib.pyplot as plt\n",
        "import matplotlib.image as mpimg\n",
        "\n",
        "plt.imshow(X_train[0])"
      ],
      "execution_count": 7,
      "outputs": [
        {
          "output_type": "execute_result",
          "data": {
            "text/plain": [
              "<matplotlib.image.AxesImage at 0x7f01509230f0>"
            ]
          },
          "metadata": {
            "tags": []
          },
          "execution_count": 7
        },
        {
          "output_type": "display_data",
          "data": {
            "image/png": "[encoded data removed]",
            "text/plain": [
              "<matplotlib.figure.Figure at 0x7f01539e6390>"
            ]
          },
          "metadata": {
            "tags": []
          }
        }
      ]
    },
    {
      "metadata": {
        "id": "srR8f1N9TZHE",
        "colab_type": "code",
        "colab": {
          "base_uri": "https://localhost:8080/",
          "height": 34
        },
        "outputId": "bbcfe0fc-235d-4a89-c052-76c193e603c5"
      },
      "cell_type": "code",
      "source": [
        "print(X_train.shape)"
      ],
      "execution_count": 8,
      "outputs": [
        {
          "output_type": "stream",
          "text": [
            "(54000, 32, 32, 3)\n"
          ],
          "name": "stdout"
        }
      ]
    },
    {
      "metadata": {
        "id": "3Ja9o6-nq9Kx",
        "colab_type": "code",
        "colab": {
          "base_uri": "https://localhost:8080/",
          "height": 612
        },
        "outputId": "d0119cc9-58dd-408c-e55c-4d4b90129500"
      },
      "cell_type": "code",
      "source": [
        "#CNN model 3x[2x(Conv2D+relu)+pooling], flatten, fully connected layer\n",
        "\n",
        "#CNN model 3x[2x(Conv2D+relu)+pooling], flatten, fully connected layer\n",
        "\n",
        "weight_decay = 1e-4\n",
        "model = Sequential()\n",
        "model.add(Conv2D(32,kernel_size = (3,3), padding= \"Same\",activation = \"relu\",kernel_regularizer=regularizers.l2(weight_decay), input_shape = (32,32,3)))\n",
        "model.add(Conv2D(32, kernel_size = (3,3), padding= \"Same\",kernel_regularizer=regularizers.l2(weight_decay),activation = \"relu\"))\n",
        "model.add(MaxPooling2D(pool_size =(2,2),strides=(2,2)))\n",
        "model.add(Dropout(0.2))\n",
        "\n",
        "model.add(Conv2D(64,kernel_size = (3,3), padding= \"Same\",kernel_regularizer=regularizers.l2(weight_decay),activation = \"relu\"))\n",
        "model.add(Conv2D(64,kernel_size = (3,3), padding= \"Same\",kernel_regularizer=regularizers.l2(weight_decay),activation = \"relu\"))\n",
        "model.add(MaxPooling2D(pool_size =(2,2), strides=(2,2)))\n",
        "model.add(Dropout(0.3))\n",
        "\n",
        "model.add(Conv2D(128,kernel_size = (3,3), padding= \"Same\",kernel_regularizer=regularizers.l2(weight_decay),activation = \"relu\"))\n",
        "model.add(Conv2D(128,kernel_size = (3,3), padding= \"Same\",kernel_regularizer=regularizers.l2(weight_decay),activation = \"relu\"))\n",
        "model.add(MaxPooling2D(pool_size =(2,2), strides=(2,2)))\n",
        "model.add(Dropout(0.4))\n",
        "\n",
        "\n",
        "model.add(Flatten())\n",
        "model.add(Dense(10,activation = \"softmax\"))\n",
        "\n",
        "model.summary()\n",
        "\n"
      ],
      "execution_count": 29,
      "outputs": [
        {
          "output_type": "stream",
          "text": [
            "_________________________________________________________________\n",
            "Layer (type)                 Output Shape              Param #   \n",
            "=================================================================\n",
            "conv2d_25 (Conv2D)           (None, 32, 32, 32)        896       \n",
            "_________________________________________________________________\n",
            "conv2d_26 (Conv2D)           (None, 32, 32, 32)        9248      \n",
            "_________________________________________________________________\n",
            "max_pooling2d_13 (MaxPooling (None, 16, 16, 32)        0         \n",
            "_________________________________________________________________\n",
            "dropout_13 (Dropout)         (None, 16, 16, 32)        0         \n",
            "_________________________________________________________________\n",
            "conv2d_27 (Conv2D)           (None, 16, 16, 64)        18496     \n",
            "_________________________________________________________________\n",
            "conv2d_28 (Conv2D)           (None, 16, 16, 64)        36928     \n",
            "_________________________________________________________________\n",
            "max_pooling2d_14 (MaxPooling (None, 8, 8, 64)          0         \n",
            "_________________________________________________________________\n",
            "dropout_14 (Dropout)         (None, 8, 8, 64)          0         \n",
            "_________________________________________________________________\n",
            "conv2d_29 (Conv2D)           (None, 8, 8, 128)         73856     \n",
            "_________________________________________________________________\n",
            "conv2d_30 (Conv2D)           (None, 8, 8, 128)         147584    \n",
            "_________________________________________________________________\n",
            "max_pooling2d_15 (MaxPooling (None, 4, 4, 128)         0         \n",
            "_________________________________________________________________\n",
            "dropout_15 (Dropout)         (None, 4, 4, 128)         0         \n",
            "_________________________________________________________________\n",
            "flatten_5 (Flatten)          (None, 2048)              0         \n",
            "_________________________________________________________________\n",
            "dense_5 (Dense)              (None, 10)                20490     \n",
            "=================================================================\n",
            "Total params: 307,498\n",
            "Trainable params: 307,498\n",
            "Non-trainable params: 0\n",
            "_________________________________________________________________\n"
          ],
          "name": "stdout"
        }
      ]
    },
    {
      "metadata": {
        "id": "BdQi-KBsV-aM",
        "colab_type": "code",
        "colab": {}
      },
      "cell_type": "code",
      "source": [
        "from keras.optimizers import RMSprop\n",
        "optimizer = RMSprop(lr=0.001, rho=0.9, epsilon=1e-06, decay=1e-6)\n",
        "model.compile(optimizer =optimizer, loss = \"categorical_crossentropy\", metrics = [\"accuracy\"])"
      ],
      "execution_count": 0,
      "outputs": []
    },
    {
      "metadata": {
        "id": "4MInl_8VYjBr",
        "colab_type": "code",
        "colab": {}
      },
      "cell_type": "code",
      "source": [
        "\n"
      ],
      "execution_count": 0,
      "outputs": []
    },
    {
      "metadata": {
        "id": "c5GV5QrBYn27",
        "colab_type": "code",
        "colab": {}
      },
      "cell_type": "code",
      "source": [
        "#data_augmentation\n",
        "\n",
        "datagen = ImageDataGenerator(\n",
        "        featurewise_center=False,  # set input mean to 0 over the dataset\n",
        "        samplewise_center=False,  # set each sample mean to 0\n",
        "        featurewise_std_normalization=False,  # divide inputs by std of the dataset\n",
        "        samplewise_std_normalization=False,  # divide each input by its std\n",
        "        zca_whitening=False,  # apply ZCA whitening\n",
        "        rotation_range=15,  # randomly rotate images in the range (degrees, 0 to 180)\n",
        "        zoom_range = 0.1, # Randomly zoom image \n",
        "        width_shift_range=0.1,  # randomly shift images horizontally (fraction of total width)\n",
        "        height_shift_range=0.1,  # randomly shift images vertically (fraction of total height)\n",
        "        horizontal_flip=True,  # randomly flip images\n",
        "        vertical_flip=False)  # randomly flip images\n",
        "\n",
        "\n",
        "datagen.fit(X_train)"
      ],
      "execution_count": 0,
      "outputs": []
    },
    {
      "metadata": {
        "id": "XENePZE3lqkE",
        "colab_type": "code",
        "colab": {}
      },
      "cell_type": "code",
      "source": [
        "from keras.callbacks import ReduceLROnPlateau\n",
        "learning_rate_reduction = ReduceLROnPlateau(monitor='val_acc', \n",
        "                                            patience=3, \n",
        "                                            verbose=1, \n",
        "                                            factor=0.5, \n",
        "                                            min_lr=0.00001)"
      ],
      "execution_count": 0,
      "outputs": []
    },
    {
      "metadata": {
        "id": "ekNQtOXMZGR8",
        "colab_type": "code",
        "colab": {
          "base_uri": "https://localhost:8080/",
          "height": 34
        },
        "outputId": "01513638-dad2-4f23-e607-4d6c11b0a6f7"
      },
      "cell_type": "code",
      "source": [
        "print(X_train.shape)"
      ],
      "execution_count": 25,
      "outputs": [
        {
          "output_type": "stream",
          "text": [
            "(54000, 32, 32, 3)\n"
          ],
          "name": "stdout"
        }
      ]
    },
    {
      "metadata": {
        "id": "0HIhgji3ZBiS",
        "colab_type": "code",
        "colab": {
          "base_uri": "https://localhost:8080/",
          "height": 3451
        },
        "outputId": "7ab8a7da-b876-4599-d36c-c6fd561643c1"
      },
      "cell_type": "code",
      "source": [
        "history = model.fit_generator(datagen.flow(X_train,y_train, batch_size = 64), epochs = 100,validation_data=(X_val, y_val),verbose = 2,callbacks=[learning_rate_reduction])\n",
        "                                         "
      ],
      "execution_count": 36,
      "outputs": [
        {
          "output_type": "stream",
          "text": [
            "Epoch 1/100\n",
            " - 41s - loss: 0.5661 - acc: 0.8302 - val_loss: 0.5574 - val_acc: 0.8443\n",
            "Epoch 2/100\n",
            " - 41s - loss: 0.5672 - acc: 0.8296 - val_loss: 0.5419 - val_acc: 0.8503\n",
            "Epoch 3/100\n",
            " - 41s - loss: 0.5642 - acc: 0.8297 - val_loss: 0.5635 - val_acc: 0.8413\n",
            "Epoch 4/100\n",
            " - 41s - loss: 0.5620 - acc: 0.8322 - val_loss: 0.5504 - val_acc: 0.8460\n",
            "Epoch 5/100\n",
            " - 41s - loss: 0.5626 - acc: 0.8305 - val_loss: 0.5544 - val_acc: 0.8467\n",
            "\n",
            "Epoch 00005: ReduceLROnPlateau reducing learning rate to 1e-05.\n",
            "Epoch 6/100\n",
            " - 41s - loss: 0.5590 - acc: 0.8323 - val_loss: 0.5514 - val_acc: 0.8473\n",
            "Epoch 7/100\n",
            " - 41s - loss: 0.5602 - acc: 0.8308 - val_loss: 0.5535 - val_acc: 0.8443\n",
            "Epoch 8/100\n",
            " - 41s - loss: 0.5689 - acc: 0.8271 - val_loss: 0.5480 - val_acc: 0.8480\n",
            "Epoch 9/100\n",
            " - 43s - loss: 0.5619 - acc: 0.8326 - val_loss: 0.5480 - val_acc: 0.8450\n",
            "Epoch 10/100\n",
            " - 43s - loss: 0.5599 - acc: 0.8330 - val_loss: 0.5511 - val_acc: 0.8467\n",
            "Epoch 11/100\n",
            " - 43s - loss: 0.5624 - acc: 0.8320 - val_loss: 0.5589 - val_acc: 0.8420\n",
            "Epoch 12/100\n",
            " - 43s - loss: 0.5636 - acc: 0.8308 - val_loss: 0.5453 - val_acc: 0.8457\n",
            "Epoch 13/100\n",
            " - 43s - loss: 0.5587 - acc: 0.8324 - val_loss: 0.5552 - val_acc: 0.8437\n",
            "Epoch 14/100\n",
            " - 44s - loss: 0.5626 - acc: 0.8326 - val_loss: 0.5521 - val_acc: 0.8473\n",
            "Epoch 15/100\n",
            " - 43s - loss: 0.5642 - acc: 0.8325 - val_loss: 0.5541 - val_acc: 0.8457\n",
            "Epoch 16/100\n",
            " - 44s - loss: 0.5603 - acc: 0.8333 - val_loss: 0.5585 - val_acc: 0.8457\n",
            "Epoch 17/100\n",
            " - 43s - loss: 0.5652 - acc: 0.8322 - val_loss: 0.5458 - val_acc: 0.8467\n",
            "Epoch 18/100\n",
            " - 42s - loss: 0.5618 - acc: 0.8331 - val_loss: 0.5511 - val_acc: 0.8467\n",
            "Epoch 19/100\n",
            " - 45s - loss: 0.5559 - acc: 0.8334 - val_loss: 0.5548 - val_acc: 0.8433\n",
            "Epoch 20/100\n",
            " - 41s - loss: 0.5586 - acc: 0.8330 - val_loss: 0.5495 - val_acc: 0.8463\n",
            "Epoch 21/100\n",
            " - 41s - loss: 0.5581 - acc: 0.8322 - val_loss: 0.5634 - val_acc: 0.8423\n",
            "Epoch 22/100\n",
            " - 42s - loss: 0.5555 - acc: 0.8331 - val_loss: 0.5587 - val_acc: 0.8437\n",
            "Epoch 23/100\n",
            " - 42s - loss: 0.5598 - acc: 0.8316 - val_loss: 0.5476 - val_acc: 0.8477\n",
            "Epoch 24/100\n",
            " - 43s - loss: 0.5604 - acc: 0.8315 - val_loss: 0.5469 - val_acc: 0.8460\n",
            "Epoch 25/100\n",
            " - 48s - loss: 0.5573 - acc: 0.8341 - val_loss: 0.5494 - val_acc: 0.8477\n",
            "Epoch 26/100\n",
            " - 48s - loss: 0.5581 - acc: 0.8328 - val_loss: 0.5531 - val_acc: 0.8437\n",
            "Epoch 27/100\n",
            " - 48s - loss: 0.5601 - acc: 0.8337 - val_loss: 0.5458 - val_acc: 0.8440\n",
            "Epoch 28/100\n",
            " - 49s - loss: 0.5613 - acc: 0.8331 - val_loss: 0.5581 - val_acc: 0.8427\n",
            "Epoch 29/100\n",
            " - 48s - loss: 0.5598 - acc: 0.8343 - val_loss: 0.5412 - val_acc: 0.8483\n",
            "Epoch 30/100\n",
            " - 49s - loss: 0.5599 - acc: 0.8334 - val_loss: 0.5439 - val_acc: 0.8483\n",
            "Epoch 31/100\n",
            " - 44s - loss: 0.5570 - acc: 0.8327 - val_loss: 0.5505 - val_acc: 0.8470\n",
            "Epoch 32/100\n",
            " - 41s - loss: 0.5562 - acc: 0.8335 - val_loss: 0.5529 - val_acc: 0.8463\n",
            "Epoch 33/100\n",
            " - 41s - loss: 0.5585 - acc: 0.8342 - val_loss: 0.5478 - val_acc: 0.8463\n",
            "Epoch 34/100\n",
            " - 41s - loss: 0.5551 - acc: 0.8340 - val_loss: 0.5514 - val_acc: 0.8473\n",
            "Epoch 35/100\n",
            " - 41s - loss: 0.5621 - acc: 0.8318 - val_loss: 0.5557 - val_acc: 0.8440\n",
            "Epoch 36/100\n",
            " - 41s - loss: 0.5622 - acc: 0.8307 - val_loss: 0.5543 - val_acc: 0.8470\n",
            "Epoch 37/100\n",
            " - 41s - loss: 0.5570 - acc: 0.8312 - val_loss: 0.5463 - val_acc: 0.8490\n",
            "Epoch 38/100\n",
            " - 41s - loss: 0.5537 - acc: 0.8339 - val_loss: 0.5583 - val_acc: 0.8453\n",
            "Epoch 39/100\n",
            " - 41s - loss: 0.5591 - acc: 0.8344 - val_loss: 0.5477 - val_acc: 0.8487\n",
            "Epoch 40/100\n",
            " - 41s - loss: 0.5573 - acc: 0.8327 - val_loss: 0.5503 - val_acc: 0.8480\n",
            "Epoch 41/100\n",
            " - 42s - loss: 0.5534 - acc: 0.8336 - val_loss: 0.5518 - val_acc: 0.8467\n",
            "Epoch 42/100\n",
            " - 43s - loss: 0.5544 - acc: 0.8343 - val_loss: 0.5541 - val_acc: 0.8477\n",
            "Epoch 43/100\n",
            " - 43s - loss: 0.5554 - acc: 0.8335 - val_loss: 0.5467 - val_acc: 0.8457\n",
            "Epoch 44/100\n",
            " - 43s - loss: 0.5601 - acc: 0.8328 - val_loss: 0.5428 - val_acc: 0.8487\n",
            "Epoch 45/100\n",
            " - 43s - loss: 0.5564 - acc: 0.8331 - val_loss: 0.5551 - val_acc: 0.8447\n",
            "Epoch 46/100\n",
            " - 43s - loss: 0.5534 - acc: 0.8345 - val_loss: 0.5415 - val_acc: 0.8490\n",
            "Epoch 47/100\n",
            " - 43s - loss: 0.5536 - acc: 0.8335 - val_loss: 0.5510 - val_acc: 0.8453\n",
            "Epoch 48/100\n",
            " - 44s - loss: 0.5547 - acc: 0.8356 - val_loss: 0.5503 - val_acc: 0.8457\n",
            "Epoch 49/100\n",
            " - 44s - loss: 0.5581 - acc: 0.8326 - val_loss: 0.5456 - val_acc: 0.8470\n",
            "Epoch 50/100\n",
            " - 44s - loss: 0.5576 - acc: 0.8332 - val_loss: 0.5484 - val_acc: 0.8470\n",
            "Epoch 51/100\n",
            " - 43s - loss: 0.5538 - acc: 0.8334 - val_loss: 0.5429 - val_acc: 0.8497\n",
            "Epoch 52/100\n",
            " - 43s - loss: 0.5514 - acc: 0.8352 - val_loss: 0.5438 - val_acc: 0.8463\n",
            "Epoch 53/100\n",
            " - 45s - loss: 0.5517 - acc: 0.8359 - val_loss: 0.5515 - val_acc: 0.8447\n",
            "Epoch 54/100\n",
            " - 42s - loss: 0.5536 - acc: 0.8336 - val_loss: 0.5425 - val_acc: 0.8513\n",
            "Epoch 55/100\n",
            " - 42s - loss: 0.5555 - acc: 0.8331 - val_loss: 0.5467 - val_acc: 0.8493\n",
            "Epoch 56/100\n",
            " - 41s - loss: 0.5540 - acc: 0.8343 - val_loss: 0.5538 - val_acc: 0.8470\n",
            "Epoch 57/100\n",
            " - 43s - loss: 0.5511 - acc: 0.8352 - val_loss: 0.5518 - val_acc: 0.8457\n",
            "Epoch 58/100\n",
            " - 47s - loss: 0.5525 - acc: 0.8347 - val_loss: 0.5498 - val_acc: 0.8483\n",
            "Epoch 59/100\n",
            " - 49s - loss: 0.5552 - acc: 0.8336 - val_loss: 0.5460 - val_acc: 0.8460\n",
            "Epoch 60/100\n",
            " - 48s - loss: 0.5462 - acc: 0.8369 - val_loss: 0.5410 - val_acc: 0.8490\n",
            "Epoch 61/100\n",
            " - 48s - loss: 0.5547 - acc: 0.8333 - val_loss: 0.5506 - val_acc: 0.8453\n",
            "Epoch 62/100\n",
            " - 48s - loss: 0.5477 - acc: 0.8357 - val_loss: 0.5441 - val_acc: 0.8497\n",
            "Epoch 63/100\n",
            " - 49s - loss: 0.5558 - acc: 0.8335 - val_loss: 0.5506 - val_acc: 0.8460\n",
            "Epoch 64/100\n",
            " - 41s - loss: 0.5543 - acc: 0.8347 - val_loss: 0.5496 - val_acc: 0.8473\n",
            "Epoch 65/100\n",
            " - 41s - loss: 0.5512 - acc: 0.8351 - val_loss: 0.5447 - val_acc: 0.8480\n",
            "Epoch 66/100\n",
            " - 41s - loss: 0.5513 - acc: 0.8352 - val_loss: 0.5479 - val_acc: 0.8467\n",
            "Epoch 67/100\n",
            " - 41s - loss: 0.5523 - acc: 0.8337 - val_loss: 0.5410 - val_acc: 0.8493\n",
            "Epoch 68/100\n",
            " - 41s - loss: 0.5513 - acc: 0.8332 - val_loss: 0.5483 - val_acc: 0.8470\n",
            "Epoch 69/100\n",
            " - 41s - loss: 0.5496 - acc: 0.8357 - val_loss: 0.5434 - val_acc: 0.8477\n",
            "Epoch 70/100\n",
            " - 41s - loss: 0.5498 - acc: 0.8365 - val_loss: 0.5427 - val_acc: 0.8473\n",
            "Epoch 71/100\n",
            " - 41s - loss: 0.5490 - acc: 0.8379 - val_loss: 0.5337 - val_acc: 0.8507\n",
            "Epoch 72/100\n",
            " - 42s - loss: 0.5490 - acc: 0.8363 - val_loss: 0.5427 - val_acc: 0.8493\n",
            "Epoch 73/100\n",
            " - 41s - loss: 0.5497 - acc: 0.8330 - val_loss: 0.5453 - val_acc: 0.8447\n",
            "Epoch 74/100\n",
            " - 42s - loss: 0.5527 - acc: 0.8358 - val_loss: 0.5451 - val_acc: 0.8480\n",
            "Epoch 75/100\n",
            " - 43s - loss: 0.5469 - acc: 0.8369 - val_loss: 0.5545 - val_acc: 0.8447\n",
            "Epoch 76/100\n",
            " - 43s - loss: 0.5489 - acc: 0.8355 - val_loss: 0.5480 - val_acc: 0.8467\n",
            "Epoch 77/100\n",
            " - 43s - loss: 0.5504 - acc: 0.8353 - val_loss: 0.5435 - val_acc: 0.8490\n",
            "Epoch 78/100\n",
            " - 43s - loss: 0.5494 - acc: 0.8348 - val_loss: 0.5391 - val_acc: 0.8497\n",
            "Epoch 79/100\n",
            " - 43s - loss: 0.5443 - acc: 0.8358 - val_loss: 0.5421 - val_acc: 0.8500\n",
            "Epoch 80/100\n",
            " - 43s - loss: 0.5443 - acc: 0.8372 - val_loss: 0.5425 - val_acc: 0.8483\n",
            "Epoch 81/100\n",
            " - 44s - loss: 0.5478 - acc: 0.8368 - val_loss: 0.5484 - val_acc: 0.8470\n",
            "Epoch 82/100\n",
            " - 43s - loss: 0.5570 - acc: 0.8322 - val_loss: 0.5402 - val_acc: 0.8493\n",
            "Epoch 83/100\n",
            " - 43s - loss: 0.5471 - acc: 0.8351 - val_loss: 0.5392 - val_acc: 0.8490\n",
            "Epoch 84/100\n",
            " - 42s - loss: 0.5506 - acc: 0.8358 - val_loss: 0.5408 - val_acc: 0.8483\n",
            "Epoch 85/100\n",
            " - 46s - loss: 0.5472 - acc: 0.8348 - val_loss: 0.5437 - val_acc: 0.8473\n",
            "Epoch 86/100\n",
            " - 42s - loss: 0.5532 - acc: 0.8335 - val_loss: 0.5400 - val_acc: 0.8460\n",
            "Epoch 87/100\n",
            " - 43s - loss: 0.5495 - acc: 0.8338 - val_loss: 0.5392 - val_acc: 0.8463\n",
            "Epoch 88/100\n",
            " - 42s - loss: 0.5480 - acc: 0.8352 - val_loss: 0.5370 - val_acc: 0.8497\n",
            "Epoch 89/100\n",
            " - 47s - loss: 0.5528 - acc: 0.8356 - val_loss: 0.5411 - val_acc: 0.8487\n",
            "Epoch 90/100\n",
            " - 51s - loss: 0.5463 - acc: 0.8347 - val_loss: 0.5434 - val_acc: 0.8457\n",
            "Epoch 91/100\n",
            " - 49s - loss: 0.5499 - acc: 0.8348 - val_loss: 0.5393 - val_acc: 0.8490\n",
            "Epoch 92/100\n",
            " - 50s - loss: 0.5509 - acc: 0.8341 - val_loss: 0.5410 - val_acc: 0.8480\n",
            "Epoch 93/100\n",
            " - 50s - loss: 0.5498 - acc: 0.8347 - val_loss: 0.5372 - val_acc: 0.8507\n",
            "Epoch 94/100\n",
            " - 48s - loss: 0.5497 - acc: 0.8360 - val_loss: 0.5428 - val_acc: 0.8473\n",
            "Epoch 95/100\n",
            " - 41s - loss: 0.5420 - acc: 0.8380 - val_loss: 0.5420 - val_acc: 0.8483\n",
            "Epoch 96/100\n",
            " - 41s - loss: 0.5461 - acc: 0.8354 - val_loss: 0.5546 - val_acc: 0.8470\n",
            "Epoch 97/100\n",
            " - 41s - loss: 0.5459 - acc: 0.8352 - val_loss: 0.5491 - val_acc: 0.8463\n",
            "Epoch 98/100\n",
            " - 41s - loss: 0.5464 - acc: 0.8356 - val_loss: 0.5365 - val_acc: 0.8510\n",
            "Epoch 99/100\n",
            " - 41s - loss: 0.5495 - acc: 0.8348 - val_loss: 0.5358 - val_acc: 0.8503\n",
            "Epoch 100/100\n",
            " - 41s - loss: 0.5460 - acc: 0.8365 - val_loss: 0.5477 - val_acc: 0.8477\n"
          ],
          "name": "stdout"
        }
      ]
    },
    {
      "metadata": {
        "id": "wi5-j408ndu_",
        "colab_type": "code",
        "colab": {}
      },
      "cell_type": "code",
      "source": [
        "model.save_weights"
      ],
      "execution_count": 0,
      "outputs": []
    },
    {
      "metadata": {
        "id": "Guh3tSXVaXaw",
        "colab_type": "code",
        "colab": {
          "base_uri": "https://localhost:8080/",
          "height": 376
        },
        "outputId": "7a3d2951-3452-4fa4-bce8-eff33044f9f2"
      },
      "cell_type": "code",
      "source": [
        "plt.plot(history.history['loss'])\n",
        "\n",
        "plt.title('model loss')\n",
        "plt.ylabel('loss')\n",
        "plt.xlabel('epoch')\n",
        "plt.legend(['train'], loc='upper left')\n",
        "plt.show()"
      ],
      "execution_count": 40,
      "outputs": [
        {
          "output_type": "display_data",
          "data": {
            "image/png": "[encoded data removed]",
            "text/plain": [
              "<matplotlib.figure.Figure at 0x7f014f9d6438>"
            ]
          },
          "metadata": {
            "tags": []
          }
        }
      ]
    },
    {
      "metadata": {
        "id": "SE4wqSVKndTK",
        "colab_type": "code",
        "colab": {
          "base_uri": "https://localhost:8080/",
          "height": 34
        },
        "outputId": "f638fd7e-0bee-4944-ccc6-9e80f4c4cbdd"
      },
      "cell_type": "code",
      "source": [
        "model.save_weights"
      ],
      "execution_count": 41,
      "outputs": [
        {
          "output_type": "execute_result",
          "data": {
            "text/plain": [
              "<bound method Sequential.save_weights of <keras.models.Sequential object at 0x7f014e6a5b70>>"
            ]
          },
          "metadata": {
            "tags": []
          },
          "execution_count": 41
        }
      ]
    },
    {
      "metadata": {
        "id": "mu2YRNDQQ89y",
        "colab_type": "code",
        "colab": {
          "base_uri": "https://localhost:8080/",
          "height": 51
        },
        "outputId": "7da8ba58-fce4-4b19-c51e-bcd9ea871328"
      },
      "cell_type": "code",
      "source": [
        "loss_and_metrics = model.evaluate(X_test, y_test, batch_size=64)\n",
        "print(loss_and_metrics)"
      ],
      "execution_count": 43,
      "outputs": [
        {
          "output_type": "stream",
          "text": [
            "3000/3000 [==============================] - 0s 162us/step\n",
            "[0.5416899622281393, 0.8440000004768372]\n"
          ],
          "name": "stdout"
        }
      ]
    }
  ]
}