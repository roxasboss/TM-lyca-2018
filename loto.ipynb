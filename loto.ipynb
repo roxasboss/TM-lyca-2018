{
  "nbformat": 4,
  "nbformat_minor": 0,
  "metadata": {
    "colab": {
      "name": "loto.ipynb",
      "version": "0.3.2",
      "provenance": [],
      "include_colab_link": true
    },
    "kernelspec": {
      "name": "python3",
      "display_name": "Python 3"
    },
    "accelerator": "TPU"
  },
  "cells": [
    {
      "cell_type": "markdown",
      "metadata": {
        "id": "view-in-github",
        "colab_type": "text"
      },
      "source": [
        "<a href=\"https://colab.research.google.com/github/roxasboss/TM-lyca-2018/blob/master/loto.ipynb\" target=\"_parent\"><img src=\"https://colab.research.google.com/assets/colab-badge.svg\" alt=\"Open In Colab\"/></a>"
      ]
    },
    {
      "metadata": {
        "id": "agzt9kHyn_vZ",
        "colab_type": "code",
        "colab": {}
      },
      "cell_type": "code",
      "source": [
        "import tensorflow as tf \n",
        "import pandas as pd\n",
        "import os\n",
        "from datetime import datetime, timedelta  \n",
        "import time  \n",
        "from collections import namedtuple  \n",
        "import pandas as pd \n",
        "import requests  \n",
        "import matplotlib.pyplot as plt  \n",
        "import numpy as np"
      ],
      "execution_count": 0,
      "outputs": []
    },
    {
      "metadata": {
        "id": "KrRe20Q44uoF",
        "colab_type": "code",
        "colab": {}
      },
      "cell_type": "code",
      "source": [
        "from google.colab import files\n",
        "uploaded = files.upload()"
      ],
      "execution_count": 0,
      "outputs": []
    },
    {
      "metadata": {
        "id": "0eR9Ol9Y4uto",
        "colab_type": "code",
        "colab": {}
      },
      "cell_type": "code",
      "source": [
        "for fn in uploaded.keys():\n",
        "  print('User uploaded file \"{name}\" with length {length} bytes'.format(name=fn, length=len(uploaded[fn])))"
      ],
      "execution_count": 0,
      "outputs": []
    },
    {
      "metadata": {
        "id": "pAfOesLG072f",
        "colab_type": "code",
        "colab": {}
      },
      "cell_type": "code",
      "source": [
        "import pandas as pd\n",
        "import io\n",
        "df = pd.read_csv(io.StringIO(uploaded['Loto_NY_since2001.csv'].decode('utf-8')))"
      ],
      "execution_count": 0,
      "outputs": []
    },
    {
      "metadata": {
        "id": "mIVrZ7kg5dpE",
        "colab_type": "code",
        "colab": {}
      },
      "cell_type": "code",
      "source": [
        "df.columns = ['Date', 'Numbers', 'Bonus','Extra']\n",
        "#créer une collone pour chaque nombre : nombre 1, nombre 2,...\n",
        "#créer une collone pour chaque nombre : nombre 1, nombre 2,...\n",
        "#créer une collone pour chaque nombre : nombre 1, nombre 2,...\n",
        "#créer une collone pour chaque nombre : nombre 1, nombre 2,...\n",
        "df = df.drop([\"Date\"], axis=1)\n",
        "df = df.drop([\"Extra\"], axis=1)\n"
      ],
      "execution_count": 0,
      "outputs": []
    },
    {
      "metadata": {
        "id": "agilBn63fUIt",
        "colab_type": "code",
        "colab": {}
      },
      "cell_type": "code",
      "source": [
        "print(df)"
      ],
      "execution_count": 0,
      "outputs": []
    },
    {
      "metadata": {
        "id": "k82GaMzCa9Xn",
        "colab_type": "code",
        "colab": {}
      },
      "cell_type": "code",
      "source": [
        "s = pd.Series([['01','15','24','31','34','44']])\n",
        "s1 = pd.Series(['1.0', '2', -3])\n",
        "s.apply(pd.Series).stack().tolist()\n",
        "print(s)\n",
        "#créer une collone pour chaque nombre : nombre 1, nombre 2,...\n",
        "#créer une collone pour chaque nombre : nombre 1, nombre 2,...\n",
        "#créer une collone pour chaque nombre : nombre 1, nombre 2,...\n",
        "#créer une collone pour chaque nombre : nombre 1, nombre 2,..."
      ],
      "execution_count": 0,
      "outputs": []
    },
    {
      "metadata": {
        "id": "iVSfY8GubHoJ",
        "colab_type": "code",
        "colab": {}
      },
      "cell_type": "code",
      "source": [
        "s = s.str.split(expand=True)\n",
        "print(s)\n",
        "#print(pd.to_numeric(s, errors='coerce'))\n",
        "print(pd.to_numeric(s1, errors='coerce'))\n",
        "#créer une collone pour chaque nombre : nombre 1, nombre 2,...\n",
        "#créer une collone pour chaque nombre : nombre 1, nombre 2,...\n",
        "#créer une collone pour chaque nombre : nombre 1, nombre 2,..."
      ],
      "execution_count": 0,
      "outputs": []
    },
    {
      "metadata": {
        "id": "7mDUy3Rbd_5B",
        "colab_type": "code",
        "colab": {}
      },
      "cell_type": "code",
      "source": [
        ""
      ],
      "execution_count": 0,
      "outputs": []
    },
    {
      "metadata": {
        "id": "tZbnWiWlX2KS",
        "colab_type": "code",
        "colab": {}
      },
      "cell_type": "code",
      "source": [
        "#on ne peut pas ultiser pd.to_numeric(transformer un objet en nombre flotant) avec des array\n",
        "#on peut cependant séparer les arrays en colonnes puis pd.to_numeric et réassambler si on veut garder les array\n",
        "df2= df[\"Numbers\"].str.split(expand=True)\n",
        "#df2.apply(pd.Series).stack().tolist()\n",
        "#df2 =pd.to_numeric(df2, errors='coerce')\n",
        "#print(np.array(df2[1]))\n",
        "print(df2[1])\n",
        "print(df2)"
      ],
      "execution_count": 0,
      "outputs": []
    },
    {
      "metadata": {
        "id": "wOI8PwyJ5BRp",
        "colab_type": "code",
        "colab": {}
      },
      "cell_type": "code",
      "source": [
        "df2.columns = [\"1er numéro\", '2ème numéro', '3ème numéro','4ème numéro',\"5ème numéro\",\"6ème numéro\"]"
      ],
      "execution_count": 0,
      "outputs": []
    },
    {
      "metadata": {
        "id": "HUkQqlQ4Djmu",
        "colab_type": "code",
        "colab": {}
      },
      "cell_type": "code",
      "source": [
        "print(df2[\"1er numéro\"][1])"
      ],
      "execution_count": 0,
      "outputs": []
    },
    {
      "metadata": {
        "id": "j7c1P_NCEAXM",
        "colab_type": "code",
        "colab": {}
      },
      "cell_type": "code",
      "source": [
        "df2 = df2.dropna()"
      ],
      "execution_count": 0,
      "outputs": []
    },
    {
      "metadata": {
        "id": "3BRKufEeEKuM",
        "colab_type": "code",
        "colab": {}
      },
      "cell_type": "code",
      "source": [
        "print(df2)"
      ],
      "execution_count": 0,
      "outputs": []
    },
    {
      "metadata": {
        "id": "xXDTL60YFfF_",
        "colab_type": "code",
        "colab": {}
      },
      "cell_type": "code",
      "source": [
        "df = df.drop([\"Numbers\"], axis=1)"
      ],
      "execution_count": 0,
      "outputs": []
    },
    {
      "metadata": {
        "id": "_gnM7cj8FlQL",
        "colab_type": "code",
        "colab": {}
      },
      "cell_type": "code",
      "source": [
        "df2.reset_index(drop=True, inplace=True)\n",
        "df.reset_index(drop=True, inplace=True)"
      ],
      "execution_count": 0,
      "outputs": []
    },
    {
      "metadata": {
        "id": "OUYcROOj6NPq",
        "colab_type": "code",
        "colab": {}
      },
      "cell_type": "code",
      "source": [
        "df3 = [df2, df]"
      ],
      "execution_count": 0,
      "outputs": []
    },
    {
      "metadata": {
        "id": "5OgSg4mTEOxt",
        "colab_type": "code",
        "colab": {}
      },
      "cell_type": "code",
      "source": [
        "print(df3)"
      ],
      "execution_count": 0,
      "outputs": []
    },
    {
      "metadata": {
        "id": "8SMTHFmyE58r",
        "colab_type": "code",
        "colab": {}
      },
      "cell_type": "code",
      "source": [
        "#df3.reset_index(drop=True, inplace=True)\n",
        "#df[\"Bonus\"].reset_index(drop=True, inplace=True)"
      ],
      "execution_count": 0,
      "outputs": []
    },
    {
      "metadata": {
        "id": "hCEv0jej6mXc",
        "colab_type": "code",
        "colab": {}
      },
      "cell_type": "code",
      "source": [
        "df3 = pd.concat(df3,axis=1)"
      ],
      "execution_count": 0,
      "outputs": []
    },
    {
      "metadata": {
        "id": "ZQoIjzRy6xUv",
        "colab_type": "code",
        "colab": {}
      },
      "cell_type": "code",
      "source": [
        "df3.columns = [\"1er numéro\", '2ème numéro', '3ème numéro','4ème numéro',\"5ème numéro\",\"6ème numéro\",\"Numéro bonus\"]"
      ],
      "execution_count": 0,
      "outputs": []
    },
    {
      "metadata": {
        "id": "DU2vXtkF6rdZ",
        "colab_type": "code",
        "colab": {}
      },
      "cell_type": "code",
      "source": [
        "df3.info()"
      ],
      "execution_count": 0,
      "outputs": []
    },
    {
      "metadata": {
        "id": "V1NjAZKT7GhU",
        "colab_type": "code",
        "colab": {}
      },
      "cell_type": "code",
      "source": [
        "#df3[\"1er numéro\"] = pd.to_numeric(df3[\"1er numéro\"], errors='coerce')\n",
        "df3 = df3.apply(pd.to_numeric, errors=\"coerce\")"
      ],
      "execution_count": 0,
      "outputs": []
    },
    {
      "metadata": {
        "id": "SWQuaJNPSO26",
        "colab_type": "code",
        "colab": {}
      },
      "cell_type": "code",
      "source": [
        "df3 = df3.dropna()\n"
      ],
      "execution_count": 0,
      "outputs": []
    },
    {
      "metadata": {
        "id": "V4eyLHZ17ZLy",
        "colab_type": "code",
        "colab": {}
      },
      "cell_type": "code",
      "source": [
        "print(df3)"
      ],
      "execution_count": 0,
      "outputs": []
    },
    {
      "metadata": {
        "id": "1YV2X3S-5_4p",
        "colab_type": "code",
        "colab": {}
      },
      "cell_type": "code",
      "source": [
        "print(df3[\"1er numéro\"][0])"
      ],
      "execution_count": 0,
      "outputs": []
    },
    {
      "metadata": {
        "id": "GvC_kwBaLxBH",
        "colab_type": "code",
        "colab": {}
      },
      "cell_type": "code",
      "source": [
        "\n"
      ],
      "execution_count": 0,
      "outputs": []
    },
    {
      "metadata": {
        "id": "I9gRGLH9L4v6",
        "colab_type": "code",
        "colab": {}
      },
      "cell_type": "code",
      "source": [
        ""
      ],
      "execution_count": 0,
      "outputs": []
    },
    {
      "metadata": {
        "id": "NSjrZ9X66qVv",
        "colab_type": "code",
        "colab": {}
      },
      "cell_type": "code",
      "source": [
        ""
      ],
      "execution_count": 0,
      "outputs": []
    },
    {
      "metadata": {
        "id": "MU96OctCAkwJ",
        "colab_type": "code",
        "colab": {}
      },
      "cell_type": "code",
      "source": [
        ""
      ],
      "execution_count": 0,
      "outputs": []
    },
    {
      "metadata": {
        "id": "7VL3eyC6odh5",
        "colab_type": "code",
        "colab": {}
      },
      "cell_type": "code",
      "source": [
        ""
      ],
      "execution_count": 0,
      "outputs": []
    },
    {
      "metadata": {
        "id": "ABE7l_H55FBX",
        "colab_type": "code",
        "colab": {}
      },
      "cell_type": "code",
      "source": [
        ""
      ],
      "execution_count": 0,
      "outputs": []
    },
    {
      "metadata": {
        "id": "J-R2sHJH5Ops",
        "colab_type": "code",
        "colab": {}
      },
      "cell_type": "code",
      "source": [
        ""
      ],
      "execution_count": 0,
      "outputs": []
    },
    {
      "metadata": {
        "id": "Vptglp36siY_",
        "colab_type": "code",
        "colab": {}
      },
      "cell_type": "code",
      "source": [
        "df = df.drop([\"Extra #\"], axis=1)\n",
        "df.info()"
      ],
      "execution_count": 0,
      "outputs": []
    },
    {
      "metadata": {
        "id": "MYB-MdZl-052",
        "colab_type": "code",
        "colab": {}
      },
      "cell_type": "code",
      "source": [
        "features = [ \"1er numéro\", '2ème numéro', '3ème numéro','4ème numéro',\"5ème numéro\",\"6ème numéro\",\"Numéro bonus\"]\n"
      ],
      "execution_count": 0,
      "outputs": []
    },
    {
      "metadata": {
        "id": "nJ1vaNmGmMb0",
        "colab_type": "code",
        "colab": {}
      },
      "cell_type": "code",
      "source": [
        "def derive_nth_day_feature(df, feature, N):\n",
        "    rows = df.shape[0]\n",
        "    nth_prior_measurements = [None]*N + [df[feature][i-N] for i in range(N, rows)]\n",
        "    col_name = col_name = \"{}_{}\".format(feature, N)\n",
        "    df[col_name] = nth_prior_measurements\n",
        "for feature in features:\n",
        "    if feature != 'Numéro bonus':\n",
        "        for N in range(1,5):\n",
        "            derive_nth_day_feature(df3, feature, N)    \n",
        "    "
      ],
      "execution_count": 0,
      "outputs": []
    },
    {
      "metadata": {
        "id": "JSUCCgv7jcm7",
        "colab_type": "code",
        "colab": {}
      },
      "cell_type": "code",
      "source": [
        "df3 = df3.dropna()"
      ],
      "execution_count": 0,
      "outputs": []
    },
    {
      "metadata": {
        "id": "-VkuZbjojhHS",
        "colab_type": "code",
        "colab": {}
      },
      "cell_type": "code",
      "source": [
        "print(df3)"
      ],
      "execution_count": 0,
      "outputs": []
    },
    {
      "metadata": {
        "id": "atoQEKMkgevA",
        "colab_type": "code",
        "colab": {}
      },
      "cell_type": "code",
      "source": [
        "df4 = df3[[\"1er numéro\", '2ème numéro', '3ème numéro','4ème numéro',\"5ème numéro\",\"6ème numéro\",\"Numéro bonus\"]]"
      ],
      "execution_count": 0,
      "outputs": []
    },
    {
      "metadata": {
        "id": "871qELYQhZLK",
        "colab_type": "code",
        "colab": {}
      },
      "cell_type": "code",
      "source": [
        "ddf3 = df3.drop([\"1er numéro\", '2ème numéro', '3ème numéro','4ème numéro',\"5ème numéro\",\"6ème numéro\",\"Numéro bonus\"], axis=1)"
      ],
      "execution_count": 0,
      "outputs": []
    },
    {
      "metadata": {
        "id": "UjXpxNugexaO",
        "colab_type": "code",
        "colab": {}
      },
      "cell_type": "code",
      "source": [
        "X = df3[[col for col in df3.columns]]\n",
        "y = df4"
      ],
      "execution_count": 0,
      "outputs": []
    },
    {
      "metadata": {
        "id": "IahHA8IEgQwy",
        "colab_type": "code",
        "colab": {}
      },
      "cell_type": "code",
      "source": [
        "y.info()"
      ],
      "execution_count": 0,
      "outputs": []
    },
    {
      "metadata": {
        "id": "WOJ8yYG9icXr",
        "colab_type": "code",
        "colab": {}
      },
      "cell_type": "code",
      "source": [
        "X.info()"
      ],
      "execution_count": 0,
      "outputs": []
    },
    {
      "metadata": {
        "id": "3PxND-Jn_ROT",
        "colab_type": "code",
        "colab": {}
      },
      "cell_type": "code",
      "source": [
        "df.info()"
      ],
      "execution_count": 0,
      "outputs": []
    },
    {
      "metadata": {
        "id": "V3rdC1ToOdt9",
        "colab_type": "code",
        "colab": {}
      },
      "cell_type": "code",
      "source": [
        "df = df.apply(pd.to_numeric, errors=\"coerce\")\n",
        "df = df.dropna()"
      ],
      "execution_count": 0,
      "outputs": []
    },
    {
      "metadata": {
        "id": "b2vz-bHxPbn_",
        "colab_type": "code",
        "colab": {}
      },
      "cell_type": "code",
      "source": [
        "keep = [\"boule_1\",\"boule_2\",\"boule_3\",\"boule_4\",\"boule_5\"]\n",
        "to_keep = [col for col in df.columns if col in keep]\n",
        "\n",
        "df = df[to_keep]"
      ],
      "execution_count": 0,
      "outputs": []
    },
    {
      "metadata": {
        "id": "ugreS9zVDoDQ",
        "colab_type": "code",
        "colab": {}
      },
      "cell_type": "code",
      "source": [
        "df = df.drop([\"Draw Date\"], axis=1)"
      ],
      "execution_count": 0,
      "outputs": []
    },
    {
      "metadata": {
        "id": "Ty-nTu-FC4RK",
        "colab_type": "code",
        "colab": {}
      },
      "cell_type": "code",
      "source": [
        "keep = [\"Winning Numbers\",\"Bonus #\"]\n",
        "not_keep = [\"Winning Numbers\", \"Bonus #\"]\n",
        "X = df[[col for col in df.columns if col not in not_keep ]]\n",
        "y = df[keep]\n",
        "X = X.values\n",
        "y = y.values"
      ],
      "execution_count": 0,
      "outputs": []
    },
    {
      "metadata": {
        "id": "LqAKuRK6E4Ve",
        "colab_type": "code",
        "colab": {}
      },
      "cell_type": "code",
      "source": [
        "for i in df[\"Winning Numbers\"]:\n",
        "  t = 0\n",
        "  np.array(df[\"Winning Numbers\"][t])\n",
        "  t += 1\n",
        " \n"
      ],
      "execution_count": 0,
      "outputs": []
    },
    {
      "metadata": {
        "id": "BsUBttGVJAPp",
        "colab_type": "code",
        "colab": {}
      },
      "cell_type": "code",
      "source": [
        "print(X)"
      ],
      "execution_count": 0,
      "outputs": []
    },
    {
      "metadata": {
        "id": "XCV6B_uzJm4w",
        "colab_type": "code",
        "colab": {}
      },
      "cell_type": "code",
      "source": [
        "y = df\n",
        "df3 = [df2, df[\"Bonus\"]]\n",
        "df3 = pd.concat(df3)"
      ],
      "execution_count": 0,
      "outputs": []
    },
    {
      "metadata": {
        "id": "NyPXhoBkCzmc",
        "colab_type": "code",
        "colab": {}
      },
      "cell_type": "code",
      "source": [
        "import keras\n",
        "import numpy as np\n",
        "from keras.models import Sequential\n",
        "import keras.callbacks as cb\n",
        "from keras.datasets import mnist\n",
        "\n",
        "from keras.layers import Dense, Dropout,Activation\n",
        "from keras.optimizers import RMSprop\n",
        "from IPython.display import SVG\n",
        "from keras.utils.vis_utils import model_to_dot\n",
        "\n",
        "import tensorflow as tf"
      ],
      "execution_count": 0,
      "outputs": []
    },
    {
      "metadata": {
        "id": "ZpdXLZFxEc2p",
        "colab_type": "code",
        "colab": {}
      },
      "cell_type": "code",
      "source": [
        "from sklearn.metrics import explained_variance_score,mean_absolute_error,median_absolute_error\n",
        "from sklearn.model_selection import train_test_split  \n",
        "\n",
        "class LossHistory(cb.Callback):\n",
        "    def on_train_begin(self, logs={}):\n",
        "        self.losses = []\n",
        "\n",
        "    def on_batch_end(self, batch, logs={}):\n",
        "        batch_loss = logs.get('loss')\n",
        "        self.losses.append(batch_loss)\n",
        "\n",
        "        \n",
        "        \n",
        "history = LossHistory()\n",
        "X_train, X_tmp, y_train, y_tmp = train_test_split(X, y, test_size=0.2, random_state=23)\n",
        "X_test, X_val, y_test, y_val = train_test_split(X_tmp, y_tmp, test_size=0.5, random_state=23)\n",
        "\n",
        "X_train.shape, X_test.shape, X_val.shape  \n",
        "print(\"Training instances   {}, Training features   {}\".format(X_train.shape[0], X_train.shape[1]))  \n",
        "print(\"Validation instances {}, Validation features {}\".format(X_val.shape[0], X_val.shape[1]))  \n",
        "print(\"Testing instances    {}, Testing features    {}\".format(X_test.shape[0], X_test.shape[1]))"
      ],
      "execution_count": 0,
      "outputs": []
    },
    {
      "metadata": {
        "id": "IjyVAdfBEhC8",
        "colab_type": "code",
        "colab": {}
      },
      "cell_type": "code",
      "source": [
        "#soit un réseau de neurone pour chaque nombre soit array en output en réassablant les colones(merge)\n",
        "model = Sequential()\n",
        "\n",
        "\n",
        "model.add(Dense(10,kernel_initializer='normal',activation = \"relu\",input_dim=24))\n",
        "#model.add(Dense(64, kernel_initializer='normal',activation=\"relu\"))\n",
        "#model.add(Dense(10,kernel_initializer='normal',activation = \"relu\"))\n",
        "#model.add(Dense(10, kernel_initializer='normal',activation=\"relu\"))\n",
        "model.add(Dense(7, kernel_initializer='normal',activation=\"linear\"))\n",
        "model.compile(optimizer='adagrad',loss='MAE', metrics=['accuracy'])\n",
        "model.summary()\n"
      ],
      "execution_count": 0,
      "outputs": []
    },
    {
      "metadata": {
        "id": "JYRTch0mEr-N",
        "colab_type": "code",
        "colab": {}
      },
      "cell_type": "code",
      "source": [
        "history = model.fit(X_train,y_train,batch_size =64, epochs =100, verbose =2 , validation_data=(X_test, y_test))"
      ],
      "execution_count": 0,
      "outputs": []
    },
    {
      "metadata": {
        "id": "w3ugOpxzjRY4",
        "colab_type": "code",
        "colab": {}
      },
      "cell_type": "code",
      "source": [
        "import matplotlib.pyplot as plt\n",
        "\n",
        "\n",
        "\n",
        "plt.plot(history.history['loss'])\n",
        "\n",
        "plt.title('model loss')\n",
        "plt.ylabel('loss')\n",
        "plt.xlabel('epoch')\n",
        "plt.legend(['train'], loc='upper left')\n",
        "plt.show()"
      ],
      "execution_count": 0,
      "outputs": []
    },
    {
      "metadata": {
        "id": "gQkXgaQWjzix",
        "colab_type": "code",
        "colab": {}
      },
      "cell_type": "code",
      "source": [
        "print(X_val)"
      ],
      "execution_count": 0,
      "outputs": []
    },
    {
      "metadata": {
        "id": "ftBXxSWSjd2-",
        "colab_type": "code",
        "colab": {}
      },
      "cell_type": "code",
      "source": [
        "model.predict(X_val,steps = 1)"
      ],
      "execution_count": 0,
      "outputs": []
    },
    {
      "metadata": {
        "id": "q446pdWnj6ef",
        "colab_type": "code",
        "colab": {}
      },
      "cell_type": "code",
      "source": [
        "print(y_val)"
      ],
      "execution_count": 0,
      "outputs": []
    },
    {
      "metadata": {
        "id": "PeB8J3GgjhJ1",
        "colab_type": "code",
        "colab": {}
      },
      "cell_type": "code",
      "source": [
        "prediction = model.predict(X_val,steps = 1)\n",
        "mean_error = abs((y_val-prediction))\n",
        "print(\"mean absolute error: \")\n",
        "print(mean_error.mean())\n",
        "print(\"median: \")\n",
        "#print(median_absolute_error(y_val, prediction))"
      ],
      "execution_count": 0,
      "outputs": []
    }
  ]
}