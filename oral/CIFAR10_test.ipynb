{
  "nbformat": 4,
  "nbformat_minor": 0,
  "metadata": {
    "colab": {
      "name": " CIFAR10 test.ipynb",
      "version": "0.3.2",
      "provenance": [],
      "include_colab_link": true
    },
    "kernelspec": {
      "name": "python3",
      "display_name": "Python 3"
    },
    "accelerator": "GPU"
  },
  "cells": [
    {
      "cell_type": "markdown",
      "metadata": {
        "id": "view-in-github",
        "colab_type": "text"
      },
      "source": [
        "<a href=\"https://colab.research.google.com/github/roxasboss/TM-lyca-2018/blob/master/CIFAR10_test.ipynb\" target=\"_parent\"><img src=\"https://colab.research.google.com/assets/colab-badge.svg\" alt=\"Open In Colab\"/></a>"
      ]
    },
    {
      "metadata": {
        "id": "z4UUaJRmynyL",
        "colab_type": "code",
        "colab": {
          "base_uri": "https://localhost:8080/",
          "height": 68
        },
        "outputId": "a212ee0b-9277-424b-fb0d-dcd496db3200"
      },
      "cell_type": "code",
      "source": [
        "import keras\n",
        "from keras.models import Sequential\n",
        "from keras.utils import np_utils\n",
        "from keras.preprocessing.image import ImageDataGenerator\n",
        "from keras.layers import Dense, Activation, Flatten, Dropout, BatchNormalization\n",
        "from keras.layers import Conv2D, MaxPooling2D\n",
        "from keras.datasets import cifar10\n",
        "from keras.datasets import cifar100\n",
        "from keras import regularizers, optimizers\n",
        "import numpy as np\n",
        "from keras.optimizers import RMSprop\n",
        "\n",
        "from keras.utils.np_utils import to_categorical\n",
        "\n",
        "(x_train, y_train), (x_test, y_test) = cifar10.load_data()\n",
        "\n",
        "#(X, y)= cifar10.load_data()\n",
        "#X = X.astype(\"float32\")\n",
        "#y = y.astype(\"float32\")\n",
        "\n",
        "#x_train = x_train/255.0\n",
        "#y = y/255.0\n",
        "\n",
        "#print(x_train)\n",
        "print(x_train.shape)\n",
        "X = np.concatenate([x_train, x_test])\n",
        "print(X.shape)\n",
        "\n",
        "y = np.concatenate([y_train, y_test])\n",
        "print(y.shape)\n",
        "\n",
        "#labels\n",
        "# Encode labels to one hot vectors (ex : cat -> [0,0,1,0,0,0,0,0,0,0])\n",
        "\n",
        "y = to_categorical(y,num_classes=10)\n",
        "    \n",
        "\n",
        "X = X.astype(\"float32\")\n",
        "#normalization \n",
        "X = X/255.0"
      ],
      "execution_count": 48,
      "outputs": [
        {
          "output_type": "stream",
          "text": [
            "(50000, 32, 32, 3)\n",
            "(60000, 32, 32, 3)\n",
            "(60000, 1)\n"
          ],
          "name": "stdout"
        }
      ]
    },
    {
      "metadata": {
        "id": "Sf5R4iR9fcDS",
        "colab_type": "code",
        "colab": {
          "base_uri": "https://localhost:8080/",
          "height": 68
        },
        "outputId": "7303ac1d-fde0-47ea-acfd-af6c6720f138"
      },
      "cell_type": "code",
      "source": [
        "#split the data\n",
        "\n",
        "\n",
        "from sklearn.metrics import explained_variance_score,mean_absolute_error,median_absolute_error\n",
        "from sklearn.model_selection import train_test_split  \n",
        "\n",
        "\n",
        "\n",
        "X_train, X_tmp, y_train, y_tmp = train_test_split(X, y, test_size=0.1, random_state=23)\n",
        "X_test, X_val, y_test, y_val = train_test_split(X_tmp, y_tmp, test_size=0.5, random_state=23)\n",
        "\n",
        "X_train.shape, X_test.shape, X_val.shape  \n",
        "print(\"Training instances   {}, Training features   {}\".format(X_train.shape[0], X_train.shape[1]))  \n",
        "print(\"Validation instances {}, Validation features {}\".format(X_val.shape[0], X_val.shape[1]))  \n",
        "print(\"Testing instances    {}, Testing features    {}\".format(X_test.shape[0], X_test.shape[1]))\n",
        " \n"
      ],
      "execution_count": 49,
      "outputs": [
        {
          "output_type": "stream",
          "text": [
            "Training instances   54000, Training features   32\n",
            "Validation instances 3000, Validation features 32\n",
            "Testing instances    3000, Testing features    32\n"
          ],
          "name": "stdout"
        }
      ]
    },
    {
      "metadata": {
        "id": "fIYbLvWwqRhA",
        "colab_type": "code",
        "colab": {
          "base_uri": "https://localhost:8080/",
          "height": 364
        },
        "outputId": "3c2f2d1a-298d-46e0-c477-d20af0effdc3"
      },
      "cell_type": "code",
      "source": [
        "import matplotlib.pyplot as plt\n",
        "import matplotlib.image as mpimg\n",
        "\n",
        "plt.imshow(X_train[0])\n",
        "print(X_train[0].shape)"
      ],
      "execution_count": 56,
      "outputs": [
        {
          "output_type": "stream",
          "text": [
            "(32, 32, 3)\n"
          ],
          "name": "stdout"
        },
        {
          "output_type": "display_data",
          "data": {
            "image/png": "[encoded data removed]",
            "text/plain": [
              "<matplotlib.figure.Figure at 0x7f8831044518>"
            ]
          },
          "metadata": {
            "tags": []
          }
        }
      ]
    },
    {
      "metadata": {
        "id": "srR8f1N9TZHE",
        "colab_type": "code",
        "colab": {
          "base_uri": "https://localhost:8080/",
          "height": 34
        },
        "outputId": "0d4faa7b-558f-43ab-df74-1a6ba6b6bf11"
      },
      "cell_type": "code",
      "source": [
        "print(X_train.shape)"
      ],
      "execution_count": 51,
      "outputs": [
        {
          "output_type": "stream",
          "text": [
            "(54000, 32, 32, 3)\n"
          ],
          "name": "stdout"
        }
      ]
    },
    {
      "metadata": {
        "id": "3Ja9o6-nq9Kx",
        "colab_type": "code",
        "colab": {
          "base_uri": "https://localhost:8080/",
          "height": 612
        },
        "outputId": "ab9d22a8-9cde-44ee-b9ea-7b639ef00826"
      },
      "cell_type": "code",
      "source": [
        "#CNN model 3x[2x(Conv2D+relu)+pooling], flatten, fully connected layer\n",
        "\n",
        "\n",
        "\n",
        "weight_decay = 1e-4\n",
        "model = Sequential()\n",
        "model.add(Conv2D(32,kernel_size = (3,3), padding= \"Same\",activation = \"relu\",kernel_regularizer=regularizers.l2(weight_decay), input_shape = (32,32,3)))\n",
        "model.add(Conv2D(32, kernel_size = (3,3), padding= \"Same\",kernel_regularizer=regularizers.l2(weight_decay),activation = \"relu\"))\n",
        "model.add(MaxPooling2D(pool_size =(2,2),strides=(2,2)))\n",
        "model.add(Dropout(0.2))\n",
        "\n",
        "model.add(Conv2D(64,kernel_size = (3,3), padding= \"Same\",kernel_regularizer=regularizers.l2(weight_decay),activation = \"relu\"))\n",
        "model.add(Conv2D(64,kernel_size = (3,3), padding= \"Same\",kernel_regularizer=regularizers.l2(weight_decay),activation = \"relu\"))\n",
        "model.add(MaxPooling2D(pool_size =(2,2), strides=(2,2)))\n",
        "model.add(Dropout(0.3))\n",
        "\n",
        "model.add(Conv2D(128,kernel_size = (3,3), padding= \"Same\",kernel_regularizer=regularizers.l2(weight_decay),activation = \"relu\"))\n",
        "model.add(Conv2D(128,kernel_size = (3,3), padding= \"Same\",kernel_regularizer=regularizers.l2(weight_decay),activation = \"relu\"))\n",
        "model.add(MaxPooling2D(pool_size =(2,2), strides=(2,2)))\n",
        "model.add(Dropout(0.4))\n",
        "\n",
        "\n",
        "model.add(Flatten())\n",
        "model.add(Dense(10,activation = \"softmax\"))\n",
        "\n",
        "model.summary()\n",
        "\n"
      ],
      "execution_count": 52,
      "outputs": [
        {
          "output_type": "stream",
          "text": [
            "_________________________________________________________________\n",
            "Layer (type)                 Output Shape              Param #   \n",
            "=================================================================\n",
            "conv2d_13 (Conv2D)           (None, 32, 32, 32)        896       \n",
            "_________________________________________________________________\n",
            "conv2d_14 (Conv2D)           (None, 32, 32, 32)        9248      \n",
            "_________________________________________________________________\n",
            "max_pooling2d_7 (MaxPooling2 (None, 16, 16, 32)        0         \n",
            "_________________________________________________________________\n",
            "dropout_7 (Dropout)          (None, 16, 16, 32)        0         \n",
            "_________________________________________________________________\n",
            "conv2d_15 (Conv2D)           (None, 16, 16, 64)        18496     \n",
            "_________________________________________________________________\n",
            "conv2d_16 (Conv2D)           (None, 16, 16, 64)        36928     \n",
            "_________________________________________________________________\n",
            "max_pooling2d_8 (MaxPooling2 (None, 8, 8, 64)          0         \n",
            "_________________________________________________________________\n",
            "dropout_8 (Dropout)          (None, 8, 8, 64)          0         \n",
            "_________________________________________________________________\n",
            "conv2d_17 (Conv2D)           (None, 8, 8, 128)         73856     \n",
            "_________________________________________________________________\n",
            "conv2d_18 (Conv2D)           (None, 8, 8, 128)         147584    \n",
            "_________________________________________________________________\n",
            "max_pooling2d_9 (MaxPooling2 (None, 4, 4, 128)         0         \n",
            "_________________________________________________________________\n",
            "dropout_9 (Dropout)          (None, 4, 4, 128)         0         \n",
            "_________________________________________________________________\n",
            "flatten_3 (Flatten)          (None, 2048)              0         \n",
            "_________________________________________________________________\n",
            "dense_3 (Dense)              (None, 10)                20490     \n",
            "=================================================================\n",
            "Total params: 307,498\n",
            "Trainable params: 307,498\n",
            "Non-trainable params: 0\n",
            "_________________________________________________________________\n"
          ],
          "name": "stdout"
        }
      ]
    },
    {
      "metadata": {
        "id": "BdQi-KBsV-aM",
        "colab_type": "code",
        "colab": {}
      },
      "cell_type": "code",
      "source": [
        "from keras.optimizers import RMSprop\n",
        "optimizer = RMSprop(lr=0.001, rho=0.9, epsilon=1e-06, decay=1e-6)\n",
        "model.compile(optimizer =optimizer, loss = \"categorical_crossentropy\", metrics = [\"accuracy\"])"
      ],
      "execution_count": 0,
      "outputs": []
    },
    {
      "metadata": {
        "id": "4MInl_8VYjBr",
        "colab_type": "code",
        "colab": {}
      },
      "cell_type": "code",
      "source": [
        "\n"
      ],
      "execution_count": 0,
      "outputs": []
    },
    {
      "metadata": {
        "id": "c5GV5QrBYn27",
        "colab_type": "code",
        "colab": {}
      },
      "cell_type": "code",
      "source": [
        "#data_augmentation\n",
        "\n",
        "datagen = ImageDataGenerator(\n",
        "        featurewise_center=False,  # set input mean to 0 over the dataset\n",
        "        samplewise_center=False,  # set each sample mean to 0\n",
        "        featurewise_std_normalization=False,  # divide inputs by std of the dataset\n",
        "        samplewise_std_normalization=False,  # divide each input by its std\n",
        "        zca_whitening=False,  # apply ZCA whitening\n",
        "        rotation_range=15,  # randomly rotate images in the range (degrees, 0 to 180)\n",
        "        zoom_range = 0.1, # Randomly zoom image \n",
        "        width_shift_range=0.1,  # randomly shift images horizontally (fraction of total width)\n",
        "        height_shift_range=0.1,  # randomly shift images vertically (fraction of total height)\n",
        "        horizontal_flip=True,  # randomly flip images\n",
        "        vertical_flip=False)  # randomly flip images\n",
        "\n",
        "\n",
        "datagen.fit(X_train)"
      ],
      "execution_count": 0,
      "outputs": []
    },
    {
      "metadata": {
        "id": "XENePZE3lqkE",
        "colab_type": "code",
        "colab": {}
      },
      "cell_type": "code",
      "source": [
        "from keras.callbacks import ReduceLROnPlateau\n",
        "learning_rate_reduction = ReduceLROnPlateau(monitor='val_acc', \n",
        "                                            patience=3, \n",
        "                                            verbose=1, \n",
        "                                            factor=0.5, \n",
        "                                            min_lr=0.00001)"
      ],
      "execution_count": 0,
      "outputs": []
    },
    {
      "metadata": {
        "id": "ekNQtOXMZGR8",
        "colab_type": "code",
        "colab": {
          "base_uri": "https://localhost:8080/",
          "height": 34
        },
        "outputId": "7ade4af8-71ad-4bcd-897d-93b53f281b4c"
      },
      "cell_type": "code",
      "source": [
        "print(X_train.shape)"
      ],
      "execution_count": 18,
      "outputs": [
        {
          "output_type": "stream",
          "text": [
            "(54000, 32, 32, 3)\n"
          ],
          "name": "stdout"
        }
      ]
    },
    {
      "metadata": {
        "id": "0HIhgji3ZBiS",
        "colab_type": "code",
        "colab": {
          "base_uri": "https://localhost:8080/",
          "height": 1955
        },
        "outputId": "e7cecc0f-c0e2-45e6-b993-81b155b4a853"
      },
      "cell_type": "code",
      "source": [
        "history = model.fit_generator(datagen.flow(X_train,y_train, batch_size = 64), epochs = 50,validation_data=(X_val, y_val),verbose = 2,callbacks=[learning_rate_reduction])\n",
        "                                         "
      ],
      "execution_count": 165,
      "outputs": [
        {
          "output_type": "stream",
          "text": [
            "Epoch 1/50\n",
            " - 38s - loss: 0.9052 - acc: 0.7197 - val_loss: 0.8078 - val_acc: 0.7607\n",
            "Epoch 2/50\n",
            " - 39s - loss: 0.8910 - acc: 0.7271 - val_loss: 0.7650 - val_acc: 0.7770\n",
            "Epoch 3/50\n",
            " - 39s - loss: 0.8839 - acc: 0.7303 - val_loss: 0.8837 - val_acc: 0.7460\n",
            "Epoch 4/50\n",
            " - 39s - loss: 0.8731 - acc: 0.7343 - val_loss: 0.7389 - val_acc: 0.7843\n",
            "Epoch 5/50\n",
            " - 38s - loss: 0.8709 - acc: 0.7373 - val_loss: 0.8547 - val_acc: 0.7533\n",
            "Epoch 6/50\n",
            " - 39s - loss: 0.8663 - acc: 0.7366 - val_loss: 0.9125 - val_acc: 0.7473\n",
            "Epoch 7/50\n",
            " - 39s - loss: 0.8678 - acc: 0.7370 - val_loss: 0.8566 - val_acc: 0.7550\n",
            "\n",
            "Epoch 00007: ReduceLROnPlateau reducing learning rate to 0.0005000000237487257.\n",
            "Epoch 8/50\n",
            " - 39s - loss: 0.7647 - acc: 0.7729 - val_loss: 0.7674 - val_acc: 0.7867\n",
            "Epoch 9/50\n",
            " - 39s - loss: 0.7515 - acc: 0.7751 - val_loss: 0.6976 - val_acc: 0.8053\n",
            "Epoch 10/50\n",
            " - 38s - loss: 0.7421 - acc: 0.7805 - val_loss: 0.6902 - val_acc: 0.8107\n",
            "Epoch 11/50\n",
            " - 38s - loss: 0.7348 - acc: 0.7804 - val_loss: 0.7519 - val_acc: 0.7917\n",
            "Epoch 12/50\n",
            " - 39s - loss: 0.7332 - acc: 0.7824 - val_loss: 0.7017 - val_acc: 0.8027\n",
            "Epoch 13/50\n",
            " - 39s - loss: 0.7187 - acc: 0.7836 - val_loss: 0.6667 - val_acc: 0.8147\n",
            "Epoch 14/50\n",
            " - 38s - loss: 0.7200 - acc: 0.7850 - val_loss: 0.8008 - val_acc: 0.7893\n",
            "Epoch 15/50\n",
            " - 38s - loss: 0.7144 - acc: 0.7875 - val_loss: 0.7244 - val_acc: 0.7957\n",
            "Epoch 16/50\n",
            " - 38s - loss: 0.7157 - acc: 0.7873 - val_loss: 0.6969 - val_acc: 0.8087\n",
            "\n",
            "Epoch 00016: ReduceLROnPlateau reducing learning rate to 0.0002500000118743628.\n",
            "Epoch 17/50\n",
            " - 38s - loss: 0.6621 - acc: 0.8041 - val_loss: 0.6159 - val_acc: 0.8287\n",
            "Epoch 18/50\n",
            " - 38s - loss: 0.6532 - acc: 0.8069 - val_loss: 0.6140 - val_acc: 0.8370\n",
            "Epoch 19/50\n",
            " - 39s - loss: 0.6483 - acc: 0.8081 - val_loss: 0.6515 - val_acc: 0.8207\n",
            "Epoch 20/50\n",
            " - 39s - loss: 0.6457 - acc: 0.8076 - val_loss: 0.6531 - val_acc: 0.8180\n",
            "Epoch 21/50\n",
            " - 39s - loss: 0.6438 - acc: 0.8083 - val_loss: 0.6288 - val_acc: 0.8233\n",
            "\n",
            "Epoch 00021: ReduceLROnPlateau reducing learning rate to 0.0001250000059371814.\n",
            "Epoch 22/50\n",
            " - 38s - loss: 0.6114 - acc: 0.8207 - val_loss: 0.5975 - val_acc: 0.8350\n",
            "Epoch 23/50\n",
            " - 38s - loss: 0.6036 - acc: 0.8239 - val_loss: 0.5844 - val_acc: 0.8403\n",
            "Epoch 24/50\n",
            " - 39s - loss: 0.6072 - acc: 0.8196 - val_loss: 0.5735 - val_acc: 0.8417\n",
            "Epoch 25/50\n",
            " - 39s - loss: 0.6035 - acc: 0.8228 - val_loss: 0.5735 - val_acc: 0.8440\n",
            "Epoch 26/50\n",
            " - 39s - loss: 0.5951 - acc: 0.8259 - val_loss: 0.5475 - val_acc: 0.8453\n",
            "Epoch 27/50\n",
            " - 38s - loss: 0.5946 - acc: 0.8247 - val_loss: 0.5607 - val_acc: 0.8450\n",
            "Epoch 28/50\n",
            " - 39s - loss: 0.5996 - acc: 0.8240 - val_loss: 0.5809 - val_acc: 0.8413\n",
            "Epoch 29/50\n",
            " - 38s - loss: 0.5895 - acc: 0.8267 - val_loss: 0.5554 - val_acc: 0.8427\n",
            "\n",
            "Epoch 00029: ReduceLROnPlateau reducing learning rate to 6.25000029685907e-05.\n",
            "Epoch 30/50\n",
            " - 38s - loss: 0.5779 - acc: 0.8314 - val_loss: 0.5622 - val_acc: 0.8447\n",
            "Epoch 31/50\n",
            " - 39s - loss: 0.5710 - acc: 0.8354 - val_loss: 0.5693 - val_acc: 0.8440\n",
            "Epoch 32/50\n",
            " - 38s - loss: 0.5725 - acc: 0.8309 - val_loss: 0.5705 - val_acc: 0.8457\n",
            "Epoch 33/50\n",
            " - 38s - loss: 0.5757 - acc: 0.8304 - val_loss: 0.5815 - val_acc: 0.8413\n",
            "Epoch 34/50\n",
            " - 39s - loss: 0.5719 - acc: 0.8313 - val_loss: 0.5836 - val_acc: 0.8390\n",
            "Epoch 35/50\n",
            " - 39s - loss: 0.5746 - acc: 0.8306 - val_loss: 0.5820 - val_acc: 0.8423\n",
            "\n",
            "Epoch 00035: ReduceLROnPlateau reducing learning rate to 3.125000148429535e-05.\n",
            "Epoch 36/50\n",
            " - 38s - loss: 0.5631 - acc: 0.8344 - val_loss: 0.5504 - val_acc: 0.8530\n",
            "Epoch 37/50\n",
            " - 39s - loss: 0.5641 - acc: 0.8359 - val_loss: 0.5605 - val_acc: 0.8483\n",
            "Epoch 38/50\n",
            " - 39s - loss: 0.5638 - acc: 0.8335 - val_loss: 0.5514 - val_acc: 0.8487\n",
            "Epoch 39/50\n",
            " - 39s - loss: 0.5636 - acc: 0.8337 - val_loss: 0.5403 - val_acc: 0.8520\n",
            "\n",
            "Epoch 00039: ReduceLROnPlateau reducing learning rate to 1.5625000742147677e-05.\n",
            "Epoch 40/50\n",
            " - 39s - loss: 0.5608 - acc: 0.8355 - val_loss: 0.5498 - val_acc: 0.8507\n",
            "Epoch 41/50\n",
            " - 39s - loss: 0.5550 - acc: 0.8367 - val_loss: 0.5450 - val_acc: 0.8520\n",
            "Epoch 42/50\n",
            " - 39s - loss: 0.5604 - acc: 0.8346 - val_loss: 0.5523 - val_acc: 0.8500\n",
            "\n",
            "Epoch 00042: ReduceLROnPlateau reducing learning rate to 1e-05.\n",
            "Epoch 43/50\n",
            " - 39s - loss: 0.5575 - acc: 0.8372 - val_loss: 0.5567 - val_acc: 0.8510\n",
            "Epoch 44/50\n",
            " - 39s - loss: 0.5550 - acc: 0.8371 - val_loss: 0.5538 - val_acc: 0.8507\n",
            "Epoch 45/50\n",
            " - 39s - loss: 0.5517 - acc: 0.8396 - val_loss: 0.5557 - val_acc: 0.8480\n",
            "Epoch 46/50\n",
            " - 39s - loss: 0.5510 - acc: 0.8381 - val_loss: 0.5525 - val_acc: 0.8500\n",
            "Epoch 47/50\n",
            " - 39s - loss: 0.5510 - acc: 0.8377 - val_loss: 0.5500 - val_acc: 0.8483\n",
            "Epoch 48/50\n",
            " - 39s - loss: 0.5502 - acc: 0.8390 - val_loss: 0.5569 - val_acc: 0.8500\n",
            "Epoch 49/50\n",
            " - 39s - loss: 0.5554 - acc: 0.8374 - val_loss: 0.5516 - val_acc: 0.8483\n",
            "Epoch 50/50\n",
            " - 39s - loss: 0.5559 - acc: 0.8355 - val_loss: 0.5579 - val_acc: 0.8477\n"
          ],
          "name": "stdout"
        }
      ]
    },
    {
      "metadata": {
        "id": "qXG2uaEAyirl",
        "colab_type": "code",
        "colab": {
          "base_uri": "https://localhost:8080/",
          "height": 364
        },
        "outputId": "44f07f32-530c-4235-e47d-415ded62cf37"
      },
      "cell_type": "code",
      "source": [
        "plt.imshow(X_train[120])"
      ],
      "execution_count": 166,
      "outputs": [
        {
          "output_type": "execute_result",
          "data": {
            "text/plain": [
              "<matplotlib.image.AxesImage at 0x7f8825e1a198>"
            ]
          },
          "metadata": {
            "tags": []
          },
          "execution_count": 166
        },
        {
          "output_type": "display_data",
          "data": {
            "image/png": "[encoded data removed]",
            "text/plain": [
              "<matplotlib.figure.Figure at 0x7f8828731a90>"
            ]
          },
          "metadata": {
            "tags": []
          }
        }
      ]
    },
    {
      "metadata": {
        "id": "F7g1XUUTxXib",
        "colab_type": "code",
        "colab": {}
      },
      "cell_type": "code",
      "source": [
        "X_pred = np.reshape(X_train[118],(1,32,32,3))"
      ],
      "execution_count": 0,
      "outputs": []
    },
    {
      "metadata": {
        "id": "upaoehsWyVYT",
        "colab_type": "code",
        "colab": {}
      },
      "cell_type": "code",
      "source": [
        "print(X_train[100])"
      ],
      "execution_count": 0,
      "outputs": []
    },
    {
      "metadata": {
        "id": "oCXJxv-AyHEX",
        "colab_type": "code",
        "colab": {}
      },
      "cell_type": "code",
      "source": [
        "print(X_pred)"
      ],
      "execution_count": 0,
      "outputs": []
    },
    {
      "metadata": {
        "id": "4b6ju156sUGN",
        "colab_type": "code",
        "colab": {
          "base_uri": "https://localhost:8080/",
          "height": 68
        },
        "outputId": "643ee51f-6c52-483b-b2ee-04684f8c6add"
      },
      "cell_type": "code",
      "source": [
        "model.predict(X_pred,steps = 1)"
      ],
      "execution_count": 168,
      "outputs": [
        {
          "output_type": "execute_result",
          "data": {
            "text/plain": [
              "array([[1.6296612e-05, 3.9722769e-07, 3.9205410e-08, 4.9847156e-08,\n",
              "        1.5195624e-08, 7.8680853e-11, 1.3701101e-09, 2.4980333e-09,\n",
              "        9.9997711e-01, 6.0374746e-06]], dtype=float32)"
            ]
          },
          "metadata": {
            "tags": []
          },
          "execution_count": 168
        }
      ]
    },
    {
      "metadata": {
        "id": "bQsd1YGg7b50",
        "colab_type": "text"
      },
      "cell_type": "markdown",
      "source": [
        "The algorithm has trouble to distinguish cats and dogs as well as planes and birds.\n",
        "Some classes seem to be easy to notice "
      ]
    },
    {
      "metadata": {
        "id": "J6IIIbpP7bHL",
        "colab_type": "code",
        "colab": {}
      },
      "cell_type": "code",
      "source": [
        ""
      ],
      "execution_count": 0,
      "outputs": []
    },
    {
      "metadata": {
        "id": "wi5-j408ndu_",
        "colab_type": "code",
        "colab": {
          "base_uri": "https://localhost:8080/",
          "height": 163
        },
        "outputId": "98dadd02-9e91-40f6-adc3-5a87af736d34"
      },
      "cell_type": "code",
      "source": [
        "model.save_weights()"
      ],
      "execution_count": 20,
      "outputs": [
        {
          "output_type": "error",
          "ename": "TypeError",
          "evalue": "ignored",
          "traceback": [
            "\u001b[0;31m---------------------------------------------------------------------------\u001b[0m",
            "\u001b[0;31mTypeError\u001b[0m                                 Traceback (most recent call last)",
            "\u001b[0;32m<ipython-input-20-d7da5d627fa0>\u001b[0m in \u001b[0;36m<module>\u001b[0;34m()\u001b[0m\n\u001b[0;32m----> 1\u001b[0;31m \u001b[0mmodel\u001b[0m\u001b[0;34m.\u001b[0m\u001b[0msave_weights\u001b[0m\u001b[0;34m(\u001b[0m\u001b[0;34m)\u001b[0m\u001b[0;34m\u001b[0m\u001b[0m\n\u001b[0m",
            "\u001b[0;31mTypeError\u001b[0m: save_weights() missing 1 required positional argument: 'filepath'"
          ]
        }
      ]
    },
    {
      "metadata": {
        "id": "Guh3tSXVaXaw",
        "colab_type": "code",
        "colab": {
          "base_uri": "https://localhost:8080/",
          "height": 376
        },
        "outputId": "62f947e7-9c46-4df1-a4a5-fefacc96d44a"
      },
      "cell_type": "code",
      "source": [
        "plt.plot(history.history['loss'])\n",
        "\n",
        "plt.title('model loss')\n",
        "plt.ylabel('loss')\n",
        "plt.xlabel('epoch')\n",
        "plt.legend(['train'], loc='upper left')\n",
        "plt.show()"
      ],
      "execution_count": 21,
      "outputs": [
        {
          "output_type": "display_data",
          "data": {
            "image/png": "[encoded data removed]",
            "text/plain": [
              "<matplotlib.figure.Figure at 0x7f882a68d7f0>"
            ]
          },
          "metadata": {
            "tags": []
          }
        }
      ]
    },
    {
      "metadata": {
        "id": "SE4wqSVKndTK",
        "colab_type": "code",
        "colab": {
          "base_uri": "https://localhost:8080/",
          "height": 34
        },
        "outputId": "f638fd7e-0bee-4944-ccc6-9e80f4c4cbdd"
      },
      "cell_type": "code",
      "source": [
        "model.save_weights"
      ],
      "execution_count": 41,
      "outputs": [
        {
          "output_type": "execute_result",
          "data": {
            "text/plain": [
              "<bound method Sequential.save_weights of <keras.models.Sequential object at 0x7f014e6a5b70>>"
            ]
          },
          "metadata": {
            "tags": []
          },
          "execution_count": 41
        }
      ]
    },
    {
      "metadata": {
        "id": "mu2YRNDQQ89y",
        "colab_type": "code",
        "colab": {
          "base_uri": "https://localhost:8080/",
          "height": 51
        },
        "outputId": "7da8ba58-fce4-4b19-c51e-bcd9ea871328"
      },
      "cell_type": "code",
      "source": [
        "loss_and_metrics = model.evaluate(X_test, y_test, batch_size=64)\n",
        "print(loss_and_metrics)"
      ],
      "execution_count": 43,
      "outputs": [
        {
          "output_type": "stream",
          "text": [
            "3000/3000 [==============================] - 0s 162us/step\n",
            "[0.5416899622281393, 0.8440000004768372]\n"
          ],
          "name": "stdout"
        }
      ]
    },
    {
      "metadata": {
        "id": "J8c-6JEb9Rxv",
        "colab_type": "code",
        "colab": {}
      },
      "cell_type": "code",
      "source": [
        "#what happens when we try to put a type of image which isn't in the training set"
      ],
      "execution_count": 0,
      "outputs": []
    },
    {
      "metadata": {
        "id": "SAx-S033A79x",
        "colab_type": "code",
        "colab": {}
      },
      "cell_type": "code",
      "source": [
        "#import image"
      ],
      "execution_count": 0,
      "outputs": []
    },
    {
      "metadata": {
        "id": "hU8d_1amfw4G",
        "colab_type": "code",
        "colab": {}
      },
      "cell_type": "code",
      "source": [
        "(x_train2, y_train2), (x_test2, y_test2) = cifar100.load_data()"
      ],
      "execution_count": 0,
      "outputs": []
    },
    {
      "metadata": {
        "id": "K6ASiUWshz8V",
        "colab_type": "code",
        "colab": {}
      },
      "cell_type": "code",
      "source": [
        "x = np.concatenate([x_train2, x_test2])"
      ],
      "execution_count": 0,
      "outputs": []
    },
    {
      "metadata": {
        "id": "A74BG9EzuntN",
        "colab_type": "code",
        "colab": {}
      },
      "cell_type": "code",
      "source": [
        "x = x/255.0"
      ],
      "execution_count": 0,
      "outputs": []
    },
    {
      "metadata": {
        "id": "X55ANbGpg5Ky",
        "colab_type": "code",
        "colab": {}
      },
      "cell_type": "code",
      "source": [
        "#df = pd.DataFrame(records, columns=features)"
      ],
      "execution_count": 0,
      "outputs": []
    },
    {
      "metadata": {
        "id": "xy9mXVQKgvyS",
        "colab_type": "code",
        "colab": {
          "base_uri": "https://localhost:8080/",
          "height": 163
        },
        "outputId": "dd433b31-7a06-4df2-c5f6-bd1bfeed2382"
      },
      "cell_type": "code",
      "source": [
        "#x_train.info()"
      ],
      "execution_count": 6,
      "outputs": [
        {
          "output_type": "error",
          "ename": "AttributeError",
          "evalue": "ignored",
          "traceback": [
            "\u001b[0;31m---------------------------------------------------------------------------\u001b[0m",
            "\u001b[0;31mAttributeError\u001b[0m                            Traceback (most recent call last)",
            "\u001b[0;32m<ipython-input-6-cfcea75e76a5>\u001b[0m in \u001b[0;36m<module>\u001b[0;34m()\u001b[0m\n\u001b[0;32m----> 1\u001b[0;31m \u001b[0mx_train\u001b[0m\u001b[0;34m.\u001b[0m\u001b[0minfo\u001b[0m\u001b[0;34m(\u001b[0m\u001b[0;34m)\u001b[0m\u001b[0;34m\u001b[0m\u001b[0m\n\u001b[0m",
            "\u001b[0;31mAttributeError\u001b[0m: 'numpy.ndarray' object has no attribute 'info'"
          ]
        }
      ]
    },
    {
      "metadata": {
        "id": "sgRCBfH1g4DW",
        "colab_type": "code",
        "colab": {
          "base_uri": "https://localhost:8080/",
          "height": 364
        },
        "outputId": "a8ad37b8-a82a-4fcd-b4b2-68a97c7da0d0"
      },
      "cell_type": "code",
      "source": [
        "import matplotlib.pyplot as plt\n",
        "import matplotlib.image as mpimg\n",
        "\n",
        "plt.imshow(x[3])"
      ],
      "execution_count": 159,
      "outputs": [
        {
          "output_type": "execute_result",
          "data": {
            "text/plain": [
              "<matplotlib.image.AxesImage at 0x7f882880b160>"
            ]
          },
          "metadata": {
            "tags": []
          },
          "execution_count": 159
        },
        {
          "output_type": "display_data",
          "data": {
            "image/png": "[encoded data removed]",
            "text/plain": [
              "<matplotlib.figure.Figure at 0x7f88288a65f8>"
            ]
          },
          "metadata": {
            "tags": []
          }
        }
      ]
    },
    {
      "metadata": {
        "id": "4Oh6QkHBtv9a",
        "colab_type": "code",
        "colab": {}
      },
      "cell_type": "code",
      "source": [
        ""
      ],
      "execution_count": 0,
      "outputs": []
    },
    {
      "metadata": {
        "id": "wPWxCgV0usya",
        "colab_type": "code",
        "colab": {}
      },
      "cell_type": "code",
      "source": [
        "x_pred = np.reshape(x[3], (1,32,32,3))\n",
        "                    "
      ],
      "execution_count": 0,
      "outputs": []
    },
    {
      "metadata": {
        "id": "4x5YXG-yvBjp",
        "colab_type": "code",
        "colab": {
          "base_uri": "https://localhost:8080/",
          "height": 34
        },
        "outputId": "30294424-a396-41c1-e8ec-1d803400236c"
      },
      "cell_type": "code",
      "source": [
        "print(x_pred.shape)"
      ],
      "execution_count": 38,
      "outputs": [
        {
          "output_type": "stream",
          "text": [
            "(1, 32, 32, 3)\n"
          ],
          "name": "stdout"
        }
      ]
    },
    {
      "metadata": {
        "id": "w-0fjPjXucsr",
        "colab_type": "code",
        "colab": {}
      },
      "cell_type": "code",
      "source": [
        "print(x_pred)"
      ],
      "execution_count": 0,
      "outputs": []
    },
    {
      "metadata": {
        "id": "kn1TuIXJuf2W",
        "colab_type": "code",
        "colab": {}
      },
      "cell_type": "code",
      "source": [
        ""
      ],
      "execution_count": 0,
      "outputs": []
    },
    {
      "metadata": {
        "id": "qj0m3SwBA3Ls",
        "colab_type": "code",
        "colab": {
          "base_uri": "https://localhost:8080/",
          "height": 68
        },
        "outputId": "6f341255-4b13-4599-ff46-8deb0d9eaa05"
      },
      "cell_type": "code",
      "source": [
        "model.predict(x_pred,steps = 1)"
      ],
      "execution_count": 169,
      "outputs": [
        {
          "output_type": "execute_result",
          "data": {
            "text/plain": [
              "array([[8.2334066e-07, 1.6686894e-08, 2.8237343e-01, 1.2516475e-03,\n",
              "        4.1340718e-05, 7.1569061e-01, 6.4150075e-04, 5.1435171e-07,\n",
              "        3.3688018e-08, 6.8747532e-08]], dtype=float32)"
            ]
          },
          "metadata": {
            "tags": []
          },
          "execution_count": 169
        }
      ]
    },
    {
      "metadata": {
        "id": "M3_OTfkMvSeW",
        "colab_type": "code",
        "colab": {}
      },
      "cell_type": "code",
      "source": [
        "#according to the official cifar site first class([1,0,0,0,0,0,0,0,0,0]) is a plane, 2 is car, 3 bird, 4 cat, 5 deer, 6 dog, 7 frog, 8 horse, 9 ship, 10 truck \n",
        "#the network tries to determine what kind of image it is but he is unsure. 2 classes,however, have lower values : bird and dog. It seems like the network sometimes can understand that the image is an animal and not an object"
      ],
      "execution_count": 0,
      "outputs": []
    },
    {
      "metadata": {
        "id": "Jsj6X9gfv0RW",
        "colab_type": "code",
        "colab": {
          "base_uri": "https://localhost:8080/",
          "height": 364
        },
        "outputId": "78ef736a-4aa5-40ae-d67d-2efd7de637ad"
      },
      "cell_type": "code",
      "source": [
        "plt.imshow(x[50])"
      ],
      "execution_count": 191,
      "outputs": [
        {
          "output_type": "execute_result",
          "data": {
            "text/plain": [
              "<matplotlib.image.AxesImage at 0x7f882f8df9e8>"
            ]
          },
          "metadata": {
            "tags": []
          },
          "execution_count": 191
        },
        {
          "output_type": "display_data",
          "data": {
            "image/png": "[encoded data removed]",
            "text/plain": [
              "<matplotlib.figure.Figure at 0x7f882f955ba8>"
            ]
          },
          "metadata": {
            "tags": []
          }
        }
      ]
    },
    {
      "metadata": {
        "id": "jLQIYLeMv-ts",
        "colab_type": "code",
        "colab": {
          "base_uri": "https://localhost:8080/",
          "height": 68
        },
        "outputId": "1089ea54-f48c-4a64-e5e4-80bfc0af960c"
      },
      "cell_type": "code",
      "source": [
        "x_pred1 = np.reshape(x[50], (1,32,32,3))\n",
        "model.predict(x_pred1,steps = 1)"
      ],
      "execution_count": 192,
      "outputs": [
        {
          "output_type": "execute_result",
          "data": {
            "text/plain": [
              "array([[9.3998924e-02, 2.1841193e-03, 1.6891565e-04, 4.7892583e-05,\n",
              "        4.0340594e-05, 2.3572316e-06, 8.5125512e-06, 3.8221742e-06,\n",
              "        9.0308225e-01, 4.6289840e-04]], dtype=float32)"
            ]
          },
          "metadata": {
            "tags": []
          },
          "execution_count": 192
        }
      ]
    },
    {
      "metadata": {
        "id": "cNxtZruRLmQo",
        "colab_type": "text"
      },
      "cell_type": "markdown",
      "source": [
        "here the closest are the ship and the plane, which is quite accurate"
      ]
    },
    {
      "metadata": {
        "id": "hpDUZ1i9L3Vb",
        "colab_type": "code",
        "colab": {
          "base_uri": "https://localhost:8080/",
          "height": 364
        },
        "outputId": "0da897a5-f991-48f9-d669-2f2b29f8b502"
      },
      "cell_type": "code",
      "source": [
        "plt.imshow(x[195])"
      ],
      "execution_count": 250,
      "outputs": [
        {
          "output_type": "execute_result",
          "data": {
            "text/plain": [
              "<matplotlib.image.AxesImage at 0x7f88268edd30>"
            ]
          },
          "metadata": {
            "tags": []
          },
          "execution_count": 250
        },
        {
          "output_type": "display_data",
          "data": {
            "image/png": "[encoded data removed]",
            "text/plain": [
              "<matplotlib.figure.Figure at 0x7f88269507b8>"
            ]
          },
          "metadata": {
            "tags": []
          }
        }
      ]
    },
    {
      "metadata": {
        "id": "D06R4eKzPTXc",
        "colab_type": "code",
        "colab": {
          "base_uri": "https://localhost:8080/",
          "height": 68
        },
        "outputId": "3c7709bc-70ce-4720-d815-848dc13fccaa"
      },
      "cell_type": "code",
      "source": [
        "x_pred2 = np.reshape(x[195], (1,32,32,3))\n",
        "model.predict(x_pred2,steps = 1)"
      ],
      "execution_count": 251,
      "outputs": [
        {
          "output_type": "execute_result",
          "data": {
            "text/plain": [
              "array([[3.0720297e-02, 3.8116552e-02, 5.8150012e-04, 7.2194221e-03,\n",
              "        1.0179380e-03, 8.5296563e-04, 2.4466116e-02, 3.0033246e-01,\n",
              "        1.3911034e-04, 5.9655368e-01]], dtype=float32)"
            ]
          },
          "metadata": {
            "tags": []
          },
          "execution_count": 251
        }
      ]
    },
    {
      "metadata": {
        "id": "sYV7j4wmRLfy",
        "colab_type": "text"
      },
      "cell_type": "markdown",
      "source": [
        "the 2 closest one are the horse and the truck. It's once again somehow accurate since a motorcyle is a bit a mix of an horse and a truck"
      ]
    },
    {
      "metadata": {
        "id": "g9T07NNJRJxi",
        "colab_type": "code",
        "colab": {}
      },
      "cell_type": "code",
      "source": [
        ""
      ],
      "execution_count": 0,
      "outputs": []
    }
  ]
}
