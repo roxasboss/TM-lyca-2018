{
  "nbformat": 4,
  "nbformat_minor": 0,
  "metadata": {
    "colab": {
      "name": "weather.ipynb",
      "version": "0.3.2",
      "provenance": [],
      "collapsed_sections": [],
      "toc_visible": true,
      "include_colab_link": true
    },
    "kernelspec": {
      "name": "python3",
      "display_name": "Python 3"
    },
    "accelerator": "GPU"
  },
  "cells": [
    {
      "cell_type": "markdown",
      "metadata": {
        "id": "view-in-github",
        "colab_type": "text"
      },
      "source": [
        "[View in Colaboratory](https://colab.research.google.com/github/roxasboss/TM-lyca-2018/blob/master/weather.ipynb)"
      ]
    },
    {
      "metadata": {
        "id": "UUVtRFlewVta",
        "colab_type": "code",
        "colab": {
          "base_uri": "https://localhost:8080/",
          "height": 54
        },
        "outputId": "466a1015-03fc-47fe-8040-2ea6b0bd73ee"
      },
      "cell_type": "code",
      "source": [
        "from datetime import datetime, timedelta  \n",
        "import time  \n",
        "from collections import namedtuple  \n",
        "import pandas as pd \n",
        "import requests  \n",
        "import matplotlib.pyplot as plt  \n",
        "\n",
        "pd.options.mode.chained_assignment = None\n",
        "API_KEY = '40b453c139590191'  \n",
        "BASE_URL = \"http://api.wunderground.com/api/{}/history_{}/q/Switzerland/Collombey.json\"\n",
        "target_date = datetime(2016, 8, 16)  \n",
        "features = [\"date\",\"meantempm\", \"meandewptm\", \"meanpressurem\", \"maxhumidity\", \"minhumidity\", \"maxtempm\",  \n",
        "            \"mintempm\", \"maxdewptm\", \"mindewptm\", \"maxpressurem\", \"minpressurem\", \"precipm\"]\n",
        "DailySummary = namedtuple(\"DailySummary\", features)\n",
        "\n",
        "\"\"\"\"def extract_weather_data(url, api_key, target_date, days):  \n",
        "    records = []\n",
        "    for _ in range(days):\n",
        "        request = BASE_URL.format(API_KEY, target_date.strftime('%Y%m%d'))\n",
        "        response = requests.get(request)\n",
        "        if response.status_code == 200:\n",
        "            data = response.json()['history']['dailysummary'][0]\n",
        "            records.append(DailySummary(\n",
        "                date=target_date,\n",
        "                meantempm=data['meantempm'],\n",
        "                meandewptm=data['meandewptm'],\n",
        "                meanpressurem=data['meanpressurem'],\n",
        "                maxhumidity=data['maxhumidity'],\n",
        "                minhumidity=data['minhumidity'],\n",
        "                maxtempm=data['maxtempm'],\n",
        "                mintempm=data['mintempm'],\n",
        "                maxdewptm=data['maxdewptm'],\n",
        "                mindewptm=data['mindewptm'],\n",
        "                maxpressurem=data['maxpressurem'],\n",
        "                minpressurem=data['minpressurem'],\n",
        "                precipm=data['precipm']))\n",
        "        time.sleep(6)\n",
        "        target_date += timedelta(days=1)\n",
        "    return records\n",
        "records = extract_weather_data(BASE_URL, API_KEY, target_date, 500)\"\"\"  "
      ],
      "execution_count": 1,
      "outputs": [
        {
          "output_type": "execute_result",
          "data": {
            "text/plain": [
              "'\"def extract_weather_data(url, api_key, target_date, days):  \\n    records = []\\n    for _ in range(days):\\n        request = BASE_URL.format(API_KEY, target_date.strftime(\\'%Y%m%d\\'))\\n        response = requests.get(request)\\n        if response.status_code == 200:\\n            data = response.json()[\\'history\\'][\\'dailysummary\\'][0]\\n            records.append(DailySummary(\\n                date=target_date,\\n                meantempm=data[\\'meantempm\\'],\\n                meandewptm=data[\\'meandewptm\\'],\\n                meanpressurem=data[\\'meanpressurem\\'],\\n                maxhumidity=data[\\'maxhumidity\\'],\\n                minhumidity=data[\\'minhumidity\\'],\\n                maxtempm=data[\\'maxtempm\\'],\\n                mintempm=data[\\'mintempm\\'],\\n                maxdewptm=data[\\'maxdewptm\\'],\\n                mindewptm=data[\\'mindewptm\\'],\\n                maxpressurem=data[\\'maxpressurem\\'],\\n                minpressurem=data[\\'minpressurem\\'],\\n                precipm=data[\\'precipm\\']))\\n        time.sleep(6)\\n        target_date += timedelta(days=1)\\n    return records\\nrecords = extract_weather_data(BASE_URL, API_KEY, target_date, 500)'"
            ]
          },
          "metadata": {
            "tags": []
          },
          "execution_count": 1
        }
      ]
    },
    {
      "metadata": {
        "id": "qmvk7h8aw_r0",
        "colab_type": "code",
        "colab": {
          "resources": {
            "http://localhost:8080/nbextensions/google.colab/files.js": {
              "data": "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",
              "ok": true,
              "headers": [
                [
                  "content-type",
                  "application/javascript"
                ]
              ],
              "status": 200,
              "status_text": ""
            }
          },
          "base_uri": "https://localhost:8080/",
          "height": 609
        },
        "outputId": "4396308e-452d-4be6-ad49-ff64153e1077"
      },
      "cell_type": "code",
      "source": [
        "from google.colab import files\n",
        "\n",
        "uploaded = files.upload()\n",
        "\n",
        "for fn in uploaded.keys():\n",
        "  print('User uploaded file \"{name}\" with length {length} bytes'.format(\n",
        "      name=fn, length=len(uploaded[fn])))\n",
        "    "
      ],
      "execution_count": 182,
      "outputs": [
        {
          "output_type": "display_data",
          "data": {
            "text/html": [
              "\n",
              "     <input type=\"file\" id=\"files-632c5db3-7e2c-4f3b-984b-31b7e45147d7\" name=\"files[]\" multiple disabled />\n",
              "     <output id=\"result-632c5db3-7e2c-4f3b-984b-31b7e45147d7\">\n",
              "      Upload widget is only available when the cell has been executed in the\n",
              "      current browser session. Please rerun this cell to enable.\n",
              "      </output>\n",
              "      <script src=\"/nbextensions/google.colab/files.js\"></script> "
            ],
            "text/plain": [
              "<IPython.core.display.HTML object>"
            ]
          },
          "metadata": {
            "tags": []
          }
        },
        {
          "output_type": "error",
          "ename": "KeyboardInterrupt",
          "evalue": "ignored",
          "traceback": [
            "\u001b[0;31m---------------------------------------------------------------------------\u001b[0m",
            "\u001b[0;31mKeyboardInterrupt\u001b[0m                         Traceback (most recent call last)",
            "\u001b[0;32m<ipython-input-182-a123edf54a87>\u001b[0m in \u001b[0;36m<module>\u001b[0;34m()\u001b[0m\n\u001b[1;32m      1\u001b[0m \u001b[0;32mfrom\u001b[0m \u001b[0mgoogle\u001b[0m\u001b[0;34m.\u001b[0m\u001b[0mcolab\u001b[0m \u001b[0;32mimport\u001b[0m \u001b[0mfiles\u001b[0m\u001b[0;34m\u001b[0m\u001b[0m\n\u001b[1;32m      2\u001b[0m \u001b[0;34m\u001b[0m\u001b[0m\n\u001b[0;32m----> 3\u001b[0;31m \u001b[0muploaded\u001b[0m \u001b[0;34m=\u001b[0m \u001b[0mfiles\u001b[0m\u001b[0;34m.\u001b[0m\u001b[0mupload\u001b[0m\u001b[0;34m(\u001b[0m\u001b[0;34m)\u001b[0m\u001b[0;34m\u001b[0m\u001b[0m\n\u001b[0m\u001b[1;32m      4\u001b[0m \u001b[0;34m\u001b[0m\u001b[0m\n\u001b[1;32m      5\u001b[0m \u001b[0;32mfor\u001b[0m \u001b[0mfn\u001b[0m \u001b[0;32min\u001b[0m \u001b[0muploaded\u001b[0m\u001b[0;34m.\u001b[0m\u001b[0mkeys\u001b[0m\u001b[0;34m(\u001b[0m\u001b[0;34m)\u001b[0m\u001b[0;34m:\u001b[0m\u001b[0;34m\u001b[0m\u001b[0m\n",
            "\u001b[0;32m/usr/local/lib/python3.6/dist-packages/google/colab/files.py\u001b[0m in \u001b[0;36mupload\u001b[0;34m()\u001b[0m\n\u001b[1;32m     60\u001b[0m   result = output.eval_js(\n\u001b[1;32m     61\u001b[0m       'google.colab._files._uploadFiles(\"{input_id}\", \"{output_id}\")'.format(\n\u001b[0;32m---> 62\u001b[0;31m           input_id=input_id, output_id=output_id))\n\u001b[0m\u001b[1;32m     63\u001b[0m   \u001b[0mfiles\u001b[0m \u001b[0;34m=\u001b[0m \u001b[0mcollections\u001b[0m\u001b[0;34m.\u001b[0m\u001b[0mdefaultdict\u001b[0m\u001b[0;34m(\u001b[0m\u001b[0msix\u001b[0m\u001b[0;34m.\u001b[0m\u001b[0mbinary_type\u001b[0m\u001b[0;34m)\u001b[0m\u001b[0;34m\u001b[0m\u001b[0m\n\u001b[1;32m     64\u001b[0m   \u001b[0;31m# Mapping from original filename to filename as saved locally.\u001b[0m\u001b[0;34m\u001b[0m\u001b[0;34m\u001b[0m\u001b[0m\n",
            "\u001b[0;32m/usr/local/lib/python3.6/dist-packages/google/colab/output/_js.py\u001b[0m in \u001b[0;36meval_js\u001b[0;34m(script, ignore_result)\u001b[0m\n\u001b[1;32m     37\u001b[0m   \u001b[0;32mif\u001b[0m \u001b[0mignore_result\u001b[0m\u001b[0;34m:\u001b[0m\u001b[0;34m\u001b[0m\u001b[0m\n\u001b[1;32m     38\u001b[0m     \u001b[0;32mreturn\u001b[0m\u001b[0;34m\u001b[0m\u001b[0m\n\u001b[0;32m---> 39\u001b[0;31m   \u001b[0;32mreturn\u001b[0m \u001b[0m_message\u001b[0m\u001b[0;34m.\u001b[0m\u001b[0mread_reply_from_input\u001b[0m\u001b[0;34m(\u001b[0m\u001b[0mrequest_id\u001b[0m\u001b[0;34m)\u001b[0m\u001b[0;34m\u001b[0m\u001b[0m\n\u001b[0m\u001b[1;32m     40\u001b[0m \u001b[0;34m\u001b[0m\u001b[0m\n\u001b[1;32m     41\u001b[0m \u001b[0;34m\u001b[0m\u001b[0m\n",
            "\u001b[0;32m/usr/local/lib/python3.6/dist-packages/google/colab/_message.py\u001b[0m in \u001b[0;36mread_reply_from_input\u001b[0;34m(message_id, timeout_sec)\u001b[0m\n\u001b[1;32m     99\u001b[0m     \u001b[0mreply\u001b[0m \u001b[0;34m=\u001b[0m \u001b[0m_read_next_input_message\u001b[0m\u001b[0;34m(\u001b[0m\u001b[0;34m)\u001b[0m\u001b[0;34m\u001b[0m\u001b[0m\n\u001b[1;32m    100\u001b[0m     \u001b[0;32mif\u001b[0m \u001b[0mreply\u001b[0m \u001b[0;34m==\u001b[0m \u001b[0m_NOT_READY\u001b[0m \u001b[0;32mor\u001b[0m \u001b[0;32mnot\u001b[0m \u001b[0misinstance\u001b[0m\u001b[0;34m(\u001b[0m\u001b[0mreply\u001b[0m\u001b[0;34m,\u001b[0m \u001b[0mdict\u001b[0m\u001b[0;34m)\u001b[0m\u001b[0;34m:\u001b[0m\u001b[0;34m\u001b[0m\u001b[0m\n\u001b[0;32m--> 101\u001b[0;31m       \u001b[0mtime\u001b[0m\u001b[0;34m.\u001b[0m\u001b[0msleep\u001b[0m\u001b[0;34m(\u001b[0m\u001b[0;36m0.025\u001b[0m\u001b[0;34m)\u001b[0m\u001b[0;34m\u001b[0m\u001b[0m\n\u001b[0m\u001b[1;32m    102\u001b[0m       \u001b[0;32mcontinue\u001b[0m\u001b[0;34m\u001b[0m\u001b[0m\n\u001b[1;32m    103\u001b[0m     if (reply.get('type') == 'colab_reply' and\n",
            "\u001b[0;31mKeyboardInterrupt\u001b[0m: "
          ]
        }
      ]
    },
    {
      "metadata": {
        "id": "duyP6VAJw_5h",
        "colab_type": "code",
        "colab": {}
      },
      "cell_type": "code",
      "source": [
        "import pickle \n",
        "with open(\"weather_records\", \"rb\") as f:\n",
        "    records = pickle.load(f)"
      ],
      "execution_count": 0,
      "outputs": []
    },
    {
      "metadata": {
        "id": "zNlPaDdwxABD",
        "colab_type": "code",
        "colab": {
          "base_uri": "https://localhost:8080/",
          "height": 323
        },
        "outputId": "0754281d-e509-41b5-a348-96151145c230"
      },
      "cell_type": "code",
      "source": [
        "df = pd.DataFrame(records, columns=features)\n",
        "df.info()\n",
        "#set a pandas dataframe and use the types of datas as \"labels\" like a dictionary"
      ],
      "execution_count": 184,
      "outputs": [
        {
          "output_type": "stream",
          "text": [
            "<class 'pandas.core.frame.DataFrame'>\n",
            "RangeIndex: 999 entries, 0 to 998\n",
            "Data columns (total 13 columns):\n",
            "date             999 non-null datetime64[ns]\n",
            "meantempm        999 non-null object\n",
            "meandewptm       999 non-null object\n",
            "meanpressurem    999 non-null object\n",
            "maxhumidity      999 non-null object\n",
            "minhumidity      999 non-null object\n",
            "maxtempm         999 non-null object\n",
            "mintempm         999 non-null object\n",
            "maxdewptm        999 non-null object\n",
            "mindewptm        999 non-null object\n",
            "maxpressurem     999 non-null object\n",
            "minpressurem     999 non-null object\n",
            "precipm          999 non-null object\n",
            "dtypes: datetime64[ns](1), object(12)\n",
            "memory usage: 101.5+ KB\n"
          ],
          "name": "stdout"
        }
      ]
    },
    {
      "metadata": {
        "id": "Rt0RW4rwmn1-",
        "colab_type": "code",
        "colab": {
          "base_uri": "https://localhost:8080/",
          "height": 2176
        },
        "outputId": "621a9eaf-76d1-4da3-c133-372473298d3e"
      },
      "cell_type": "code",
      "source": [
        "print(df)"
      ],
      "execution_count": 186,
      "outputs": [
        {
          "output_type": "stream",
          "text": [
            "          date meantempm meandewptm meanpressurem maxhumidity minhumidity  \\\n",
            "0   2016-08-16        24         12       1015.52          80          14   \n",
            "1   2016-08-17        22         12       1012.45          76          21   \n",
            "2   2016-08-18        18         14       1012.43          91          49   \n",
            "3   2016-08-19        22         15       1011.39          95          34   \n",
            "4   2016-08-20        18         15       1016.12          88          60   \n",
            "5   2016-08-21        18         10       1020.80          92          25   \n",
            "6   2016-08-22        18          8       1026.82          76          22   \n",
            "7   2016-08-23        20         12       1024.98          82          25   \n",
            "8   2016-08-24        23         13       1020.53          82          23   \n",
            "9   2016-08-25        24         14       1017.46          80          23   \n",
            "10  2016-08-26        25         16       1017.41          75          25   \n",
            "11  2016-08-27        26         16       1017.84          85          26   \n",
            "12  2016-08-28        23         15       1019.31          94          24   \n",
            "13  2016-08-29        22         15       1017.84          84          36   \n",
            "14  2016-08-30        22         14       1018.94          82          31   \n",
            "15  2016-08-31        22         14       1019.86          78          32   \n",
            "16  2016-09-01        23         14       1021.29          84          22   \n",
            "17  2016-09-02        22         12       1020.20          79          24   \n",
            "18  2016-09-03        21         11       1019.68          82          19   \n",
            "19  2016-09-04        18         12       1019.53          93          27   \n",
            "20  2016-09-05        18         15       1021.04          95          59   \n",
            "21  2016-09-06        20         13       1021.72          87          32   \n",
            "22  2016-09-07        20         11       1017.96          88          23   \n",
            "23  2016-09-08        21         12       1015.58          83          24   \n",
            "24  2016-09-09        21         13       1015.89          82          26   \n",
            "25  2016-09-10        22         13       1015.92          82          27   \n",
            "26  2016-09-11        21         13       1017.11          86          27   \n",
            "27  2016-09-12        23         12       1018.27          75          24   \n",
            "28  2016-09-13        22         11       1015.25          72          13   \n",
            "29  2016-09-14        23          9       1012.29          63          14   \n",
            "..         ...       ...        ...           ...         ...         ...   \n",
            "969 2017-11-29         2          0       1006.49         100          72   \n",
            "970 2017-11-30         0         -4       1008.55          80          46   \n",
            "971 2017-12-01         0         -4       1010.92          86          45   \n",
            "972 2017-12-02        -1         -6       1017.32          80          36   \n",
            "973 2017-12-03        -2         -6       1025.81          86          34   \n",
            "974 2017-12-04        -1         -6       1033.58          80          38   \n",
            "975 2017-12-05         0         -5       1037.98          86          39   \n",
            "976 2017-12-06        -0         -5       1035.32          86          33   \n",
            "977 2017-12-07         1         -6       1028.85          86          28   \n",
            "978 2017-12-08         2         -2       1018.18         100          36   \n",
            "979 2017-12-09        -2         -5       1018.90          93          55   \n",
            "980 2017-12-10        -4         -5       1007.57         100          60   \n",
            "981 2017-12-11         2          0        991.14         100          53   \n",
            "982 2017-12-12         1          0       1010.26         100          72   \n",
            "983 2017-12-13        -2         -4       1018.94         100          52   \n",
            "984 2017-12-14         2          1       1005.94         100          83   \n",
            "985 2017-12-15         2          0       1002.04         100          71   \n",
            "986 2017-12-16         0         -1       1011.96         100          71   \n",
            "987 2017-12-17        -2         -4       1024.79         100          58   \n",
            "988 2017-12-18        -4         -6       1027.15         100          71   \n",
            "989 2017-12-19        -5         -7       1034.03          93          67   \n",
            "990 2017-12-20        -2         -4       1034.63          93          57   \n",
            "991 2017-12-21        -2         -4       1038.25          93          55   \n",
            "992 2017-12-22        -0         -2       1036.72         100          73   \n",
            "993 2017-12-23         2         -0       1037.04          93          54   \n",
            "994 2017-12-24        -0         -4       1033.33         100          60   \n",
            "995 2017-12-25        -0         -4       1024.00          93          51   \n",
            "996 2017-12-26         1         -4       1013.09          93          57   \n",
            "997 2017-12-27         2         -1        993.09          93          62   \n",
            "998 2017-12-28        -2         -4       1003.18          93          46   \n",
            "\n",
            "    maxtempm mintempm maxdewptm mindewptm maxpressurem minpressurem precipm  \n",
            "0         32       15        15         7         1019         1010     0.0  \n",
            "1         29       14        15        10         1016         1008     0.1  \n",
            "2         22       15        16        12         1014         1010     0.3  \n",
            "3         28       17        16        12         1014         1008     1.0  \n",
            "4         20       16        17        13         1019         1013     0.3  \n",
            "5         24       11        13         6         1024         1018     0.4  \n",
            "6         26       10        12         6         1029         1023     0.0  \n",
            "7         28       12        16         9         1028         1019     0.0  \n",
            "8         31       15        16        11         1025         1014     0.0  \n",
            "9         33       16        16        12         1022         1011     0.0  \n",
            "10        33       17        19        13         1021         1012     0.0  \n",
            "11        33       18        19        14         1022         1012     4.0  \n",
            "12        31       15        17        12         1023         1013     1.0  \n",
            "13        27       17        17        13         1021         1014     0.0  \n",
            "14        28       15        17        12         1021         1015     0.0  \n",
            "15        28       16        15        13         1022         1016     0.0  \n",
            "16        30       16        16        11         1025         1017     0.0  \n",
            "17        29       14        14        11         1024         1015     0.0  \n",
            "18        29       13        13         8         1023         1015     0.0  \n",
            "19        25       12        16         9         1022         1015     1.0  \n",
            "20        20       15        16        14         1023         1019     2.0  \n",
            "21        25       14        15        11         1025         1017     0.0  \n",
            "22        27       12        14         8         1022         1012     0.0  \n",
            "23        29       13        14        10         1019         1010     0.0  \n",
            "24        28       14        16        11         1019         1011     0.0  \n",
            "25        29       15        15         9         1019         1011     0.0  \n",
            "26        29       13        16        11         1020         1013     0.0  \n",
            "27        30       16        15        10         1021         1014     0.0  \n",
            "28        31       14        14         6         1020         1009     0.0  \n",
            "29        30       16        13         6         1016         1007     0.0  \n",
            "..       ...      ...       ...       ...          ...          ...     ...  \n",
            "969        3        0         2        -2         1010         1004     1.0  \n",
            "970        2       -1        -3        -5         1011         1006     0.0  \n",
            "971        2       -2        -3        -6         1017         1007     0.0  \n",
            "972        2       -4        -4        -7         1024         1014     0.0  \n",
            "973        2       -5        -5        -8         1032         1021     0.0  \n",
            "974        2       -4        -5        -7         1039         1029     0.0  \n",
            "975        4       -3        -4        -6         1042         1035     0.0  \n",
            "976        4       -5        -4        -7         1040         1032     0.0  \n",
            "977        7       -5        -4        -7         1036         1023     0.0  \n",
            "978        6       -1         1        -6         1023         1013     3.0  \n",
            "979        0       -5        -2        -9         1023         1015     0.2  \n",
            "980       -1       -6        -2       -10         1022          997    35.0  \n",
            "981        6       -2         3        -2         1000          986     2.0  \n",
            "982        3       -1         1        -2         1022          997     0.7  \n",
            "983        1       -4         0        -7         1025         1012     2.0  \n",
            "984        4        0         3        -1         1013          997     0.2  \n",
            "985        3        0         3        -2         1006          997     3.0  \n",
            "986        2       -1         0        -2         1022         1003     0.3  \n",
            "987        1       -5         0        -7         1033         1020     0.3  \n",
            "988       -1       -8        -3        -9         1034         1022     6.0  \n",
            "989        0      -10        -4       -11         1039         1029     0.0  \n",
            "990        1       -4        -3        -4         1039         1032     0.0  \n",
            "991        1       -4        -2        -6         1043         1036     0.0  \n",
            "992        2       -3         0        -5         1041         1034     0.0  \n",
            "993        6       -1         1        -3         1040         1035     0.0  \n",
            "994        3       -4        -2        -5         1040         1029     0.0  \n",
            "995        4       -5        -2        -6         1033         1018     0.0  \n",
            "996        7       -5        -1        -7         1022         1003     0.0  \n",
            "997        4       -1         1        -3         1005          988     2.0  \n",
            "998        2       -5        -1        -9         1015          995     0.0  \n",
            "\n",
            "[999 rows x 13 columns]\n"
          ],
          "name": "stdout"
        }
      ]
    },
    {
      "metadata": {
        "id": "H2-sQ9dgxAEI",
        "colab_type": "code",
        "colab": {}
      },
      "cell_type": "code",
      "source": [
        "#the goal with this project is to use the information from the days x-1, x-2,...x-n to predict the mean temperature at a day x\n",
        "def derive_nth_day_feature(df, feature, N):\n",
        "    rows = df.shape[0]\n",
        "    nth_prior_measurements = [None]*N + [df[feature][i-N] for i in range(N, rows)]\n",
        "    col_name = col_name = \"{}_{}\".format(feature, N)\n",
        "    df[col_name] = nth_prior_measurements\n",
        "for feature in features:\n",
        "    if feature != 'date':\n",
        "        for N in range(1,4):\n",
        "            derive_nth_day_feature(df, feature, N)    \n",
        "    "
      ],
      "execution_count": 0,
      "outputs": []
    },
    {
      "metadata": {
        "id": "TgKyXuhoxAIo",
        "colab_type": "code",
        "colab": {}
      },
      "cell_type": "code",
      "source": [
        "#cleaning data, we remove the useless data\n",
        "to_remove = [feature for feature in features if feature not in [\"meantempm\", \"mintempm\", \"maxtempm\"]]\n",
        "\n",
        "to_keep = [col for col in df.columns if col not in to_remove]\n",
        "\n",
        "df = df[to_keep]\n",
        "df.columns\n",
        "df = df.apply(pd.to_numeric, errors=\"coerce\")\n",
        "df = df.dropna()"
      ],
      "execution_count": 0,
      "outputs": []
    },
    {
      "metadata": {
        "id": "xNsmDblRxAMT",
        "colab_type": "code",
        "colab": {
          "base_uri": "https://localhost:8080/",
          "height": 765
        },
        "outputId": "0da5188d-9938-4830-9f0a-59b8be92e119"
      },
      "cell_type": "code",
      "source": [
        "df.info()"
      ],
      "execution_count": 189,
      "outputs": [
        {
          "output_type": "stream",
          "text": [
            "<class 'pandas.core.frame.DataFrame'>\n",
            "Int64Index: 996 entries, 3 to 998\n",
            "Data columns (total 39 columns):\n",
            "meantempm          996 non-null int64\n",
            "maxtempm           996 non-null int64\n",
            "mintempm           996 non-null int64\n",
            "meantempm_1        996 non-null float64\n",
            "meantempm_2        996 non-null float64\n",
            "meantempm_3        996 non-null float64\n",
            "meandewptm_1       996 non-null float64\n",
            "meandewptm_2       996 non-null float64\n",
            "meandewptm_3       996 non-null float64\n",
            "meanpressurem_1    996 non-null float64\n",
            "meanpressurem_2    996 non-null float64\n",
            "meanpressurem_3    996 non-null float64\n",
            "maxhumidity_1      996 non-null float64\n",
            "maxhumidity_2      996 non-null float64\n",
            "maxhumidity_3      996 non-null float64\n",
            "minhumidity_1      996 non-null float64\n",
            "minhumidity_2      996 non-null float64\n",
            "minhumidity_3      996 non-null float64\n",
            "maxtempm_1         996 non-null float64\n",
            "maxtempm_2         996 non-null float64\n",
            "maxtempm_3         996 non-null float64\n",
            "mintempm_1         996 non-null float64\n",
            "mintempm_2         996 non-null float64\n",
            "mintempm_3         996 non-null float64\n",
            "maxdewptm_1        996 non-null float64\n",
            "maxdewptm_2        996 non-null float64\n",
            "maxdewptm_3        996 non-null float64\n",
            "mindewptm_1        996 non-null float64\n",
            "mindewptm_2        996 non-null float64\n",
            "mindewptm_3        996 non-null float64\n",
            "maxpressurem_1     996 non-null float64\n",
            "maxpressurem_2     996 non-null float64\n",
            "maxpressurem_3     996 non-null float64\n",
            "minpressurem_1     996 non-null float64\n",
            "minpressurem_2     996 non-null float64\n",
            "minpressurem_3     996 non-null float64\n",
            "precipm_1          996 non-null float64\n",
            "precipm_2          996 non-null float64\n",
            "precipm_3          996 non-null float64\n",
            "dtypes: float64(36), int64(3)\n",
            "memory usage: 311.2 KB\n"
          ],
          "name": "stdout"
        }
      ]
    },
    {
      "metadata": {
        "id": "NibiA9RcxAQS",
        "colab_type": "code",
        "colab": {}
      },
      "cell_type": "code",
      "source": [
        "df = df.drop(['mintempm', 'maxtempm'], axis=1)\n",
        "X = df[[col for col in df.columns if col != 'meantempm']]\n",
        "y = df['meantempm'] "
      ],
      "execution_count": 0,
      "outputs": []
    },
    {
      "metadata": {
        "id": "OLdn5AsPxAUU",
        "colab_type": "code",
        "colab": {}
      },
      "cell_type": "code",
      "source": [
        "X = df[[col for col in df.columns if col != 'meantempm']]\n",
        "y = df['meantempm'] "
      ],
      "execution_count": 0,
      "outputs": []
    },
    {
      "metadata": {
        "id": "jTKo1f5yHZFl",
        "colab_type": "code",
        "colab": {}
      },
      "cell_type": "code",
      "source": [
        "X = X.values\n",
        "y= y.values"
      ],
      "execution_count": 0,
      "outputs": []
    },
    {
      "metadata": {
        "id": "fDS1D2sizvbM",
        "colab_type": "code",
        "colab": {
          "base_uri": "https://localhost:8080/",
          "height": 34
        },
        "outputId": "e7a958f6-47c0-494d-aa13-ecaac234c869"
      },
      "cell_type": "code",
      "source": [
        "import keras\n",
        "import numpy as np\n",
        "from keras.models import Sequential\n",
        "import keras.callbacks as cb\n",
        "from keras.datasets import mnist\n",
        "\n",
        "from keras.layers import Dense, Dropout,Activation\n",
        "from keras.optimizers import RMSprop\n",
        "from IPython.display import SVG\n",
        "from keras.utils.vis_utils import model_to_dot\n",
        "\n",
        "import tensorflow as tf\n",
        "device_name = tf.test.gpu_device_name()\n",
        "if device_name != '/device:GPU:0':\n",
        "  raise SystemError('GPU device not found')\n",
        "print('Found GPU at: {}'.format(device_name))\n",
        "\n"
      ],
      "execution_count": 193,
      "outputs": [
        {
          "output_type": "stream",
          "text": [
            "Found GPU at: /device:GPU:0\n"
          ],
          "name": "stdout"
        }
      ]
    },
    {
      "metadata": {
        "id": "W7AHP_IZzvl0",
        "colab_type": "code",
        "colab": {
          "base_uri": "https://localhost:8080/",
          "height": 68
        },
        "outputId": "21ff0732-3f79-4688-bdc3-d3a1576a7a81"
      },
      "cell_type": "code",
      "source": [
        "from sklearn.metrics import explained_variance_score,mean_absolute_error,median_absolute_error\n",
        "from sklearn.model_selection import train_test_split  \n",
        "\n",
        "class LossHistory(cb.Callback):\n",
        "    def on_train_begin(self, logs={}):\n",
        "        self.losses = []\n",
        "\n",
        "    def on_batch_end(self, batch, logs={}):\n",
        "        batch_loss = logs.get('loss')\n",
        "        self.losses.append(batch_loss)\n",
        "\n",
        "        \n",
        "        \n",
        "history = LossHistory()\n",
        "X_train, X_tmp, y_train, y_tmp = train_test_split(X, y, test_size=0.2, random_state=23)\n",
        "X_test, X_val, y_test, y_val = train_test_split(X_tmp, y_tmp, test_size=0.5, random_state=23)\n",
        "\n",
        "X_train.shape, X_test.shape, X_val.shape  \n",
        "print(\"Training instances   {}, Training features   {}\".format(X_train.shape[0], X_train.shape[1]))  \n",
        "print(\"Validation instances {}, Validation features {}\".format(X_val.shape[0], X_val.shape[1]))  \n",
        "print(\"Testing instances    {}, Testing features    {}\".format(X_test.shape[0], X_test.shape[1]))"
      ],
      "execution_count": 194,
      "outputs": [
        {
          "output_type": "stream",
          "text": [
            "Training instances   796, Training features   36\n",
            "Validation instances 100, Validation features 36\n",
            "Testing instances    100, Testing features    36\n"
          ],
          "name": "stdout"
        }
      ]
    },
    {
      "metadata": {
        "id": "sjQfusG6HqmC",
        "colab_type": "code",
        "colab": {}
      },
      "cell_type": "code",
      "source": [
        "X_train = X_train.astype('float32')\n",
        "X_val = X_val.astype(\"float32\")\n",
        "X_test = X_test.astype('float32')\n",
        "y_train = np.reshape(y_train,(796,1))\n",
        "y_train = y_train.astype(\"float32\")\n",
        "y_test = np.reshape(y_test,(100,1))\n",
        "y_test = y_test.astype(\"float32\")\n",
        "y_val = np.reshape(y_val,(100,1))\n",
        "y_val = y_val.astype(\"float32\")\n"
      ],
      "execution_count": 0,
      "outputs": []
    },
    {
      "metadata": {
        "id": "5PrFLPrbHvvy",
        "colab_type": "code",
        "colab": {}
      },
      "cell_type": "code",
      "source": [
        "y = y/100"
      ],
      "execution_count": 0,
      "outputs": []
    },
    {
      "metadata": {
        "id": "vPGX_akMHv2E",
        "colab_type": "code",
        "colab": {
          "base_uri": "https://localhost:8080/",
          "height": 1904
        },
        "outputId": "b27a60ad-6d01-43dc-a6c8-ce7ad7df8ac7"
      },
      "cell_type": "code",
      "source": [
        "print(y)"
      ],
      "execution_count": 176,
      "outputs": [
        {
          "output_type": "stream",
          "text": [
            "[ 0.0022  0.0018  0.0018  0.0018  0.002   0.0023  0.0024  0.0025  0.0026\n",
            "  0.0023  0.0022  0.0022  0.0022  0.0023  0.0022  0.0021  0.0018  0.0018\n",
            "  0.002   0.002   0.0021  0.0021  0.0022  0.0021  0.0023  0.0022  0.0023\n",
            "  0.002   0.0015  0.0014  0.0014  0.0018  0.0015  0.0016  0.0017  0.0016\n",
            "  0.0016  0.0016  0.0017  0.0019  0.0016  0.0016  0.0016  0.0016  0.0016\n",
            "  0.0012  0.001   0.001   0.001   0.0009  0.0012  0.001   0.0007  0.001\n",
            "  0.0007  0.001   0.0011  0.0013  0.0012  0.001   0.0014  0.001   0.001\n",
            "  0.0008  0.0007  0.0008  0.0014  0.0012  0.0012  0.0013  0.001   0.0009\n",
            "  0.0008  0.0008  0.0008  0.0008  0.0008  0.0006  0.0009  0.0006  0.0004\n",
            "  0.0001  0.0001  0.0003  0.0004  0.0002  0.0003  0.0004  0.0006  0.0005\n",
            "  0.0007  0.0006  0.0006  0.0008  0.0009  0.0012  0.0012  0.0012  0.001\n",
            "  0.0008  0.0006  0.0003  0.0002  0.0002  0.0002  0.0001 -0.0001  0.0001\n",
            "  0.0002  0.0001  0.      0.0002  0.0002  0.0002 -0.0002 -0.0002  0.\n",
            "  0.      0.      0.     -0.0002 -0.0002  0.0002  0.0002  0.      0.\n",
            "  0.0002  0.      0.0004  0.0003  0.0002 -0.0001 -0.0001 -0.0003 -0.0002\n",
            " -0.0002 -0.0004  0.     -0.0002 -0.0001 -0.0004 -0.0006 -0.0002  0.0001\n",
            "  0.      0.      0.      0.0001  0.     -0.0004 -0.0006 -0.0007 -0.0008\n",
            " -0.0007 -0.0005 -0.0002  0.0002 -0.0002 -0.0004 -0.0004 -0.0004  0.0004\n",
            "  0.0004  0.0002  0.0002  0.0004  0.0006  0.0008  0.0007  0.0002  0.\n",
            "  0.0005  0.0004  0.0003  0.0004  0.0003  0.0004  0.0008  0.0008  0.0008\n",
            "  0.0006  0.0006  0.0005  0.0006  0.0004  0.0005  0.0008  0.0008  0.001\n",
            "  0.0008  0.0006  0.0006  0.001   0.0004  0.0004  0.0006  0.0008  0.0008\n",
            "  0.0006  0.0003  0.0004  0.0003  0.0006  0.0012  0.0009  0.001   0.001\n",
            "  0.001   0.001   0.0011  0.0013  0.0008  0.0012  0.0012  0.0012  0.001\n",
            "  0.0012  0.0014  0.0013  0.001   0.0012  0.0012  0.0013  0.0014  0.0015\n",
            "  0.0012  0.0011  0.0014  0.0012  0.0013  0.0011  0.0012  0.0014  0.0016\n",
            "  0.0017  0.0014  0.0014  0.0014  0.0014  0.0012  0.0012  0.001   0.0008\n",
            "  0.0005  0.0006  0.0008  0.0012  0.0012  0.0014  0.0014  0.001   0.0006\n",
            "  0.0008  0.0009  0.0011  0.0009  0.0008  0.0011  0.001   0.0012  0.0014\n",
            "  0.0012  0.0012  0.0012  0.0014  0.0015  0.0016  0.0016  0.0016  0.0018\n",
            "  0.0018  0.002   0.0019  0.001   0.0013  0.0014  0.0018  0.002   0.002\n",
            "  0.002   0.002   0.0022  0.0023  0.0022  0.0022  0.0024  0.0021  0.0021\n",
            "  0.0022  0.002   0.0016  0.0014  0.0016  0.0016  0.0018  0.0022  0.0024\n",
            "  0.0024  0.0024  0.0024  0.0023  0.0023  0.0021  0.0022  0.0024  0.0026\n",
            "  0.0026  0.0026  0.0028  0.0026  0.0023  0.0023  0.0022  0.002   0.0018\n",
            "  0.0018  0.0018  0.0018  0.002   0.0021  0.0024  0.0026  0.0026  0.0026\n",
            "  0.0024  0.0022  0.0022  0.0023  0.0024  0.0024  0.0022  0.0022  0.0023\n",
            "  0.0025  0.0026  0.0024  0.0023  0.0022  0.0021  0.0019  0.0017  0.0018\n",
            "  0.002   0.0022  0.0022  0.0023  0.0022  0.0026  0.0025  0.0028  0.0026\n",
            "  0.0024  0.0022  0.0021  0.0018  0.002   0.0014  0.0013  0.0016  0.0018\n",
            "  0.0022  0.0022  0.0022  0.0023  0.0025  0.002   0.0018  0.0018  0.0021\n",
            "  0.0022  0.0022  0.0023  0.0026  0.0023  0.0023  0.0023  0.0024  0.0018\n",
            "  0.0018  0.0014  0.0016  0.0016  0.0019  0.002   0.0018  0.0016  0.0014\n",
            "  0.0016  0.0015  0.0016  0.0012  0.0012  0.001   0.001   0.0011  0.0012\n",
            "  0.0011  0.0012  0.0013  0.0014  0.0015  0.0018  0.0014  0.0015  0.0016\n",
            "  0.0017  0.0018  0.0016  0.0015  0.0016  0.0014  0.0014  0.0014  0.0013\n",
            "  0.001   0.0012  0.0014  0.0012  0.0013  0.0014  0.0014  0.0015  0.0015\n",
            "  0.0016  0.0014  0.0013  0.0014  0.0014  0.0014  0.001   0.0008  0.001\n",
            "  0.0012  0.0013  0.0012  0.0008  0.0007  0.0008  0.0007  0.0007  0.0008\n",
            "  0.0009  0.001   0.0008  0.0006  0.0004  0.0005  0.0007  0.0007  0.0006\n",
            "  0.0008  0.0003  0.0002  0.0002  0.0002  0.0002  0.0002  0.0004  0.0002\n",
            "  0.0004  0.0006  0.0006  0.0006  0.0006  0.0002  0.      0.      0.0002\n",
            "  0.      0.     -0.0001 -0.0002 -0.0001  0.      0.      0.0001  0.0002\n",
            " -0.0002 -0.0004  0.0002  0.0001 -0.0002  0.0002  0.0002  0.     -0.0002\n",
            " -0.0004 -0.0005 -0.0002 -0.0002  0.      0.0002  0.      0.      0.0001\n",
            "  0.0002 -0.0002  0.0024  0.0022  0.0018  0.0022  0.0018  0.0018  0.0018\n",
            "  0.002   0.0023  0.0024  0.0025  0.0026  0.0023  0.0022  0.0022  0.0022\n",
            "  0.0023  0.0022  0.0021  0.0018  0.0018  0.002   0.002   0.0021  0.0021\n",
            "  0.0022  0.0021  0.0023  0.0022  0.0023  0.002   0.0015  0.0014  0.0014\n",
            "  0.0018  0.0015  0.0016  0.0017  0.0016  0.0016  0.0016  0.0017  0.0019\n",
            "  0.0016  0.0016  0.0016  0.0016  0.0016  0.0012  0.001   0.001   0.001\n",
            "  0.0009  0.0012  0.001   0.0007  0.001   0.0007  0.001   0.0011  0.0013\n",
            "  0.0012  0.001   0.0014  0.001   0.001   0.0008  0.0007  0.0008  0.0014\n",
            "  0.0012  0.0012  0.0013  0.001   0.0009  0.0008  0.0008  0.0008  0.0008\n",
            "  0.0008  0.0006  0.0009  0.0006  0.0004  0.0001  0.0001  0.0003  0.0004\n",
            "  0.0002  0.0003  0.0004  0.0006  0.0005  0.0007  0.0006  0.0006  0.0008\n",
            "  0.0009  0.0012  0.0012  0.0012  0.001   0.0008  0.0006  0.0003  0.0002\n",
            "  0.0002  0.0002  0.0001 -0.0001  0.0001  0.0002  0.0001  0.      0.0002\n",
            "  0.0002  0.0002 -0.0002 -0.0002  0.      0.      0.      0.     -0.0002\n",
            " -0.0002  0.0002  0.0002  0.      0.      0.0002  0.      0.0004  0.0003\n",
            "  0.0002 -0.0001 -0.0001 -0.0003 -0.0002 -0.0002 -0.0004  0.     -0.0002\n",
            " -0.0001 -0.0004 -0.0006 -0.0002  0.0001  0.      0.      0.      0.0001\n",
            "  0.     -0.0004 -0.0006 -0.0007 -0.0008 -0.0007 -0.0005 -0.0002  0.0002\n",
            " -0.0002 -0.0004 -0.0004 -0.0004  0.0004  0.0004  0.0002  0.0002  0.0004\n",
            "  0.0006  0.0008  0.0007  0.0002  0.      0.0005  0.0004  0.0003  0.0004\n",
            "  0.0003  0.0004  0.0008  0.0008  0.0008  0.0006  0.0006  0.0005  0.0006\n",
            "  0.0004  0.0005  0.0008  0.0008  0.001   0.0008  0.0006  0.0006  0.001\n",
            "  0.0004  0.0004  0.0006  0.0008  0.0008  0.0006  0.0003  0.0004  0.0003\n",
            "  0.0006  0.0012  0.0009  0.001   0.001   0.001   0.001   0.0011  0.0013\n",
            "  0.0008  0.0012  0.0012  0.0012  0.001   0.0012  0.0014  0.0013  0.001\n",
            "  0.0012  0.0012  0.0013  0.0014  0.0015  0.0012  0.0011  0.0014  0.0012\n",
            "  0.0013  0.0011  0.0012  0.0014  0.0016  0.0017  0.0014  0.0014  0.0014\n",
            "  0.0014  0.0012  0.0012  0.001   0.0008  0.0005  0.0006  0.0008  0.0012\n",
            "  0.0012  0.0014  0.0014  0.001   0.0006  0.0008  0.0009  0.0011  0.0009\n",
            "  0.0008  0.0011  0.001   0.0012  0.0014  0.0012  0.0012  0.0012  0.0014\n",
            "  0.0015  0.0016  0.0016  0.0016  0.0018  0.0018  0.002   0.0019  0.001\n",
            "  0.0013  0.0014  0.0018  0.002   0.002   0.002   0.002   0.0022  0.0023\n",
            "  0.0022  0.0022  0.0024  0.0021  0.0021  0.0022  0.002   0.0016  0.0014\n",
            "  0.0016  0.0016  0.0018  0.0022  0.0024  0.0024  0.0024  0.0024  0.0023\n",
            "  0.0023  0.0021  0.0022  0.0024  0.0026  0.0026  0.0026  0.0028  0.0026\n",
            "  0.0023  0.0023  0.0022  0.002   0.0018  0.0018  0.0018  0.0018  0.002\n",
            "  0.0021  0.0024  0.0026  0.0026  0.0026  0.0024  0.0022  0.0022  0.0023\n",
            "  0.0024  0.0024  0.0022  0.0022  0.0023  0.0025  0.0026  0.0024  0.0023\n",
            "  0.0022  0.0021  0.0019  0.0017  0.0018  0.002   0.0022  0.0022  0.0023\n",
            "  0.0022  0.0026  0.0025  0.0028  0.0026  0.0024  0.0022  0.0021  0.0018\n",
            "  0.002   0.0014  0.0013  0.0016  0.0018  0.0022  0.0022  0.0022  0.0023\n",
            "  0.0025  0.002   0.0018  0.0018  0.0022  0.0022  0.0023  0.0026  0.0023\n",
            "  0.0023  0.0023  0.0024  0.0018  0.0018  0.0014  0.0016  0.0016  0.0019\n",
            "  0.002   0.0018  0.0016  0.0014  0.0016  0.0015  0.0016  0.0012  0.0012\n",
            "  0.001   0.001   0.0011  0.0012  0.0011  0.0012  0.0013  0.0014  0.0015\n",
            "  0.0018  0.0014  0.0015  0.0016  0.0017  0.0018  0.0016  0.0015  0.0016\n",
            "  0.0014  0.0014  0.0014  0.0013  0.001   0.0012  0.0014  0.0012  0.0013\n",
            "  0.0014  0.0014  0.0015  0.0015  0.0016  0.0014  0.0013  0.0014  0.0014\n",
            "  0.0014  0.001   0.0008  0.001   0.0012  0.0013  0.0012  0.0008  0.0007\n",
            "  0.0008  0.0007  0.0007  0.0008  0.0009  0.001   0.0008  0.0006  0.0004\n",
            "  0.0005  0.0007  0.0007  0.0006  0.0008  0.0003  0.0002  0.0002  0.0002\n",
            "  0.0002  0.0002  0.0004  0.0002  0.0004  0.0006  0.0006  0.0006  0.0006\n",
            "  0.0002  0.      0.      0.0002  0.      0.     -0.0001 -0.0002 -0.0001\n",
            "  0.      0.      0.0001  0.0002 -0.0002 -0.0004  0.0002  0.0001 -0.0002\n",
            "  0.0002  0.0002  0.     -0.0002 -0.0004 -0.0005 -0.0002 -0.0002  0.\n",
            "  0.0002  0.      0.      0.0001  0.0002 -0.0002]\n"
          ],
          "name": "stdout"
        }
      ]
    },
    {
      "metadata": {
        "id": "2yqUr-4oHv72",
        "colab_type": "code",
        "colab": {
          "base_uri": "https://localhost:8080/",
          "height": 1156
        },
        "outputId": "c09e972a-aeb5-4e32-fcfd-1a308f79b678"
      },
      "cell_type": "code",
      "source": [
        "print(y_train)"
      ],
      "execution_count": 170,
      "outputs": [
        {
          "output_type": "stream",
          "text": [
            "[ 0.12  0.12  0.22 -0.02  0.1   0.01  0.02  0.14  0.    0.26  0.18  0.14\n",
            "  0.18  0.26  0.08  0.23  0.13  0.08  0.1   0.18  0.08 -0.02  0.22  0.1\n",
            "  0.1   0.22  0.23  0.13 -0.02  0.13  0.16  0.22  0.02  0.14  0.01  0.12\n",
            "  0.    0.14  0.09  0.12  0.18  0.24  0.22  0.24  0.06  0.22  0.04  0.01\n",
            "  0.22  0.18  0.12  0.06  0.01  0.04  0.12  0.19  0.18  0.26  0.26  0.03\n",
            "  0.    0.1   0.08  0.12  0.22  0.16  0.18  0.14  0.    0.14  0.11  0.17\n",
            "  0.14  0.2   0.1   0.02  0.08  0.07  0.22  0.06  0.    0.14  0.17  0.06\n",
            "  0.28  0.09  0.11  0.2   0.03  0.14  0.13  0.26  0.22  0.06 -0.02  0.02\n",
            "  0.13  0.22  0.19  0.07  0.14  0.11  0.07  0.08  0.26  0.08  0.14 -0.02\n",
            " -0.02  0.08  0.15  0.12 -0.02  0.14  0.07 -0.04  0.02  0.26  0.12  0.\n",
            "  0.06  0.1   0.21 -0.02  0.02  0.24  0.22  0.21  0.13  0.02  0.22 -0.04\n",
            "  0.22  0.14  0.16  0.06  0.22  0.04  0.06  0.1   0.16  0.04  0.02  0.\n",
            "  0.    0.07  0.12  0.16 -0.03  0.16  0.02 -0.02  0.17  0.1   0.16  0.23\n",
            "  0.04  0.23 -0.02  0.11  0.11  0.08  0.07  0.2   0.02  0.1   0.26  0.06\n",
            "  0.04  0.14  0.08  0.14  0.04  0.14  0.16  0.    0.14  0.06  0.14  0.18\n",
            "  0.24  0.03  0.06  0.14  0.02  0.08  0.1   0.03  0.18  0.05  0.08  0.02\n",
            "  0.12  0.23  0.1   0.02 -0.04  0.2   0.04  0.05  0.13  0.22  0.04  0.18\n",
            "  0.    0.13  0.18  0.09  0.16  0.16  0.    0.18  0.21 -0.01  0.1   0.02\n",
            "  0.09  0.24  0.06 -0.01  0.07  0.18  0.18  0.12  0.08  0.13  0.23  0.08\n",
            "  0.13 -0.02  0.05  0.14 -0.04  0.23  0.1   0.24  0.14  0.23  0.05  0.07\n",
            "  0.18  0.08  0.12  0.04  0.06  0.02  0.05  0.11  0.24  0.24  0.1   0.23\n",
            "  0.17  0.24  0.12  0.04  0.01 -0.04 -0.01  0.01  0.1   0.1   0.2   0.07\n",
            "  0.06  0.24  0.14  0.12  0.12  0.28  0.28 -0.04  0.16  0.24  0.12  0.08\n",
            "  0.15 -0.01  0.07  0.14  0.02 -0.07  0.16  0.14  0.12  0.14  0.18  0.1\n",
            "  0.04  0.22  0.    0.13  0.14  0.02  0.14  0.16  0.1   0.16  0.01  0.16\n",
            "  0.2   0.18  0.11  0.04  0.23  0.1   0.03  0.02  0.1   0.11  0.14  0.12\n",
            "  0.26  0.23  0.1   0.16  0.23 -0.02  0.22  0.06  0.1   0.14  0.14  0.1\n",
            "  0.16  0.28  0.02  0.24  0.17  0.14  0.26  0.23  0.12  0.    0.23  0.02\n",
            "  0.21  0.23  0.    0.02  0.16  0.08  0.25  0.22  0.2   0.08  0.05  0.22\n",
            "  0.06  0.22  0.01  0.24  0.19  0.    0.    0.08  0.21  0.22  0.03  0.19\n",
            "  0.02  0.14  0.2   0.06 -0.01  0.26  0.02  0.06  0.15  0.08  0.03  0.18\n",
            "  0.2   0.12  0.18  0.2   0.26  0.    0.01  0.16  0.14  0.23  0.26  0.15\n",
            "  0.1   0.13  0.12  0.12  0.24 -0.04  0.02  0.16  0.21  0.    0.18  0.\n",
            "  0.02  0.07  0.1   0.21  0.25  0.2   0.22  0.13  0.18  0.18  0.04  0.22\n",
            "  0.12  0.    0.23  0.08  0.25  0.22  0.23  0.08  0.12  0.18  0.2   0.\n",
            "  0.23  0.    0.01  0.22 -0.04  0.15  0.22  0.16 -0.02  0.    0.11  0.08\n",
            "  0.22  0.26  0.03  0.01  0.14  0.03  0.2   0.    0.21  0.03  0.18  0.06\n",
            "  0.    0.22  0.04  0.16  0.06  0.06  0.16  0.1   0.24  0.02  0.05  0.12\n",
            "  0.02  0.22 -0.02  0.11  0.22  0.07  0.08  0.08  0.04  0.23  0.12  0.12\n",
            "  0.01  0.05  0.1   0.08  0.02  0.22  0.24  0.15  0.1   0.16  0.04  0.16\n",
            "  0.04 -0.02  0.04  0.08  0.26  0.03  0.    0.25  0.   -0.04  0.08 -0.01\n",
            "  0.09  0.01 -0.02  0.1   0.02  0.2   0.2   0.02  0.18  0.12  0.    0.02\n",
            "  0.14  0.    0.04  0.22  0.22  0.12  0.22  0.06  0.25  0.08  0.    0.18\n",
            " -0.02  0.18 -0.02  0.08  0.1   0.21  0.08  0.12 -0.01  0.19  0.    0.22\n",
            "  0.14  0.23  0.12  0.02 -0.07  0.1   0.16  0.1   0.02  0.    0.06 -0.02\n",
            "  0.14  0.02  0.1   0.23  0.12  0.02  0.24  0.01  0.2  -0.02  0.    0.06\n",
            "  0.2   0.17  0.05  0.21  0.08  0.    0.12  0.14  0.14  0.04  0.16  0.02\n",
            "  0.15  0.02  0.15  0.18  0.18  0.16 -0.02  0.02  0.12  0.23  0.26 -0.04\n",
            "  0.06  0.12  0.23  0.22  0.    0.16  0.04 -0.02  0.14  0.14  0.02  0.26\n",
            "  0.15  0.08  0.2   0.08 -0.05  0.2   0.02  0.12  0.06  0.12  0.14  0.18\n",
            "  0.02  0.09  0.08  0.02 -0.04  0.23 -0.02  0.12  0.2  -0.04  0.12  0.12\n",
            "  0.05  0.12  0.12  0.12  0.02  0.21  0.14  0.03  0.1   0.09  0.08  0.17\n",
            "  0.11  0.06  0.04  0.08  0.09 -0.06  0.03  0.02  0.    0.2   0.16  0.14\n",
            "  0.18  0.2   0.22  0.02  0.22 -0.02  0.    0.06  0.1   0.1   0.05  0.02\n",
            "  0.24  0.06  0.15  0.16  0.19  0.25  0.16  0.14  0.18  0.1   0.26  0.13\n",
            "  0.    0.07 -0.01  0.15  0.15  0.18  0.12  0.12  0.1   0.08  0.04  0.14\n",
            " -0.05  0.22  0.02  0.22  0.21  0.26  0.13  0.01  0.2   0.08  0.16  0.24\n",
            " -0.01  0.2   0.14  0.04  0.16  0.12  0.    0.22  0.24  0.15  0.13  0.09\n",
            "  0.18  0.14  0.1   0.23  0.21  0.14  0.24  0.04  0.05  0.   -0.04  0.08\n",
            " -0.06  0.12  0.12  0.2   0.14  0.14  0.12  0.09  0.12  0.24  0.06  0.14\n",
            "  0.22  0.22  0.07  0.26  0.01  0.23  0.02  0.07  0.07 -0.02  0.16  0.18\n",
            "  0.15  0.2   0.13  0.22  0.06  0.22  0.16  0.08  0.17  0.18  0.18  0.11\n",
            "  0.01  0.16  0.    0.04  0.16  0.02  0.06  0.14  0.02  0.12  0.21  0.06\n",
            "  0.16  0.13  0.06  0.1   0.14  0.1   0.08  0.12  0.15  0.13  0.04  0.16\n",
            "  0.06  0.24  0.14  0.16  0.22  0.1   0.11  0.04  0.1   0.09  0.23  0.1\n",
            "  0.1   0.24  0.07  0.04  0.02  0.19  0.26  0.06  0.14  0.18 -0.02  0.03\n",
            " -0.01  0.16  0.08  0.12]\n"
          ],
          "name": "stdout"
        }
      ]
    },
    {
      "metadata": {
        "id": "aOl3pJuLzvpe",
        "colab_type": "code",
        "colab": {
          "base_uri": "https://localhost:8080/",
          "height": 51
        },
        "outputId": "ca277092-929b-409b-8066-e79e5dacace4"
      },
      "cell_type": "code",
      "source": [
        "print(X_train.shape)\n",
        "print(y_train.shape)"
      ],
      "execution_count": 20,
      "outputs": [
        {
          "output_type": "stream",
          "text": [
            "(796, 36)\n",
            "(796, 1)\n"
          ],
          "name": "stdout"
        }
      ]
    },
    {
      "metadata": {
        "id": "AGEnxnsfzvtZ",
        "colab_type": "code",
        "colab": {}
      },
      "cell_type": "code",
      "source": [
        "X_train = X_train.astype('float32')\n",
        "X_val = X_val.astype(\"float32\")\n",
        "X_test = X_test.astype('float32')"
      ],
      "execution_count": 0,
      "outputs": []
    },
    {
      "metadata": {
        "id": "hKP2MZPCzv2Z",
        "colab_type": "code",
        "colab": {
          "base_uri": "https://localhost:8080/",
          "height": 204
        },
        "outputId": "35633b82-19db-45fd-907b-c28d90d5d7f5"
      },
      "cell_type": "code",
      "source": [
        "model = Sequential()\n",
        "\n",
        "\n",
        "model.add(Dense(10,kernel_initializer='normal',activation = \"relu\",input_dim=36))\n",
        "\n",
        "#model.add(Dense(10,kernel_initializer='normal',activation = \"relu\"))\n",
        "\n",
        "model.add(Dense(1, kernel_initializer='normal',activation=\"linear\"))\n",
        "model.compile(optimizer='adagrad',loss='MAE', metrics=['accuracy'])\n",
        "model.summary()\n",
        "\n"
      ],
      "execution_count": 249,
      "outputs": [
        {
          "output_type": "stream",
          "text": [
            "_________________________________________________________________\n",
            "Layer (type)                 Output Shape              Param #   \n",
            "=================================================================\n",
            "dense_72 (Dense)             (None, 10)                370       \n",
            "_________________________________________________________________\n",
            "dense_73 (Dense)             (None, 10)                110       \n",
            "=================================================================\n",
            "Total params: 480\n",
            "Trainable params: 480\n",
            "Non-trainable params: 0\n",
            "_________________________________________________________________\n"
          ],
          "name": "stdout"
        }
      ]
    },
    {
      "metadata": {
        "id": "c2fzlatK5A7t",
        "colab_type": "code",
        "colab": {
          "base_uri": "https://localhost:8080/",
          "height": 659
        },
        "outputId": "195be909-1b8d-4b2a-ded0-edd3b9d2d633"
      },
      "cell_type": "code",
      "source": [
        "history = model.fit(X_train,y_train,batch_size =64, epochs = 1000, verbose =0 , validation_data=(X_test, y_test))#5000-6000 epochs optimal ex"
      ],
      "execution_count": 250,
      "outputs": [
        {
          "output_type": "error",
          "ename": "ValueError",
          "evalue": "ignored",
          "traceback": [
            "\u001b[0;31m---------------------------------------------------------------------------\u001b[0m",
            "\u001b[0;31mValueError\u001b[0m                                Traceback (most recent call last)",
            "\u001b[0;32m<ipython-input-250-0f97b4a1d168>\u001b[0m in \u001b[0;36m<module>\u001b[0;34m()\u001b[0m\n\u001b[0;32m----> 1\u001b[0;31m \u001b[0mhistory\u001b[0m \u001b[0;34m=\u001b[0m \u001b[0mmodel\u001b[0m\u001b[0;34m.\u001b[0m\u001b[0mfit\u001b[0m\u001b[0;34m(\u001b[0m\u001b[0mX_train\u001b[0m\u001b[0;34m,\u001b[0m\u001b[0my_train\u001b[0m\u001b[0;34m,\u001b[0m\u001b[0mbatch_size\u001b[0m \u001b[0;34m=\u001b[0m\u001b[0;36m64\u001b[0m\u001b[0;34m,\u001b[0m \u001b[0mepochs\u001b[0m \u001b[0;34m=\u001b[0m \u001b[0;36m1000\u001b[0m\u001b[0;34m,\u001b[0m \u001b[0mverbose\u001b[0m \u001b[0;34m=\u001b[0m\u001b[0;36m0\u001b[0m \u001b[0;34m,\u001b[0m \u001b[0mvalidation_data\u001b[0m\u001b[0;34m=\u001b[0m\u001b[0;34m(\u001b[0m\u001b[0mX_test\u001b[0m\u001b[0;34m,\u001b[0m \u001b[0my_test\u001b[0m\u001b[0;34m)\u001b[0m\u001b[0;34m)\u001b[0m\u001b[0;31m#5000-6000 epochs optimal ex\u001b[0m\u001b[0;34m\u001b[0m\u001b[0m\n\u001b[0m",
            "\u001b[0;32m/usr/local/lib/python3.6/dist-packages/keras/models.py\u001b[0m in \u001b[0;36mfit\u001b[0;34m(self, x, y, batch_size, epochs, verbose, callbacks, validation_split, validation_data, shuffle, class_weight, sample_weight, initial_epoch, steps_per_epoch, validation_steps, **kwargs)\u001b[0m\n\u001b[1;32m   1000\u001b[0m                               \u001b[0minitial_epoch\u001b[0m\u001b[0;34m=\u001b[0m\u001b[0minitial_epoch\u001b[0m\u001b[0;34m,\u001b[0m\u001b[0;34m\u001b[0m\u001b[0m\n\u001b[1;32m   1001\u001b[0m                               \u001b[0msteps_per_epoch\u001b[0m\u001b[0;34m=\u001b[0m\u001b[0msteps_per_epoch\u001b[0m\u001b[0;34m,\u001b[0m\u001b[0;34m\u001b[0m\u001b[0m\n\u001b[0;32m-> 1002\u001b[0;31m                               validation_steps=validation_steps)\n\u001b[0m\u001b[1;32m   1003\u001b[0m \u001b[0;34m\u001b[0m\u001b[0m\n\u001b[1;32m   1004\u001b[0m     def evaluate(self, x=None, y=None,\n",
            "\u001b[0;32m/usr/local/lib/python3.6/dist-packages/keras/engine/training.py\u001b[0m in \u001b[0;36mfit\u001b[0;34m(self, x, y, batch_size, epochs, verbose, callbacks, validation_split, validation_data, shuffle, class_weight, sample_weight, initial_epoch, steps_per_epoch, validation_steps, **kwargs)\u001b[0m\n\u001b[1;32m   1628\u001b[0m             \u001b[0msample_weight\u001b[0m\u001b[0;34m=\u001b[0m\u001b[0msample_weight\u001b[0m\u001b[0;34m,\u001b[0m\u001b[0;34m\u001b[0m\u001b[0m\n\u001b[1;32m   1629\u001b[0m             \u001b[0mclass_weight\u001b[0m\u001b[0;34m=\u001b[0m\u001b[0mclass_weight\u001b[0m\u001b[0;34m,\u001b[0m\u001b[0;34m\u001b[0m\u001b[0m\n\u001b[0;32m-> 1630\u001b[0;31m             batch_size=batch_size)\n\u001b[0m\u001b[1;32m   1631\u001b[0m         \u001b[0;31m# Prepare validation data.\u001b[0m\u001b[0;34m\u001b[0m\u001b[0;34m\u001b[0m\u001b[0m\n\u001b[1;32m   1632\u001b[0m         \u001b[0mdo_validation\u001b[0m \u001b[0;34m=\u001b[0m \u001b[0;32mFalse\u001b[0m\u001b[0;34m\u001b[0m\u001b[0m\n",
            "\u001b[0;32m/usr/local/lib/python3.6/dist-packages/keras/engine/training.py\u001b[0m in \u001b[0;36m_standardize_user_data\u001b[0;34m(self, x, y, sample_weight, class_weight, check_array_lengths, batch_size)\u001b[0m\n\u001b[1;32m   1478\u001b[0m                                     \u001b[0moutput_shapes\u001b[0m\u001b[0;34m,\u001b[0m\u001b[0;34m\u001b[0m\u001b[0m\n\u001b[1;32m   1479\u001b[0m                                     \u001b[0mcheck_batch_axis\u001b[0m\u001b[0;34m=\u001b[0m\u001b[0;32mFalse\u001b[0m\u001b[0;34m,\u001b[0m\u001b[0;34m\u001b[0m\u001b[0m\n\u001b[0;32m-> 1480\u001b[0;31m                                     exception_prefix='target')\n\u001b[0m\u001b[1;32m   1481\u001b[0m         sample_weights = _standardize_sample_weights(sample_weight,\n\u001b[1;32m   1482\u001b[0m                                                      self._feed_output_names)\n",
            "\u001b[0;32m/usr/local/lib/python3.6/dist-packages/keras/engine/training.py\u001b[0m in \u001b[0;36m_standardize_input_data\u001b[0;34m(data, names, shapes, check_batch_axis, exception_prefix)\u001b[0m\n\u001b[1;32m    121\u001b[0m                             \u001b[0;34m': expected '\u001b[0m \u001b[0;34m+\u001b[0m \u001b[0mnames\u001b[0m\u001b[0;34m[\u001b[0m\u001b[0mi\u001b[0m\u001b[0;34m]\u001b[0m \u001b[0;34m+\u001b[0m \u001b[0;34m' to have shape '\u001b[0m \u001b[0;34m+\u001b[0m\u001b[0;34m\u001b[0m\u001b[0m\n\u001b[1;32m    122\u001b[0m                             \u001b[0mstr\u001b[0m\u001b[0;34m(\u001b[0m\u001b[0mshape\u001b[0m\u001b[0;34m)\u001b[0m \u001b[0;34m+\u001b[0m \u001b[0;34m' but got array with shape '\u001b[0m \u001b[0;34m+\u001b[0m\u001b[0;34m\u001b[0m\u001b[0m\n\u001b[0;32m--> 123\u001b[0;31m                             str(data_shape))\n\u001b[0m\u001b[1;32m    124\u001b[0m     \u001b[0;32mreturn\u001b[0m \u001b[0mdata\u001b[0m\u001b[0;34m\u001b[0m\u001b[0m\n\u001b[1;32m    125\u001b[0m \u001b[0;34m\u001b[0m\u001b[0m\n",
            "\u001b[0;31mValueError\u001b[0m: Error when checking target: expected dense_73 to have shape (10,) but got array with shape (1,)"
          ]
        }
      ]
    },
    {
      "metadata": {
        "id": "zwH4lFhQJQFJ",
        "colab_type": "code",
        "colab": {
          "base_uri": "https://localhost:8080/",
          "height": 1717
        },
        "outputId": "240d00aa-c875-4075-c5ec-8845147afa77"
      },
      "cell_type": "code",
      "source": [
        "model.predict(X_val,steps = 1)"
      ],
      "execution_count": 248,
      "outputs": [
        {
          "output_type": "execute_result",
          "data": {
            "text/plain": [
              "array([[ 1.55479450e+01],\n",
              "       [ 7.48356104e+00],\n",
              "       [ 1.03448610e+01],\n",
              "       [ 2.27558517e+01],\n",
              "       [ 2.49840088e+01],\n",
              "       [ 7.66210032e+00],\n",
              "       [-6.81710958e+00],\n",
              "       [ 1.86647797e+01],\n",
              "       [ 2.37456799e+01],\n",
              "       [ 1.00383005e+01],\n",
              "       [ 1.85640755e+01],\n",
              "       [ 1.60402584e+01],\n",
              "       [ 1.25053704e+00],\n",
              "       [ 1.17796946e+01],\n",
              "       [ 1.93692703e+01],\n",
              "       [ 1.38917608e+01],\n",
              "       [ 1.22268438e+01],\n",
              "       [ 2.17136421e+01],\n",
              "       [ 7.71263027e+00],\n",
              "       [ 1.96327269e+00],\n",
              "       [-5.32715738e-01],\n",
              "       [-1.16186893e+00],\n",
              "       [ 1.20189714e+01],\n",
              "       [ 9.36089516e+00],\n",
              "       [ 7.86569655e-01],\n",
              "       [ 1.41321239e+01],\n",
              "       [ 1.89337635e+01],\n",
              "       [-1.60649860e+00],\n",
              "       [ 4.29065752e+00],\n",
              "       [ 1.93094082e+01],\n",
              "       [ 9.33904457e+00],\n",
              "       [ 1.44366503e+01],\n",
              "       [-6.06818724e+00],\n",
              "       [ 2.27323608e+01],\n",
              "       [ 7.96028376e+00],\n",
              "       [ 1.15961914e+01],\n",
              "       [ 2.00126610e+01],\n",
              "       [ 2.27558517e+01],\n",
              "       [ 2.64296675e+00],\n",
              "       [ 2.21152630e+01],\n",
              "       [ 2.50556793e+01],\n",
              "       [ 1.95049191e+01],\n",
              "       [ 1.35322456e+01],\n",
              "       [ 2.13062229e+01],\n",
              "       [ 8.72160625e+00],\n",
              "       [ 1.49184866e+01],\n",
              "       [ 2.11950054e+01],\n",
              "       [ 3.12708187e+00],\n",
              "       [ 1.37649736e+01],\n",
              "       [ 1.32132101e+01],\n",
              "       [ 2.25825043e+01],\n",
              "       [ 1.52234373e+01],\n",
              "       [-9.38697278e-01],\n",
              "       [ 2.30887566e+01],\n",
              "       [ 2.24642982e+01],\n",
              "       [-1.50812328e+00],\n",
              "       [ 1.16951141e+01],\n",
              "       [ 4.69981059e-02],\n",
              "       [ 2.30759010e+01],\n",
              "       [ 1.82615070e+01],\n",
              "       [ 2.30294209e+01],\n",
              "       [ 1.00945368e+01],\n",
              "       [ 1.98372631e+01],\n",
              "       [ 1.95024185e+01],\n",
              "       [ 1.90190804e+00],\n",
              "       [-1.19547006e-02],\n",
              "       [ 9.34652996e+00],\n",
              "       [ 1.48038492e+01],\n",
              "       [ 1.25903645e+01],\n",
              "       [-7.04828119e+00],\n",
              "       [ 6.26447737e-01],\n",
              "       [ 2.40112762e+01],\n",
              "       [ 1.17957411e+01],\n",
              "       [ 2.49294949e+01],\n",
              "       [ 1.27841711e+01],\n",
              "       [ 9.33904457e+00],\n",
              "       [ 1.25672636e+01],\n",
              "       [ 1.67857563e+00],\n",
              "       [ 1.32388391e+01],\n",
              "       [-6.01486146e-01],\n",
              "       [ 1.49900999e+01],\n",
              "       [ 8.63350964e+00],\n",
              "       [ 2.06979923e+01],\n",
              "       [ 1.51253271e+01],\n",
              "       [ 1.47088299e+01],\n",
              "       [ 2.21240377e+00],\n",
              "       [ 1.04226809e+01],\n",
              "       [ 1.44211378e+01],\n",
              "       [ 1.22075357e+01],\n",
              "       [-1.24845159e+00],\n",
              "       [ 1.36146545e+01],\n",
              "       [-3.40241343e-01],\n",
              "       [ 1.96327269e+00],\n",
              "       [ 3.73367023e+00],\n",
              "       [ 1.85484428e+01],\n",
              "       [ 1.65036793e+01],\n",
              "       [-2.29398775e+00],\n",
              "       [ 1.18858271e+01],\n",
              "       [ 2.41866951e+01],\n",
              "       [ 2.34975014e+01]], dtype=float32)"
            ]
          },
          "metadata": {
            "tags": []
          },
          "execution_count": 248
        }
      ]
    },
    {
      "metadata": {
        "id": "43IZ3BV4KO4o",
        "colab_type": "code",
        "colab": {
          "base_uri": "https://localhost:8080/",
          "height": 1734
        },
        "outputId": "5c8dd420-0bcc-434b-95a8-1574c09294b3"
      },
      "cell_type": "code",
      "source": [
        "print(y_val)\n",
        "print(y_val.shape)"
      ],
      "execution_count": 247,
      "outputs": [
        {
          "output_type": "stream",
          "text": [
            "[[16.]\n",
            " [ 6.]\n",
            " [ 9.]\n",
            " [20.]\n",
            " [23.]\n",
            " [ 7.]\n",
            " [-7.]\n",
            " [18.]\n",
            " [25.]\n",
            " [ 8.]\n",
            " [16.]\n",
            " [15.]\n",
            " [ 0.]\n",
            " [12.]\n",
            " [18.]\n",
            " [14.]\n",
            " [12.]\n",
            " [23.]\n",
            " [ 8.]\n",
            " [ 3.]\n",
            " [ 0.]\n",
            " [-2.]\n",
            " [10.]\n",
            " [ 8.]\n",
            " [ 0.]\n",
            " [16.]\n",
            " [22.]\n",
            " [ 2.]\n",
            " [ 6.]\n",
            " [18.]\n",
            " [ 8.]\n",
            " [14.]\n",
            " [-5.]\n",
            " [23.]\n",
            " [ 9.]\n",
            " [13.]\n",
            " [20.]\n",
            " [20.]\n",
            " [ 6.]\n",
            " [23.]\n",
            " [26.]\n",
            " [20.]\n",
            " [12.]\n",
            " [19.]\n",
            " [10.]\n",
            " [15.]\n",
            " [21.]\n",
            " [ 4.]\n",
            " [16.]\n",
            " [14.]\n",
            " [21.]\n",
            " [16.]\n",
            " [ 0.]\n",
            " [23.]\n",
            " [22.]\n",
            " [ 2.]\n",
            " [11.]\n",
            " [ 1.]\n",
            " [24.]\n",
            " [10.]\n",
            " [22.]\n",
            " [ 7.]\n",
            " [20.]\n",
            " [18.]\n",
            " [ 3.]\n",
            " [-3.]\n",
            " [ 9.]\n",
            " [16.]\n",
            " [12.]\n",
            " [-8.]\n",
            " [ 0.]\n",
            " [24.]\n",
            " [12.]\n",
            " [26.]\n",
            " [13.]\n",
            " [ 8.]\n",
            " [12.]\n",
            " [ 4.]\n",
            " [10.]\n",
            " [-4.]\n",
            " [18.]\n",
            " [ 6.]\n",
            " [22.]\n",
            " [15.]\n",
            " [12.]\n",
            " [ 2.]\n",
            " [10.]\n",
            " [12.]\n",
            " [13.]\n",
            " [-1.]\n",
            " [13.]\n",
            " [-2.]\n",
            " [ 3.]\n",
            " [ 3.]\n",
            " [18.]\n",
            " [14.]\n",
            " [-4.]\n",
            " [ 9.]\n",
            " [22.]\n",
            " [25.]]\n",
            "(100, 1)\n"
          ],
          "name": "stdout"
        }
      ]
    },
    {
      "metadata": {
        "id": "GftL-D89MLlA",
        "colab_type": "code",
        "colab": {
          "base_uri": "https://localhost:8080/",
          "height": 51
        },
        "outputId": "1d4fc84f-e58e-468e-f52d-fce876c9d4fd"
      },
      "cell_type": "code",
      "source": [
        "prediction = model.predict(X_val,steps = 1)\n",
        "mean_error = abs((y_val-prediction))\n",
        "print(\"mean absolute error: \")\n",
        "print(mean_error.mean())\n"
      ],
      "execution_count": 245,
      "outputs": [
        {
          "output_type": "stream",
          "text": [
            "mean absolute error: \n",
            "1.3600297\n"
          ],
          "name": "stdout"
        }
      ]
    },
    {
      "metadata": {
        "id": "v4VAu4TTUEW7",
        "colab_type": "code",
        "colab": {
          "base_uri": "https://localhost:8080/",
          "height": 376
        },
        "outputId": "81d4445b-9642-477e-eba1-5b4beb70f659"
      },
      "cell_type": "code",
      "source": [
        "import matplotlib.pyplot as plt\n",
        "\n",
        "\n",
        "\n",
        "plt.plot(history.history['loss'])\n",
        "\n",
        "plt.title('model loss')\n",
        "plt.ylabel('loss')\n",
        "plt.xlabel('epoch')\n",
        "plt.legend(['train'], loc='upper left')\n",
        "plt.show()"
      ],
      "execution_count": 246,
      "outputs": [
        {
          "output_type": "display_data",
          "data": {
            "image/png": "[encoded data removed]",
            "text/plain": [
              "<matplotlib.figure.Figure at 0x7fe2d4f870f0>"
            ]
          },
          "metadata": {
            "tags": []
          }
        }
      ]
    },
    {
      "metadata": {
        "id": "T8hn9engXaVn",
        "colab_type": "code",
        "colab": {}
      },
      "cell_type": "code",
      "source": [
        "API_KEY = '40b453c139590191'  \n",
        "BASE_URL = \"http://api.wunderground.com/api/{}/history_{}/q/Switzerland/Collombey.json\"\n",
        "target_date = datetime(2018, 7, 15)  \n",
        "features = [\"date\",\"meantempm\", \"meandewptm\", \"meanpressurem\", \"maxhumidity\", \"minhumidity\", \"maxtempm\",  \n",
        "            \"mintempm\", \"maxdewptm\", \"mindewptm\", \"maxpressurem\", \"minpressurem\", \"precipm\"]\n",
        "DailySummary = namedtuple(\"DailySummary\", features)\n",
        "\n",
        "def extract_weather_data(url, api_key, target_date, days):  \n",
        "    records_test = []\n",
        "    for _ in range(days):\n",
        "        request = BASE_URL.format(API_KEY, target_date.strftime('%Y%m%d'))\n",
        "        response = requests.get(request)\n",
        "        if response.status_code == 200:\n",
        "            data = response.json()['history']['dailysummary'][0]\n",
        "            records_test.append(DailySummary(\n",
        "                date=target_date,\n",
        "                meantempm=data['meantempm'],\n",
        "                meandewptm=data['meandewptm'],\n",
        "                meanpressurem=data['meanpressurem'],\n",
        "                maxhumidity=data['maxhumidity'],\n",
        "                minhumidity=data['minhumidity'],\n",
        "                maxtempm=data['maxtempm'],\n",
        "                mintempm=data['mintempm'],\n",
        "                maxdewptm=data['maxdewptm'],\n",
        "                mindewptm=data['mindewptm'],\n",
        "                maxpressurem=data['maxpressurem'],\n",
        "                minpressurem=data['minpressurem'],\n",
        "                precipm=data['precipm']))\n",
        "        time.sleep(6)\n",
        "        target_date += timedelta(days=1)\n",
        "    return records_test\n",
        "records_test = extract_weather_data(BASE_URL, API_KEY, target_date, 5) \n",
        "#we use the data from x-n day to predict the mean temperature at the day x otherwise we could have missing data"
      ],
      "execution_count": 0,
      "outputs": []
    },
    {
      "metadata": {
        "id": "0h3yMAx3Xafv",
        "colab_type": "code",
        "colab": {
          "base_uri": "https://localhost:8080/",
          "height": 238
        },
        "outputId": "39b0b6e8-2775-452a-d4c7-f7f957e06b74"
      },
      "cell_type": "code",
      "source": [
        "df1 = pd.DataFrame(records_test, columns=features)\n",
        "print(df1)"
      ],
      "execution_count": 69,
      "outputs": [
        {
          "output_type": "stream",
          "text": [
            "        date meantempm meandewptm meanpressurem maxhumidity minhumidity  \\\n",
            "0 2018-07-15        22         14       1016.59          94          22   \n",
            "1 2018-07-16        22         11       1013.20          77          16   \n",
            "2 2018-07-17        23         11       1015.58          70          17   \n",
            "3 2018-07-18        23         11       1015.97          68          20   \n",
            "4 2018-07-19        26         12       1014.32          60          17   \n",
            "\n",
            "  maxtempm mintempm maxdewptm mindewptm maxpressurem minpressurem precipm  \n",
            "0       30       14        16        10         1021         1010     0.0  \n",
            "1       30       14        13         9         1017         1005     0.0  \n",
            "2       29       17        13         7         1018         1012     0.0  \n",
            "3       31       15        14         9         1020         1009     0.0  \n",
            "4       33       20        13        10         1017         1008     0.0  \n"
          ],
          "name": "stdout"
        }
      ]
    },
    {
      "metadata": {
        "id": "6hWv7PQUXanR",
        "colab_type": "code",
        "colab": {}
      },
      "cell_type": "code",
      "source": [
        "def derive_nth_day_feature(df, feature, N):\n",
        "    rows = df.shape[0]\n",
        "    nth_prior_measurements = [None]*N + [df[feature][i-N] for i in range(N, rows)]\n",
        "    col_name = col_name = \"{}_{}\".format(feature, N)\n",
        "    df[col_name] = nth_prior_measurements\n",
        "for feature in features:\n",
        "    if feature != 'date':\n",
        "        for N in range(1,4):\n",
        "            derive_nth_day_feature(df1, feature, N)    "
      ],
      "execution_count": 0,
      "outputs": []
    },
    {
      "metadata": {
        "id": "wbDgoL2fXatT",
        "colab_type": "code",
        "colab": {
          "base_uri": "https://localhost:8080/",
          "height": 629
        },
        "outputId": "b20bd57f-7d8e-4ca4-89fa-5e3e897b919f"
      },
      "cell_type": "code",
      "source": [
        "df1 = df1.apply(pd.to_numeric, errors=\"coerce\")\n",
        "print(df1)"
      ],
      "execution_count": 71,
      "outputs": [
        {
          "output_type": "stream",
          "text": [
            "                  date  meantempm  meandewptm  meanpressurem  maxhumidity  \\\n",
            "0  1531612800000000000         22          14        1016.59           94   \n",
            "1  1531699200000000000         22          11        1013.20           77   \n",
            "2  1531785600000000000         23          11        1015.58           70   \n",
            "3  1531872000000000000         23          11        1015.97           68   \n",
            "4  1531958400000000000         26          12        1014.32           60   \n",
            "\n",
            "   minhumidity  maxtempm  mintempm  maxdewptm  mindewptm    ...      \\\n",
            "0           22        30        14         16         10    ...       \n",
            "1           16        30        14         13          9    ...       \n",
            "2           17        29        17         13          7    ...       \n",
            "3           20        31        15         14          9    ...       \n",
            "4           17        33        20         13         10    ...       \n",
            "\n",
            "   mindewptm_3  maxpressurem_1  maxpressurem_2  maxpressurem_3  \\\n",
            "0          NaN             NaN             NaN             NaN   \n",
            "1          NaN          1021.0             NaN             NaN   \n",
            "2          NaN          1017.0          1021.0             NaN   \n",
            "3         10.0          1018.0          1017.0          1021.0   \n",
            "4          9.0          1020.0          1018.0          1017.0   \n",
            "\n",
            "   minpressurem_1  minpressurem_2  minpressurem_3  precipm_1  precipm_2  \\\n",
            "0             NaN             NaN             NaN        NaN        NaN   \n",
            "1          1010.0             NaN             NaN        0.0        NaN   \n",
            "2          1005.0          1010.0             NaN        0.0        0.0   \n",
            "3          1012.0          1005.0          1010.0        0.0        0.0   \n",
            "4          1009.0          1012.0          1005.0        0.0        0.0   \n",
            "\n",
            "   precipm_3  \n",
            "0        NaN  \n",
            "1        NaN  \n",
            "2        NaN  \n",
            "3        0.0  \n",
            "4        0.0  \n",
            "\n",
            "[5 rows x 49 columns]\n"
          ],
          "name": "stdout"
        }
      ]
    },
    {
      "metadata": {
        "id": "riIu3I40Xawy",
        "colab_type": "code",
        "colab": {}
      },
      "cell_type": "code",
      "source": [
        "df1 = df1.drop([0,1,2,3])"
      ],
      "execution_count": 0,
      "outputs": []
    },
    {
      "metadata": {
        "id": "v_nTmEZCXazv",
        "colab_type": "code",
        "colab": {
          "base_uri": "https://localhost:8080/",
          "height": 1207
        },
        "outputId": "7f9bf26e-3e9c-4a00-fbcc-4be11fb19b8e"
      },
      "cell_type": "code",
      "source": [
        "df1.info()\n",
        "print (df1)"
      ],
      "execution_count": 80,
      "outputs": [
        {
          "output_type": "stream",
          "text": [
            "<class 'pandas.core.frame.DataFrame'>\n",
            "Int64Index: 1 entries, 4 to 4\n",
            "Data columns (total 49 columns):\n",
            "date               1 non-null int64\n",
            "meantempm          1 non-null int64\n",
            "meandewptm         1 non-null int64\n",
            "meanpressurem      1 non-null float64\n",
            "maxhumidity        1 non-null int64\n",
            "minhumidity        1 non-null int64\n",
            "maxtempm           1 non-null int64\n",
            "mintempm           1 non-null int64\n",
            "maxdewptm          1 non-null int64\n",
            "mindewptm          1 non-null int64\n",
            "maxpressurem       1 non-null int64\n",
            "minpressurem       1 non-null int64\n",
            "precipm            1 non-null float64\n",
            "meantempm_1        1 non-null float64\n",
            "meantempm_2        1 non-null float64\n",
            "meantempm_3        1 non-null float64\n",
            "meandewptm_1       1 non-null float64\n",
            "meandewptm_2       1 non-null float64\n",
            "meandewptm_3       1 non-null float64\n",
            "meanpressurem_1    1 non-null float64\n",
            "meanpressurem_2    1 non-null float64\n",
            "meanpressurem_3    1 non-null float64\n",
            "maxhumidity_1      1 non-null float64\n",
            "maxhumidity_2      1 non-null float64\n",
            "maxhumidity_3      1 non-null float64\n",
            "minhumidity_1      1 non-null float64\n",
            "minhumidity_2      1 non-null float64\n",
            "minhumidity_3      1 non-null float64\n",
            "maxtempm_1         1 non-null float64\n",
            "maxtempm_2         1 non-null float64\n",
            "maxtempm_3         1 non-null float64\n",
            "mintempm_1         1 non-null float64\n",
            "mintempm_2         1 non-null float64\n",
            "mintempm_3         1 non-null float64\n",
            "maxdewptm_1        1 non-null float64\n",
            "maxdewptm_2        1 non-null float64\n",
            "maxdewptm_3        1 non-null float64\n",
            "mindewptm_1        1 non-null float64\n",
            "mindewptm_2        1 non-null float64\n",
            "mindewptm_3        1 non-null float64\n",
            "maxpressurem_1     1 non-null float64\n",
            "maxpressurem_2     1 non-null float64\n",
            "maxpressurem_3     1 non-null float64\n",
            "minpressurem_1     1 non-null float64\n",
            "minpressurem_2     1 non-null float64\n",
            "minpressurem_3     1 non-null float64\n",
            "precipm_1          1 non-null float64\n",
            "precipm_2          1 non-null float64\n",
            "precipm_3          1 non-null float64\n",
            "dtypes: float64(38), int64(11)\n",
            "memory usage: 400.0 bytes\n",
            "                  date  meantempm  meandewptm  meanpressurem  maxhumidity  \\\n",
            "4  1531958400000000000         26          12        1014.32           60   \n",
            "\n",
            "   minhumidity  maxtempm  mintempm  maxdewptm  mindewptm    ...      \\\n",
            "4           17        33        20         13         10    ...       \n",
            "\n",
            "   mindewptm_3  maxpressurem_1  maxpressurem_2  maxpressurem_3  \\\n",
            "4          9.0          1020.0          1018.0          1017.0   \n",
            "\n",
            "   minpressurem_1  minpressurem_2  minpressurem_3  precipm_1  precipm_2  \\\n",
            "4          1009.0          1012.0          1005.0        0.0        0.0   \n",
            "\n",
            "   precipm_3  \n",
            "4        0.0  \n",
            "\n",
            "[1 rows x 49 columns]\n"
          ],
          "name": "stdout"
        }
      ]
    },
    {
      "metadata": {
        "id": "Wwj5cPQSXa3N",
        "colab_type": "code",
        "colab": {}
      },
      "cell_type": "code",
      "source": [
        "X = df1[[col for col in df1.columns if col != 'meantempm']]"
      ],
      "execution_count": 0,
      "outputs": []
    },
    {
      "metadata": {
        "id": "uVkvmi9uXarQ",
        "colab_type": "code",
        "colab": {}
      },
      "cell_type": "code",
      "source": [
        "X = X.drop([\"meandewptm\",\"meanpressurem\",\"maxhumidity\",\"minhumidity\",\"maxdewptm\",\"mindewptm\",\"maxpressurem\",\n",
        "                \"minpressurem\",\"precipm\"  ], axis=1)"
      ],
      "execution_count": 0,
      "outputs": []
    },
    {
      "metadata": {
        "id": "YN9-kcixYD31",
        "colab_type": "code",
        "colab": {}
      },
      "cell_type": "code",
      "source": [
        "X = X.drop(['mintempm', 'maxtempm',\"date\"], axis=1)\n"
      ],
      "execution_count": 0,
      "outputs": []
    },
    {
      "metadata": {
        "id": "KtE7D948SFbM",
        "colab_type": "code",
        "colab": {
          "base_uri": "https://localhost:8080/",
          "height": 289
        },
        "outputId": "57813fd9-732a-4de2-964c-e61bace9923a"
      },
      "cell_type": "code",
      "source": [
        "print(X)"
      ],
      "execution_count": 84,
      "outputs": [
        {
          "output_type": "stream",
          "text": [
            "   meantempm_1  meantempm_2  meantempm_3  meandewptm_1  meandewptm_2  \\\n",
            "4         23.0         23.0         22.0          11.0          11.0   \n",
            "\n",
            "   meandewptm_3  meanpressurem_1  meanpressurem_2  meanpressurem_3  \\\n",
            "4          11.0          1015.97          1015.58           1013.2   \n",
            "\n",
            "   maxhumidity_1    ...      mindewptm_3  maxpressurem_1  maxpressurem_2  \\\n",
            "4           68.0    ...              9.0          1020.0          1018.0   \n",
            "\n",
            "   maxpressurem_3  minpressurem_1  minpressurem_2  minpressurem_3  precipm_1  \\\n",
            "4          1017.0          1009.0          1012.0          1005.0        0.0   \n",
            "\n",
            "   precipm_2  precipm_3  \n",
            "4        0.0        0.0  \n",
            "\n",
            "[1 rows x 36 columns]\n"
          ],
          "name": "stdout"
        }
      ]
    },
    {
      "metadata": {
        "id": "ZoD8CpHlYUsu",
        "colab_type": "code",
        "colab": {}
      },
      "cell_type": "code",
      "source": [
        "X = X.values"
      ],
      "execution_count": 0,
      "outputs": []
    },
    {
      "metadata": {
        "id": "6qc1NA5qX-7W",
        "colab_type": "code",
        "colab": {
          "base_uri": "https://localhost:8080/",
          "height": 34
        },
        "outputId": "33119e5d-639a-43f8-834d-e5de2c9084cb"
      },
      "cell_type": "code",
      "source": [
        "model.predict(X,steps = 1)"
      ],
      "execution_count": 85,
      "outputs": [
        {
          "output_type": "execute_result",
          "data": {
            "text/plain": [
              "array([[21.786856]], dtype=float32)"
            ]
          },
          "metadata": {
            "tags": []
          },
          "execution_count": 85
        }
      ]
    },
    {
      "metadata": {
        "id": "qUt5rnHZq824",
        "colab_type": "code",
        "colab": {
          "base_uri": "https://localhost:8080/",
          "height": 51
        },
        "outputId": "6fa7177b-26ec-4926-c5ed-2ea048eebe34"
      },
      "cell_type": "code",
      "source": [
        "!git clone https://github.com/roxasboss/TM-lyca.git"
      ],
      "execution_count": 2,
      "outputs": [
        {
          "output_type": "stream",
          "text": [
            "Cloning into 'TM-lyca'...\n",
            "warning: You appear to have cloned an empty repository.\n"
          ],
          "name": "stdout"
        }
      ]
    },
    {
      "metadata": {
        "id": "0_ScPY9brdRi",
        "colab_type": "code",
        "colab": {
          "base_uri": "https://localhost:8080/",
          "height": 129
        },
        "outputId": "82ec96bd-8d7a-412b-bd8e-e68ce01d3723"
      },
      "cell_type": "code",
      "source": [
        "echo \"# TM-lyca\" >> README.md\n",
        "git init\n",
        "git add README.md\n",
        "git commit -m \"first commit\"\n",
        "git remote add origin https://github.com/roxasboss/TM-lyca.git\n",
        "git push -u origin master"
      ],
      "execution_count": 3,
      "outputs": [
        {
          "output_type": "error",
          "ename": "SyntaxError",
          "evalue": "ignored",
          "traceback": [
            "\u001b[0;36m  File \u001b[0;32m\"<ipython-input-3-110959ba58c2>\"\u001b[0;36m, line \u001b[0;32m1\u001b[0m\n\u001b[0;31m    echo \"# TM-lyca\" >> README.md\u001b[0m\n\u001b[0m                   ^\u001b[0m\n\u001b[0;31mSyntaxError\u001b[0m\u001b[0;31m:\u001b[0m invalid syntax\n"
          ]
        }
      ]
    }
  ]
}