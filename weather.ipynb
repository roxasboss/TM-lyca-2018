{
  "nbformat": 4,
  "nbformat_minor": 0,
  "metadata": {
    "colab": {
      "name": "weather.ipynb",
      "version": "0.3.2",
      "provenance": [],
      "collapsed_sections": [],
      "toc_visible": true,
      "include_colab_link": true
    },
    "kernelspec": {
      "name": "python3",
      "display_name": "Python 3"
    },
    "accelerator": "TPU"
  },
  "cells": [
    {
      "cell_type": "markdown",
      "metadata": {
        "id": "view-in-github",
        "colab_type": "text"
      },
      "source": [
        "<a href=\"https://colab.research.google.com/github/roxasboss/TM-lyca-2018/blob/master/weather.ipynb\" target=\"_parent\"><img src=\"https://colab.research.google.com/assets/colab-badge.svg\" alt=\"Open In Colab\"/></a>"
      ]
    },
    {
      "metadata": {
        "id": "UUVtRFlewVta",
        "colab_type": "code",
        "colab": {
          "base_uri": "https://localhost:8080/",
          "height": 54
        },
        "outputId": "a24805f0-69c2-403c-bc8d-271d28f843f3"
      },
      "cell_type": "code",
      "source": [
        "from datetime import datetime, timedelta  \n",
        "import time  \n",
        "from collections import namedtuple  \n",
        "import pandas as pd \n",
        "import requests  \n",
        "import matplotlib.pyplot as plt  \n",
        "\n",
        "pd.options.mode.chained_assignment = None\n",
        "API_KEY = '40b453c139590191'  \n",
        "BASE_URL = \"http://api.wunderground.com/api/{}/history_{}/q/Switzerland/Collombey.json\"\n",
        "target_date = datetime(2016, 8, 16)  \n",
        "features = [\"date\",\"meantempm\", \"meandewptm\", \"meanpressurem\", \"maxhumidity\", \"minhumidity\", \"maxtempm\",  \n",
        "            \"mintempm\", \"maxdewptm\", \"mindewptm\", \"maxpressurem\", \"minpressurem\", \"precipm\"]\n",
        "DailySummary = namedtuple(\"DailySummary\", features)\n",
        "\n",
        "\"\"\"\"def extract_weather_data(url, api_key, target_date, days):  \n",
        "    records = []\n",
        "    for _ in range(days):\n",
        "        request = BASE_URL.format(API_KEY, target_date.strftime('%Y%m%d'))\n",
        "        response = requests.get(request)\n",
        "        if response.status_code == 200:\n",
        "            data = response.json()['history']['dailysummary'][0]\n",
        "            records.append(DailySummary(\n",
        "                date=target_date,\n",
        "                meantempm=data['meantempm'],\n",
        "                meandewptm=data['meandewptm'],\n",
        "                meanpressurem=data['meanpressurem'],\n",
        "                maxhumidity=data['maxhumidity'],\n",
        "                minhumidity=data['minhumidity'],\n",
        "                maxtempm=data['maxtempm'],\n",
        "                mintempm=data['mintempm'],\n",
        "                maxdewptm=data['maxdewptm'],\n",
        "                mindewptm=data['mindewptm'],\n",
        "                maxpressurem=data['maxpressurem'],\n",
        "                minpressurem=data['minpressurem'],\n",
        "                precipm=data['precipm']))\n",
        "        time.sleep(6)\n",
        "        target_date += timedelta(days=1)\n",
        "    return records\n",
        "records = extract_weather_data(BASE_URL, API_KEY, target_date, 500)\"\"\"  "
      ],
      "execution_count": 1,
      "outputs": [
        {
          "output_type": "execute_result",
          "data": {
            "text/plain": [
              "'\"def extract_weather_data(url, api_key, target_date, days):  \\n    records = []\\n    for _ in range(days):\\n        request = BASE_URL.format(API_KEY, target_date.strftime(\\'%Y%m%d\\'))\\n        response = requests.get(request)\\n        if response.status_code == 200:\\n            data = response.json()[\\'history\\'][\\'dailysummary\\'][0]\\n            records.append(DailySummary(\\n                date=target_date,\\n                meantempm=data[\\'meantempm\\'],\\n                meandewptm=data[\\'meandewptm\\'],\\n                meanpressurem=data[\\'meanpressurem\\'],\\n                maxhumidity=data[\\'maxhumidity\\'],\\n                minhumidity=data[\\'minhumidity\\'],\\n                maxtempm=data[\\'maxtempm\\'],\\n                mintempm=data[\\'mintempm\\'],\\n                maxdewptm=data[\\'maxdewptm\\'],\\n                mindewptm=data[\\'mindewptm\\'],\\n                maxpressurem=data[\\'maxpressurem\\'],\\n                minpressurem=data[\\'minpressurem\\'],\\n                precipm=data[\\'precipm\\']))\\n        time.sleep(6)\\n        target_date += timedelta(days=1)\\n    return records\\nrecords = extract_weather_data(BASE_URL, API_KEY, target_date, 500)'"
            ]
          },
          "metadata": {
            "tags": []
          },
          "execution_count": 1
        }
      ]
    },
    {
      "metadata": {
        "id": "qmvk7h8aw_r0",
        "colab_type": "code",
        "colab": {
          "resources": {
            "http://localhost:8080/nbextensions/google.colab/files.js": {
              "data": "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",
              "ok": true,
              "headers": [
                [
                  "content-type",
                  "application/javascript"
                ]
              ],
              "status": 200,
              "status_text": ""
            }
          },
          "base_uri": "https://localhost:8080/",
          "height": 89
        },
        "outputId": "31d906bb-f0a6-48ff-9444-d31f0887bcd2"
      },
      "cell_type": "code",
      "source": [
        "from google.colab import files\n",
        "\n",
        "uploaded = files.upload()\n",
        "\n",
        "for fn in uploaded.keys():\n",
        "  print('User uploaded file \"{name}\" with length {length} bytes'.format(\n",
        "      name=fn, length=len(uploaded[fn])))\n",
        "    "
      ],
      "execution_count": 2,
      "outputs": [
        {
          "output_type": "display_data",
          "data": {
            "text/html": [
              "\n",
              "     <input type=\"file\" id=\"files-24eb16a9-2ee2-4e89-a828-2dacac52e980\" name=\"files[]\" multiple disabled />\n",
              "     <output id=\"result-24eb16a9-2ee2-4e89-a828-2dacac52e980\">\n",
              "      Upload widget is only available when the cell has been executed in the\n",
              "      current browser session. Please rerun this cell to enable.\n",
              "      </output>\n",
              "      <script src=\"/nbextensions/google.colab/files.js\"></script> "
            ],
            "text/plain": [
              "<IPython.core.display.HTML object>"
            ]
          },
          "metadata": {
            "tags": []
          }
        },
        {
          "output_type": "stream",
          "text": [
            "Saving weather_records to weather_records\n",
            "User uploaded file \"weather_records\" with length 179987 bytes\n"
          ],
          "name": "stdout"
        }
      ]
    },
    {
      "metadata": {
        "id": "duyP6VAJw_5h",
        "colab_type": "code",
        "colab": {}
      },
      "cell_type": "code",
      "source": [
        "import pickle \n",
        "with open(\"weather_records\", \"rb\") as f:\n",
        "    records = pickle.load(f)"
      ],
      "execution_count": 0,
      "outputs": []
    },
    {
      "metadata": {
        "id": "zNlPaDdwxABD",
        "colab_type": "code",
        "colab": {
          "base_uri": "https://localhost:8080/",
          "height": 323
        },
        "outputId": "0b2e2a2f-b4fc-42d3-aa07-a22afa04dc5e"
      },
      "cell_type": "code",
      "source": [
        "\n",
        "df = pd.DataFrame(records, columns=features)\n",
        "df.info()\n",
        "#set a pandas dataframe and use the types of datas as \"labels\" like a dictionary"
      ],
      "execution_count": 94,
      "outputs": [
        {
          "output_type": "stream",
          "text": [
            "<class 'pandas.core.frame.DataFrame'>\n",
            "RangeIndex: 999 entries, 0 to 998\n",
            "Data columns (total 13 columns):\n",
            "date             999 non-null datetime64[ns]\n",
            "meantempm        999 non-null object\n",
            "meandewptm       999 non-null object\n",
            "meanpressurem    999 non-null object\n",
            "maxhumidity      999 non-null object\n",
            "minhumidity      999 non-null object\n",
            "maxtempm         999 non-null object\n",
            "mintempm         999 non-null object\n",
            "maxdewptm        999 non-null object\n",
            "mindewptm        999 non-null object\n",
            "maxpressurem     999 non-null object\n",
            "minpressurem     999 non-null object\n",
            "precipm          999 non-null object\n",
            "dtypes: datetime64[ns](1), object(12)\n",
            "memory usage: 101.5+ KB\n"
          ],
          "name": "stdout"
        }
      ]
    },
    {
      "metadata": {
        "id": "Rt0RW4rwmn1-",
        "colab_type": "code",
        "colab": {
          "base_uri": "https://localhost:8080/",
          "height": 2176
        },
        "outputId": "a942b002-e79a-4c67-b75b-56b713151567"
      },
      "cell_type": "code",
      "source": [
        "print(df)"
      ],
      "execution_count": 88,
      "outputs": [
        {
          "output_type": "stream",
          "text": [
            "          date meantempm meandewptm meanpressurem maxhumidity minhumidity  \\\n",
            "0   2016-08-16        24         12       1015.52          80          14   \n",
            "1   2016-08-17        22         12       1012.45          76          21   \n",
            "2   2016-08-18        18         14       1012.43          91          49   \n",
            "3   2016-08-19        22         15       1011.39          95          34   \n",
            "4   2016-08-20        18         15       1016.12          88          60   \n",
            "5   2016-08-21        18         10       1020.80          92          25   \n",
            "6   2016-08-22        18          8       1026.82          76          22   \n",
            "7   2016-08-23        20         12       1024.98          82          25   \n",
            "8   2016-08-24        23         13       1020.53          82          23   \n",
            "9   2016-08-25        24         14       1017.46          80          23   \n",
            "10  2016-08-26        25         16       1017.41          75          25   \n",
            "11  2016-08-27        26         16       1017.84          85          26   \n",
            "12  2016-08-28        23         15       1019.31          94          24   \n",
            "13  2016-08-29        22         15       1017.84          84          36   \n",
            "14  2016-08-30        22         14       1018.94          82          31   \n",
            "15  2016-08-31        22         14       1019.86          78          32   \n",
            "16  2016-09-01        23         14       1021.29          84          22   \n",
            "17  2016-09-02        22         12       1020.20          79          24   \n",
            "18  2016-09-03        21         11       1019.68          82          19   \n",
            "19  2016-09-04        18         12       1019.53          93          27   \n",
            "20  2016-09-05        18         15       1021.04          95          59   \n",
            "21  2016-09-06        20         13       1021.72          87          32   \n",
            "22  2016-09-07        20         11       1017.96          88          23   \n",
            "23  2016-09-08        21         12       1015.58          83          24   \n",
            "24  2016-09-09        21         13       1015.89          82          26   \n",
            "25  2016-09-10        22         13       1015.92          82          27   \n",
            "26  2016-09-11        21         13       1017.11          86          27   \n",
            "27  2016-09-12        23         12       1018.27          75          24   \n",
            "28  2016-09-13        22         11       1015.25          72          13   \n",
            "29  2016-09-14        23          9       1012.29          63          14   \n",
            "..         ...       ...        ...           ...         ...         ...   \n",
            "969 2017-11-29         2          0       1006.49         100          72   \n",
            "970 2017-11-30         0         -4       1008.55          80          46   \n",
            "971 2017-12-01         0         -4       1010.92          86          45   \n",
            "972 2017-12-02        -1         -6       1017.32          80          36   \n",
            "973 2017-12-03        -2         -6       1025.81          86          34   \n",
            "974 2017-12-04        -1         -6       1033.58          80          38   \n",
            "975 2017-12-05         0         -5       1037.98          86          39   \n",
            "976 2017-12-06        -0         -5       1035.32          86          33   \n",
            "977 2017-12-07         1         -6       1028.85          86          28   \n",
            "978 2017-12-08         2         -2       1018.18         100          36   \n",
            "979 2017-12-09        -2         -5       1018.90          93          55   \n",
            "980 2017-12-10        -4         -5       1007.57         100          60   \n",
            "981 2017-12-11         2          0        991.14         100          53   \n",
            "982 2017-12-12         1          0       1010.26         100          72   \n",
            "983 2017-12-13        -2         -4       1018.94         100          52   \n",
            "984 2017-12-14         2          1       1005.94         100          83   \n",
            "985 2017-12-15         2          0       1002.04         100          71   \n",
            "986 2017-12-16         0         -1       1011.96         100          71   \n",
            "987 2017-12-17        -2         -4       1024.79         100          58   \n",
            "988 2017-12-18        -4         -6       1027.15         100          71   \n",
            "989 2017-12-19        -5         -7       1034.03          93          67   \n",
            "990 2017-12-20        -2         -4       1034.63          93          57   \n",
            "991 2017-12-21        -2         -4       1038.25          93          55   \n",
            "992 2017-12-22        -0         -2       1036.72         100          73   \n",
            "993 2017-12-23         2         -0       1037.04          93          54   \n",
            "994 2017-12-24        -0         -4       1033.33         100          60   \n",
            "995 2017-12-25        -0         -4       1024.00          93          51   \n",
            "996 2017-12-26         1         -4       1013.09          93          57   \n",
            "997 2017-12-27         2         -1        993.09          93          62   \n",
            "998 2017-12-28        -2         -4       1003.18          93          46   \n",
            "\n",
            "    maxtempm mintempm maxdewptm mindewptm maxpressurem minpressurem precipm  \n",
            "0         32       15        15         7         1019         1010     0.0  \n",
            "1         29       14        15        10         1016         1008     0.1  \n",
            "2         22       15        16        12         1014         1010     0.3  \n",
            "3         28       17        16        12         1014         1008     1.0  \n",
            "4         20       16        17        13         1019         1013     0.3  \n",
            "5         24       11        13         6         1024         1018     0.4  \n",
            "6         26       10        12         6         1029         1023     0.0  \n",
            "7         28       12        16         9         1028         1019     0.0  \n",
            "8         31       15        16        11         1025         1014     0.0  \n",
            "9         33       16        16        12         1022         1011     0.0  \n",
            "10        33       17        19        13         1021         1012     0.0  \n",
            "11        33       18        19        14         1022         1012     4.0  \n",
            "12        31       15        17        12         1023         1013     1.0  \n",
            "13        27       17        17        13         1021         1014     0.0  \n",
            "14        28       15        17        12         1021         1015     0.0  \n",
            "15        28       16        15        13         1022         1016     0.0  \n",
            "16        30       16        16        11         1025         1017     0.0  \n",
            "17        29       14        14        11         1024         1015     0.0  \n",
            "18        29       13        13         8         1023         1015     0.0  \n",
            "19        25       12        16         9         1022         1015     1.0  \n",
            "20        20       15        16        14         1023         1019     2.0  \n",
            "21        25       14        15        11         1025         1017     0.0  \n",
            "22        27       12        14         8         1022         1012     0.0  \n",
            "23        29       13        14        10         1019         1010     0.0  \n",
            "24        28       14        16        11         1019         1011     0.0  \n",
            "25        29       15        15         9         1019         1011     0.0  \n",
            "26        29       13        16        11         1020         1013     0.0  \n",
            "27        30       16        15        10         1021         1014     0.0  \n",
            "28        31       14        14         6         1020         1009     0.0  \n",
            "29        30       16        13         6         1016         1007     0.0  \n",
            "..       ...      ...       ...       ...          ...          ...     ...  \n",
            "969        3        0         2        -2         1010         1004     1.0  \n",
            "970        2       -1        -3        -5         1011         1006     0.0  \n",
            "971        2       -2        -3        -6         1017         1007     0.0  \n",
            "972        2       -4        -4        -7         1024         1014     0.0  \n",
            "973        2       -5        -5        -8         1032         1021     0.0  \n",
            "974        2       -4        -5        -7         1039         1029     0.0  \n",
            "975        4       -3        -4        -6         1042         1035     0.0  \n",
            "976        4       -5        -4        -7         1040         1032     0.0  \n",
            "977        7       -5        -4        -7         1036         1023     0.0  \n",
            "978        6       -1         1        -6         1023         1013     3.0  \n",
            "979        0       -5        -2        -9         1023         1015     0.2  \n",
            "980       -1       -6        -2       -10         1022          997    35.0  \n",
            "981        6       -2         3        -2         1000          986     2.0  \n",
            "982        3       -1         1        -2         1022          997     0.7  \n",
            "983        1       -4         0        -7         1025         1012     2.0  \n",
            "984        4        0         3        -1         1013          997     0.2  \n",
            "985        3        0         3        -2         1006          997     3.0  \n",
            "986        2       -1         0        -2         1022         1003     0.3  \n",
            "987        1       -5         0        -7         1033         1020     0.3  \n",
            "988       -1       -8        -3        -9         1034         1022     6.0  \n",
            "989        0      -10        -4       -11         1039         1029     0.0  \n",
            "990        1       -4        -3        -4         1039         1032     0.0  \n",
            "991        1       -4        -2        -6         1043         1036     0.0  \n",
            "992        2       -3         0        -5         1041         1034     0.0  \n",
            "993        6       -1         1        -3         1040         1035     0.0  \n",
            "994        3       -4        -2        -5         1040         1029     0.0  \n",
            "995        4       -5        -2        -6         1033         1018     0.0  \n",
            "996        7       -5        -1        -7         1022         1003     0.0  \n",
            "997        4       -1         1        -3         1005          988     2.0  \n",
            "998        2       -5        -1        -9         1015          995     0.0  \n",
            "\n",
            "[999 rows x 13 columns]\n"
          ],
          "name": "stdout"
        }
      ]
    },
    {
      "metadata": {
        "id": "EYHcxuLoW0cG",
        "colab_type": "code",
        "colab": {}
      },
      "cell_type": "code",
      "source": [
        ""
      ],
      "execution_count": 0,
      "outputs": []
    },
    {
      "metadata": {
        "id": "H2-sQ9dgxAEI",
        "colab_type": "code",
        "colab": {}
      },
      "cell_type": "code",
      "source": [
        "#the goal with this project is to use the information from the days x-1, x-2,...x-n to predict the mean temperature at a day x\n",
        "def derive_nth_day_feature(df, feature, N):\n",
        "    rows = df.shape[0]\n",
        "    nth_prior_measurements = [None]*N + [df[feature][i-N] for i in range(N, rows)]\n",
        "    col_name = col_name = \"{}_{}\".format(feature, N)\n",
        "    df[col_name] = nth_prior_measurements\n",
        "for feature in features:\n",
        "    if feature != 'date':\n",
        "        for N in range(1,4):\n",
        "            derive_nth_day_feature(df, feature, N)    \n",
        "    "
      ],
      "execution_count": 0,
      "outputs": []
    },
    {
      "metadata": {
        "id": "1zdL9OvcJjr4",
        "colab_type": "code",
        "colab": {
          "base_uri": "https://localhost:8080/",
          "height": 5236
        },
        "outputId": "38a985b8-7b63-4b41-e0fa-6e4955c8ed3f"
      },
      "cell_type": "code",
      "source": [
        "df.info()\n",
        "print(df)"
      ],
      "execution_count": 57,
      "outputs": [
        {
          "output_type": "stream",
          "text": [
            "<class 'pandas.core.frame.DataFrame'>\n",
            "RangeIndex: 999 entries, 0 to 998\n",
            "Data columns (total 49 columns):\n",
            "date               999 non-null datetime64[ns]\n",
            "meantempm          999 non-null object\n",
            "meandewptm         999 non-null object\n",
            "meanpressurem      999 non-null object\n",
            "maxhumidity        999 non-null object\n",
            "minhumidity        999 non-null object\n",
            "maxtempm           999 non-null object\n",
            "mintempm           999 non-null object\n",
            "maxdewptm          999 non-null object\n",
            "mindewptm          999 non-null object\n",
            "maxpressurem       999 non-null object\n",
            "minpressurem       999 non-null object\n",
            "precipm            999 non-null object\n",
            "meantempm_1        998 non-null object\n",
            "meantempm_2        997 non-null object\n",
            "meantempm_3        996 non-null object\n",
            "meandewptm_1       998 non-null object\n",
            "meandewptm_2       997 non-null object\n",
            "meandewptm_3       996 non-null object\n",
            "meanpressurem_1    998 non-null object\n",
            "meanpressurem_2    997 non-null object\n",
            "meanpressurem_3    996 non-null object\n",
            "maxhumidity_1      998 non-null object\n",
            "maxhumidity_2      997 non-null object\n",
            "maxhumidity_3      996 non-null object\n",
            "minhumidity_1      998 non-null object\n",
            "minhumidity_2      997 non-null object\n",
            "minhumidity_3      996 non-null object\n",
            "maxtempm_1         998 non-null object\n",
            "maxtempm_2         997 non-null object\n",
            "maxtempm_3         996 non-null object\n",
            "mintempm_1         998 non-null object\n",
            "mintempm_2         997 non-null object\n",
            "mintempm_3         996 non-null object\n",
            "maxdewptm_1        998 non-null object\n",
            "maxdewptm_2        997 non-null object\n",
            "maxdewptm_3        996 non-null object\n",
            "mindewptm_1        998 non-null object\n",
            "mindewptm_2        997 non-null object\n",
            "mindewptm_3        996 non-null object\n",
            "maxpressurem_1     998 non-null object\n",
            "maxpressurem_2     997 non-null object\n",
            "maxpressurem_3     996 non-null object\n",
            "minpressurem_1     998 non-null object\n",
            "minpressurem_2     997 non-null object\n",
            "minpressurem_3     996 non-null object\n",
            "precipm_1          998 non-null object\n",
            "precipm_2          997 non-null object\n",
            "precipm_3          996 non-null object\n",
            "dtypes: datetime64[ns](1), object(48)\n",
            "memory usage: 382.5+ KB\n",
            "          date meantempm meandewptm meanpressurem maxhumidity minhumidity  \\\n",
            "0   2016-08-16        24         12       1015.52          80          14   \n",
            "1   2016-08-17        22         12       1012.45          76          21   \n",
            "2   2016-08-18        18         14       1012.43          91          49   \n",
            "3   2016-08-19        22         15       1011.39          95          34   \n",
            "4   2016-08-20        18         15       1016.12          88          60   \n",
            "5   2016-08-21        18         10       1020.80          92          25   \n",
            "6   2016-08-22        18          8       1026.82          76          22   \n",
            "7   2016-08-23        20         12       1024.98          82          25   \n",
            "8   2016-08-24        23         13       1020.53          82          23   \n",
            "9   2016-08-25        24         14       1017.46          80          23   \n",
            "10  2016-08-26        25         16       1017.41          75          25   \n",
            "11  2016-08-27        26         16       1017.84          85          26   \n",
            "12  2016-08-28        23         15       1019.31          94          24   \n",
            "13  2016-08-29        22         15       1017.84          84          36   \n",
            "14  2016-08-30        22         14       1018.94          82          31   \n",
            "15  2016-08-31        22         14       1019.86          78          32   \n",
            "16  2016-09-01        23         14       1021.29          84          22   \n",
            "17  2016-09-02        22         12       1020.20          79          24   \n",
            "18  2016-09-03        21         11       1019.68          82          19   \n",
            "19  2016-09-04        18         12       1019.53          93          27   \n",
            "20  2016-09-05        18         15       1021.04          95          59   \n",
            "21  2016-09-06        20         13       1021.72          87          32   \n",
            "22  2016-09-07        20         11       1017.96          88          23   \n",
            "23  2016-09-08        21         12       1015.58          83          24   \n",
            "24  2016-09-09        21         13       1015.89          82          26   \n",
            "25  2016-09-10        22         13       1015.92          82          27   \n",
            "26  2016-09-11        21         13       1017.11          86          27   \n",
            "27  2016-09-12        23         12       1018.27          75          24   \n",
            "28  2016-09-13        22         11       1015.25          72          13   \n",
            "29  2016-09-14        23          9       1012.29          63          14   \n",
            "..         ...       ...        ...           ...         ...         ...   \n",
            "969 2017-11-29         2          0       1006.49         100          72   \n",
            "970 2017-11-30         0         -4       1008.55          80          46   \n",
            "971 2017-12-01         0         -4       1010.92          86          45   \n",
            "972 2017-12-02        -1         -6       1017.32          80          36   \n",
            "973 2017-12-03        -2         -6       1025.81          86          34   \n",
            "974 2017-12-04        -1         -6       1033.58          80          38   \n",
            "975 2017-12-05         0         -5       1037.98          86          39   \n",
            "976 2017-12-06        -0         -5       1035.32          86          33   \n",
            "977 2017-12-07         1         -6       1028.85          86          28   \n",
            "978 2017-12-08         2         -2       1018.18         100          36   \n",
            "979 2017-12-09        -2         -5       1018.90          93          55   \n",
            "980 2017-12-10        -4         -5       1007.57         100          60   \n",
            "981 2017-12-11         2          0        991.14         100          53   \n",
            "982 2017-12-12         1          0       1010.26         100          72   \n",
            "983 2017-12-13        -2         -4       1018.94         100          52   \n",
            "984 2017-12-14         2          1       1005.94         100          83   \n",
            "985 2017-12-15         2          0       1002.04         100          71   \n",
            "986 2017-12-16         0         -1       1011.96         100          71   \n",
            "987 2017-12-17        -2         -4       1024.79         100          58   \n",
            "988 2017-12-18        -4         -6       1027.15         100          71   \n",
            "989 2017-12-19        -5         -7       1034.03          93          67   \n",
            "990 2017-12-20        -2         -4       1034.63          93          57   \n",
            "991 2017-12-21        -2         -4       1038.25          93          55   \n",
            "992 2017-12-22        -0         -2       1036.72         100          73   \n",
            "993 2017-12-23         2         -0       1037.04          93          54   \n",
            "994 2017-12-24        -0         -4       1033.33         100          60   \n",
            "995 2017-12-25        -0         -4       1024.00          93          51   \n",
            "996 2017-12-26         1         -4       1013.09          93          57   \n",
            "997 2017-12-27         2         -1        993.09          93          62   \n",
            "998 2017-12-28        -2         -4       1003.18          93          46   \n",
            "\n",
            "    maxtempm mintempm maxdewptm mindewptm    ...    mindewptm_3  \\\n",
            "0         32       15        15         7    ...           None   \n",
            "1         29       14        15        10    ...           None   \n",
            "2         22       15        16        12    ...           None   \n",
            "3         28       17        16        12    ...              7   \n",
            "4         20       16        17        13    ...             10   \n",
            "5         24       11        13         6    ...             12   \n",
            "6         26       10        12         6    ...             12   \n",
            "7         28       12        16         9    ...             13   \n",
            "8         31       15        16        11    ...              6   \n",
            "9         33       16        16        12    ...              6   \n",
            "10        33       17        19        13    ...              9   \n",
            "11        33       18        19        14    ...             11   \n",
            "12        31       15        17        12    ...             12   \n",
            "13        27       17        17        13    ...             13   \n",
            "14        28       15        17        12    ...             14   \n",
            "15        28       16        15        13    ...             12   \n",
            "16        30       16        16        11    ...             13   \n",
            "17        29       14        14        11    ...             12   \n",
            "18        29       13        13         8    ...             13   \n",
            "19        25       12        16         9    ...             11   \n",
            "20        20       15        16        14    ...             11   \n",
            "21        25       14        15        11    ...              8   \n",
            "22        27       12        14         8    ...              9   \n",
            "23        29       13        14        10    ...             14   \n",
            "24        28       14        16        11    ...             11   \n",
            "25        29       15        15         9    ...              8   \n",
            "26        29       13        16        11    ...             10   \n",
            "27        30       16        15        10    ...             11   \n",
            "28        31       14        14         6    ...              9   \n",
            "29        30       16        13         6    ...             11   \n",
            "..       ...      ...       ...       ...    ...            ...   \n",
            "969        3        0         2        -2    ...             -8   \n",
            "970        2       -1        -3        -5    ...             -9   \n",
            "971        2       -2        -3        -6    ...             -7   \n",
            "972        2       -4        -4        -7    ...             -2   \n",
            "973        2       -5        -5        -8    ...             -5   \n",
            "974        2       -4        -5        -7    ...             -6   \n",
            "975        4       -3        -4        -6    ...             -7   \n",
            "976        4       -5        -4        -7    ...             -8   \n",
            "977        7       -5        -4        -7    ...             -7   \n",
            "978        6       -1         1        -6    ...             -6   \n",
            "979        0       -5        -2        -9    ...             -7   \n",
            "980       -1       -6        -2       -10    ...             -7   \n",
            "981        6       -2         3        -2    ...             -6   \n",
            "982        3       -1         1        -2    ...             -9   \n",
            "983        1       -4         0        -7    ...            -10   \n",
            "984        4        0         3        -1    ...             -2   \n",
            "985        3        0         3        -2    ...             -2   \n",
            "986        2       -1         0        -2    ...             -7   \n",
            "987        1       -5         0        -7    ...             -1   \n",
            "988       -1       -8        -3        -9    ...             -2   \n",
            "989        0      -10        -4       -11    ...             -2   \n",
            "990        1       -4        -3        -4    ...             -7   \n",
            "991        1       -4        -2        -6    ...             -9   \n",
            "992        2       -3         0        -5    ...            -11   \n",
            "993        6       -1         1        -3    ...             -4   \n",
            "994        3       -4        -2        -5    ...             -6   \n",
            "995        4       -5        -2        -6    ...             -5   \n",
            "996        7       -5        -1        -7    ...             -3   \n",
            "997        4       -1         1        -3    ...             -5   \n",
            "998        2       -5        -1        -9    ...             -6   \n",
            "\n",
            "    maxpressurem_1 maxpressurem_2 maxpressurem_3 minpressurem_1  \\\n",
            "0             None           None           None           None   \n",
            "1             1019           None           None           1010   \n",
            "2             1016           1019           None           1008   \n",
            "3             1014           1016           1019           1010   \n",
            "4             1014           1014           1016           1008   \n",
            "5             1019           1014           1014           1013   \n",
            "6             1024           1019           1014           1018   \n",
            "7             1029           1024           1019           1023   \n",
            "8             1028           1029           1024           1019   \n",
            "9             1025           1028           1029           1014   \n",
            "10            1022           1025           1028           1011   \n",
            "11            1021           1022           1025           1012   \n",
            "12            1022           1021           1022           1012   \n",
            "13            1023           1022           1021           1013   \n",
            "14            1021           1023           1022           1014   \n",
            "15            1021           1021           1023           1015   \n",
            "16            1022           1021           1021           1016   \n",
            "17            1025           1022           1021           1017   \n",
            "18            1024           1025           1022           1015   \n",
            "19            1023           1024           1025           1015   \n",
            "20            1022           1023           1024           1015   \n",
            "21            1023           1022           1023           1019   \n",
            "22            1025           1023           1022           1017   \n",
            "23            1022           1025           1023           1012   \n",
            "24            1019           1022           1025           1010   \n",
            "25            1019           1019           1022           1011   \n",
            "26            1019           1019           1019           1011   \n",
            "27            1020           1019           1019           1013   \n",
            "28            1021           1020           1019           1014   \n",
            "29            1020           1021           1020           1009   \n",
            "..             ...            ...            ...            ...   \n",
            "969           1024           1034           1031           1008   \n",
            "970           1010           1024           1034           1004   \n",
            "971           1011           1010           1024           1006   \n",
            "972           1017           1011           1010           1007   \n",
            "973           1024           1017           1011           1014   \n",
            "974           1032           1024           1017           1021   \n",
            "975           1039           1032           1024           1029   \n",
            "976           1042           1039           1032           1035   \n",
            "977           1040           1042           1039           1032   \n",
            "978           1036           1040           1042           1023   \n",
            "979           1023           1036           1040           1013   \n",
            "980           1023           1023           1036           1015   \n",
            "981           1022           1023           1023            997   \n",
            "982           1000           1022           1023            986   \n",
            "983           1022           1000           1022            997   \n",
            "984           1025           1022           1000           1012   \n",
            "985           1013           1025           1022            997   \n",
            "986           1006           1013           1025            997   \n",
            "987           1022           1006           1013           1003   \n",
            "988           1033           1022           1006           1020   \n",
            "989           1034           1033           1022           1022   \n",
            "990           1039           1034           1033           1029   \n",
            "991           1039           1039           1034           1032   \n",
            "992           1043           1039           1039           1036   \n",
            "993           1041           1043           1039           1034   \n",
            "994           1040           1041           1043           1035   \n",
            "995           1040           1040           1041           1029   \n",
            "996           1033           1040           1040           1018   \n",
            "997           1022           1033           1040           1003   \n",
            "998           1005           1022           1033            988   \n",
            "\n",
            "    minpressurem_2 minpressurem_3 precipm_1 precipm_2 precipm_3  \n",
            "0             None           None      None      None      None  \n",
            "1             None           None       0.0      None      None  \n",
            "2             1010           None       0.1       0.0      None  \n",
            "3             1008           1010       0.3       0.1       0.0  \n",
            "4             1010           1008       1.0       0.3       0.1  \n",
            "5             1008           1010       0.3       1.0       0.3  \n",
            "6             1013           1008       0.4       0.3       1.0  \n",
            "7             1018           1013       0.0       0.4       0.3  \n",
            "8             1023           1018       0.0       0.0       0.4  \n",
            "9             1019           1023       0.0       0.0       0.0  \n",
            "10            1014           1019       0.0       0.0       0.0  \n",
            "11            1011           1014       0.0       0.0       0.0  \n",
            "12            1012           1011       4.0       0.0       0.0  \n",
            "13            1012           1012       1.0       4.0       0.0  \n",
            "14            1013           1012       0.0       1.0       4.0  \n",
            "15            1014           1013       0.0       0.0       1.0  \n",
            "16            1015           1014       0.0       0.0       0.0  \n",
            "17            1016           1015       0.0       0.0       0.0  \n",
            "18            1017           1016       0.0       0.0       0.0  \n",
            "19            1015           1017       0.0       0.0       0.0  \n",
            "20            1015           1015       1.0       0.0       0.0  \n",
            "21            1015           1015       2.0       1.0       0.0  \n",
            "22            1019           1015       0.0       2.0       1.0  \n",
            "23            1017           1019       0.0       0.0       2.0  \n",
            "24            1012           1017       0.0       0.0       0.0  \n",
            "25            1010           1012       0.0       0.0       0.0  \n",
            "26            1011           1010       0.0       0.0       0.0  \n",
            "27            1011           1011       0.0       0.0       0.0  \n",
            "28            1013           1011       0.0       0.0       0.0  \n",
            "29            1014           1013       0.0       0.0       0.0  \n",
            "..             ...            ...       ...       ...       ...  \n",
            "969           1022           1021       0.1       0.0       0.0  \n",
            "970           1008           1022       1.0       0.1       0.0  \n",
            "971           1004           1008       0.0       1.0       0.1  \n",
            "972           1006           1004       0.0       0.0       1.0  \n",
            "973           1007           1006       0.0       0.0       0.0  \n",
            "974           1014           1007       0.0       0.0       0.0  \n",
            "975           1021           1014       0.0       0.0       0.0  \n",
            "976           1029           1021       0.0       0.0       0.0  \n",
            "977           1035           1029       0.0       0.0       0.0  \n",
            "978           1032           1035       0.0       0.0       0.0  \n",
            "979           1023           1032       3.0       0.0       0.0  \n",
            "980           1013           1023       0.2       3.0       0.0  \n",
            "981           1015           1013      35.0       0.2       3.0  \n",
            "982            997           1015       2.0      35.0       0.2  \n",
            "983            986            997       0.7       2.0      35.0  \n",
            "984            997            986       2.0       0.7       2.0  \n",
            "985           1012            997       0.2       2.0       0.7  \n",
            "986            997           1012       3.0       0.2       2.0  \n",
            "987            997            997       0.3       3.0       0.2  \n",
            "988           1003            997       0.3       0.3       3.0  \n",
            "989           1020           1003       6.0       0.3       0.3  \n",
            "990           1022           1020       0.0       6.0       0.3  \n",
            "991           1029           1022       0.0       0.0       6.0  \n",
            "992           1032           1029       0.0       0.0       0.0  \n",
            "993           1036           1032       0.0       0.0       0.0  \n",
            "994           1034           1036       0.0       0.0       0.0  \n",
            "995           1035           1034       0.0       0.0       0.0  \n",
            "996           1029           1035       0.0       0.0       0.0  \n",
            "997           1018           1029       0.0       0.0       0.0  \n",
            "998           1003           1018       2.0       0.0       0.0  \n",
            "\n",
            "[999 rows x 49 columns]\n"
          ],
          "name": "stdout"
        }
      ]
    },
    {
      "metadata": {
        "id": "TgKyXuhoxAIo",
        "colab_type": "code",
        "colab": {}
      },
      "cell_type": "code",
      "source": [
        "#cleaning data, we remove the useless data\n",
        "#to_remove = [feature for feature in features if feature not in [\"meantempm\", \"mintempm\", \"maxtempm\"]]\n",
        "\n",
        "#to_keep = [col for col in df.columns if col not in to_remove]\n",
        "\n",
        "#df = df[to_keep]\n",
        "df.columns\n",
        "df = df.apply(pd.to_numeric, errors=\"coerce\")\n",
        "df = df.dropna()"
      ],
      "execution_count": 0,
      "outputs": []
    },
    {
      "metadata": {
        "id": "xNsmDblRxAMT",
        "colab_type": "code",
        "colab": {
          "base_uri": "https://localhost:8080/",
          "height": 935
        },
        "outputId": "bfefe09b-9e67-4789-bd0f-7a7692f399f8"
      },
      "cell_type": "code",
      "source": [
        "df.info()"
      ],
      "execution_count": 9,
      "outputs": [
        {
          "output_type": "stream",
          "text": [
            "<class 'pandas.core.frame.DataFrame'>\n",
            "Int64Index: 996 entries, 3 to 998\n",
            "Data columns (total 49 columns):\n",
            "date               996 non-null int64\n",
            "meantempm          996 non-null int64\n",
            "meandewptm         996 non-null int64\n",
            "meanpressurem      996 non-null float64\n",
            "maxhumidity        996 non-null int64\n",
            "minhumidity        996 non-null int64\n",
            "maxtempm           996 non-null int64\n",
            "mintempm           996 non-null int64\n",
            "maxdewptm          996 non-null int64\n",
            "mindewptm          996 non-null int64\n",
            "maxpressurem       996 non-null int64\n",
            "minpressurem       996 non-null int64\n",
            "precipm            996 non-null float64\n",
            "meantempm_1        996 non-null float64\n",
            "meantempm_2        996 non-null float64\n",
            "meantempm_3        996 non-null float64\n",
            "meandewptm_1       996 non-null float64\n",
            "meandewptm_2       996 non-null float64\n",
            "meandewptm_3       996 non-null float64\n",
            "meanpressurem_1    996 non-null float64\n",
            "meanpressurem_2    996 non-null float64\n",
            "meanpressurem_3    996 non-null float64\n",
            "maxhumidity_1      996 non-null float64\n",
            "maxhumidity_2      996 non-null float64\n",
            "maxhumidity_3      996 non-null float64\n",
            "minhumidity_1      996 non-null float64\n",
            "minhumidity_2      996 non-null float64\n",
            "minhumidity_3      996 non-null float64\n",
            "maxtempm_1         996 non-null float64\n",
            "maxtempm_2         996 non-null float64\n",
            "maxtempm_3         996 non-null float64\n",
            "mintempm_1         996 non-null float64\n",
            "mintempm_2         996 non-null float64\n",
            "mintempm_3         996 non-null float64\n",
            "maxdewptm_1        996 non-null float64\n",
            "maxdewptm_2        996 non-null float64\n",
            "maxdewptm_3        996 non-null float64\n",
            "mindewptm_1        996 non-null float64\n",
            "mindewptm_2        996 non-null float64\n",
            "mindewptm_3        996 non-null float64\n",
            "maxpressurem_1     996 non-null float64\n",
            "maxpressurem_2     996 non-null float64\n",
            "maxpressurem_3     996 non-null float64\n",
            "minpressurem_1     996 non-null float64\n",
            "minpressurem_2     996 non-null float64\n",
            "minpressurem_3     996 non-null float64\n",
            "precipm_1          996 non-null float64\n",
            "precipm_2          996 non-null float64\n",
            "precipm_3          996 non-null float64\n",
            "dtypes: float64(38), int64(11)\n",
            "memory usage: 389.1 KB\n"
          ],
          "name": "stdout"
        }
      ]
    },
    {
      "metadata": {
        "id": "NibiA9RcxAQS",
        "colab_type": "code",
        "colab": {}
      },
      "cell_type": "code",
      "source": [
        "df = df.drop(['mintempm',\"maxtempm\",\"meandewptm\",\"meanpressurem\",\"maxhumidity\",\"minhumidity\",\"maxdewptm\",\"mindewptm\",\"maxpressurem\",\"minpressurem\",\"precipm\",\"date\"], axis=1)\n",
        "X = df[[col for col in df.columns if col != \"meantempm\"]]\n",
        "y = df['meantempm'] "
      ],
      "execution_count": 0,
      "outputs": []
    },
    {
      "metadata": {
        "id": "OLdn5AsPxAUU",
        "colab_type": "code",
        "colab": {}
      },
      "cell_type": "code",
      "source": [
        "X = df[[col for col in df.columns if col != 'meantempm']]\n",
        "y = df['meantempm'] "
      ],
      "execution_count": 0,
      "outputs": []
    },
    {
      "metadata": {
        "id": "jTKo1f5yHZFl",
        "colab_type": "code",
        "colab": {}
      },
      "cell_type": "code",
      "source": [
        "X = X.values\n",
        "y= y.values"
      ],
      "execution_count": 0,
      "outputs": []
    },
    {
      "metadata": {
        "id": "fDS1D2sizvbM",
        "colab_type": "code",
        "colab": {}
      },
      "cell_type": "code",
      "source": [
        "import keras\n",
        "import numpy as np\n",
        "from keras.models import Sequential\n",
        "import keras.callbacks as cb\n",
        "from keras.datasets import mnist\n",
        "\n",
        "from keras.layers import Dense, Dropout,Activation\n",
        "from keras.optimizers import RMSprop\n",
        "from IPython.display import SVG\n",
        "from keras.utils.vis_utils import model_to_dot\n",
        "\n",
        "import tensorflow as tf\n",
        "#device_name = tf.test.gpu_device_name()\n",
        "#if device_name != '/device:GPU:0':\n",
        "#  raise SystemError('GPU device not found')\n",
        "#print('Found GPU at: {}'.format(device_name))\n",
        "\n"
      ],
      "execution_count": 0,
      "outputs": []
    },
    {
      "metadata": {
        "id": "W7AHP_IZzvl0",
        "colab_type": "code",
        "colab": {
          "base_uri": "https://localhost:8080/",
          "height": 68
        },
        "outputId": "e8fc08b0-fefd-439b-a0fb-71d3b4eda5a7"
      },
      "cell_type": "code",
      "source": [
        "from sklearn.metrics import explained_variance_score,mean_absolute_error,median_absolute_error\n",
        "from sklearn.model_selection import train_test_split  \n",
        "\n",
        "class LossHistory(cb.Callback):\n",
        "    def on_train_begin(self, logs={}):\n",
        "        self.losses = []\n",
        "\n",
        "    def on_batch_end(self, batch, logs={}):\n",
        "        batch_loss = logs.get('loss')\n",
        "        self.losses.append(batch_loss)\n",
        "\n",
        "        \n",
        "        \n",
        "history = LossHistory()\n",
        "X_train, X_tmp, y_train, y_tmp = train_test_split(X, y, test_size=0.2, random_state=23)\n",
        "X_test, X_val, y_test, y_val = train_test_split(X_tmp, y_tmp, test_size=0.5, random_state=23)\n",
        "\n",
        "X_train.shape, X_test.shape, X_val.shape  \n",
        "print(\"Training instances   {}, Training features   {}\".format(X_train.shape[0], X_train.shape[1]))  \n",
        "print(\"Validation instances {}, Validation features {}\".format(X_val.shape[0], X_val.shape[1]))  \n",
        "print(\"Testing instances    {}, Testing features    {}\".format(X_test.shape[0], X_test.shape[1]))"
      ],
      "execution_count": 16,
      "outputs": [
        {
          "output_type": "stream",
          "text": [
            "Training instances   796, Training features   36\n",
            "Validation instances 100, Validation features 36\n",
            "Testing instances    100, Testing features    36\n"
          ],
          "name": "stdout"
        }
      ]
    },
    {
      "metadata": {
        "id": "wRUPLWUngeE4",
        "colab_type": "code",
        "colab": {
          "base_uri": "https://localhost:8080/",
          "height": 136
        },
        "outputId": "5533dbf6-9819-47aa-a926-65e883ed0379"
      },
      "cell_type": "code",
      "source": [
        "print(X_tmp)"
      ],
      "execution_count": 20,
      "outputs": [
        {
          "output_type": "stream",
          "text": [
            "[[14.  20.  18.  ...  2.   0.9 25. ]\n",
            " [ 6.   4.   2.  ...  0.   0.   0. ]\n",
            " [10.  10.  10.  ...  0.   0.   0. ]\n",
            " ...\n",
            " [-3.  -1.  -1.  ...  0.   0.   0. ]\n",
            " [23.  22.  22.  ...  0.   0.   0. ]\n",
            " [13.  12.  11.  ...  0.   0.   0. ]]\n"
          ],
          "name": "stdout"
        }
      ]
    },
    {
      "metadata": {
        "id": "sjQfusG6HqmC",
        "colab_type": "code",
        "colab": {}
      },
      "cell_type": "code",
      "source": [
        "X_train = X_train.astype('float32')\n",
        "X_val = X_val.astype(\"float32\")\n",
        "X_test = X_test.astype('float32')\n",
        "y_train = np.reshape(y_train,(796,1))\n",
        "y_train = y_train.astype(\"float32\")\n",
        "y_test = np.reshape(y_test,(100,1))\n",
        "y_test = y_test.astype(\"float32\")\n",
        "y_val = np.reshape(y_val,(100,1))\n",
        "y_val = y_val.astype(\"float32\")\n"
      ],
      "execution_count": 0,
      "outputs": []
    },
    {
      "metadata": {
        "id": "5PrFLPrbHvvy",
        "colab_type": "code",
        "colab": {}
      },
      "cell_type": "code",
      "source": [
        "y = y/100"
      ],
      "execution_count": 0,
      "outputs": []
    },
    {
      "metadata": {
        "id": "vPGX_akMHv2E",
        "colab_type": "code",
        "colab": {}
      },
      "cell_type": "code",
      "source": [
        "print(y)"
      ],
      "execution_count": 0,
      "outputs": []
    },
    {
      "metadata": {
        "id": "2yqUr-4oHv72",
        "colab_type": "code",
        "colab": {}
      },
      "cell_type": "code",
      "source": [
        "print(y_train)"
      ],
      "execution_count": 0,
      "outputs": []
    },
    {
      "metadata": {
        "id": "aOl3pJuLzvpe",
        "colab_type": "code",
        "colab": {
          "base_uri": "https://localhost:8080/",
          "height": 51
        },
        "outputId": "f4ad8824-cdb9-46c7-bb6f-f0be2419aed3"
      },
      "cell_type": "code",
      "source": [
        "print(X_train.shape)\n",
        "print(y_train.shape)"
      ],
      "execution_count": 21,
      "outputs": [
        {
          "output_type": "stream",
          "text": [
            "(796, 36)\n",
            "(796, 1)\n"
          ],
          "name": "stdout"
        }
      ]
    },
    {
      "metadata": {
        "id": "AGEnxnsfzvtZ",
        "colab_type": "code",
        "colab": {}
      },
      "cell_type": "code",
      "source": [
        "X_train = X_train.astype('float32')\n",
        "X_val = X_val.astype(\"float32\")\n",
        "X_test = X_test.astype('float32')"
      ],
      "execution_count": 0,
      "outputs": []
    },
    {
      "metadata": {
        "id": "hKP2MZPCzv2Z",
        "colab_type": "code",
        "colab": {
          "base_uri": "https://localhost:8080/",
          "height": 204
        },
        "outputId": "0d8d62ec-fc86-45c9-f489-2852257003e3"
      },
      "cell_type": "code",
      "source": [
        "model = Sequential()\n",
        "\n",
        "\n",
        "model.add(Dense(10,kernel_initializer='normal',activation = \"relu\",input_dim=36))\n",
        "\n",
        "#model.add(Dense(10,kernel_initializer='normal',activation = \"relu\"))\n",
        "\n",
        "model.add(Dense(1, kernel_initializer='normal',activation=\"linear\"))\n",
        "model.compile(optimizer='adagrad',loss='MAE', metrics=['accuracy'])\n",
        "model.summary()\n",
        "\n"
      ],
      "execution_count": 18,
      "outputs": [
        {
          "output_type": "stream",
          "text": [
            "_________________________________________________________________\n",
            "Layer (type)                 Output Shape              Param #   \n",
            "=================================================================\n",
            "dense_1 (Dense)              (None, 10)                370       \n",
            "_________________________________________________________________\n",
            "dense_2 (Dense)              (None, 1)                 11        \n",
            "=================================================================\n",
            "Total params: 381\n",
            "Trainable params: 381\n",
            "Non-trainable params: 0\n",
            "_________________________________________________________________\n"
          ],
          "name": "stdout"
        }
      ]
    },
    {
      "metadata": {
        "id": "c2fzlatK5A7t",
        "colab_type": "code",
        "colab": {}
      },
      "cell_type": "code",
      "source": [
        "history = model.fit(X_train,y_train,batch_size =64, epochs = 5000, verbose =0, validation_data=(X_test, y_test))#5000-6000 epochs optimal ex"
      ],
      "execution_count": 0,
      "outputs": []
    },
    {
      "metadata": {
        "id": "Z2d8pkY0bDwW",
        "colab_type": "code",
        "colab": {}
      },
      "cell_type": "code",
      "source": [
        ""
      ],
      "execution_count": 0,
      "outputs": []
    },
    {
      "metadata": {
        "id": "zwH4lFhQJQFJ",
        "colab_type": "code",
        "colab": {
          "base_uri": "https://localhost:8080/",
          "height": 1717
        },
        "outputId": "c1b90761-4a2d-4581-9f6a-11788ba94638"
      },
      "cell_type": "code",
      "source": [
        "model.predict(X_val,steps = 1)"
      ],
      "execution_count": 20,
      "outputs": [
        {
          "output_type": "execute_result",
          "data": {
            "text/plain": [
              "array([[14.856474  ],\n",
              "       [ 6.5329404 ],\n",
              "       [10.097255  ],\n",
              "       [22.926237  ],\n",
              "       [25.025234  ],\n",
              "       [ 7.5431824 ],\n",
              "       [-7.5389185 ],\n",
              "       [17.432764  ],\n",
              "       [23.214092  ],\n",
              "       [10.09498   ],\n",
              "       [18.048883  ],\n",
              "       [15.896547  ],\n",
              "       [ 0.1367721 ],\n",
              "       [10.753691  ],\n",
              "       [19.038836  ],\n",
              "       [13.21998   ],\n",
              "       [11.587533  ],\n",
              "       [21.026592  ],\n",
              "       [ 7.4267507 ],\n",
              "       [ 1.4284793 ],\n",
              "       [-0.97194505],\n",
              "       [-1.4529997 ],\n",
              "       [11.897974  ],\n",
              "       [ 9.5434    ],\n",
              "       [ 0.456167  ],\n",
              "       [13.885712  ],\n",
              "       [18.45026   ],\n",
              "       [-2.4548163 ],\n",
              "       [ 3.0376601 ],\n",
              "       [18.511795  ],\n",
              "       [ 8.694941  ],\n",
              "       [14.154555  ],\n",
              "       [-7.1189384 ],\n",
              "       [21.805538  ],\n",
              "       [ 7.612504  ],\n",
              "       [11.2873    ],\n",
              "       [19.475576  ],\n",
              "       [22.926237  ],\n",
              "       [ 1.920274  ],\n",
              "       [22.25048   ],\n",
              "       [24.739208  ],\n",
              "       [18.510479  ],\n",
              "       [12.912376  ],\n",
              "       [20.623592  ],\n",
              "       [ 8.142193  ],\n",
              "       [14.484262  ],\n",
              "       [20.502184  ],\n",
              "       [ 2.1146789 ],\n",
              "       [13.582823  ],\n",
              "       [12.1402    ],\n",
              "       [21.969133  ],\n",
              "       [14.358557  ],\n",
              "       [-0.71211904],\n",
              "       [22.084625  ],\n",
              "       [22.433418  ],\n",
              "       [-1.8530293 ],\n",
              "       [11.628387  ],\n",
              "       [-0.337782  ],\n",
              "       [22.491936  ],\n",
              "       [18.327305  ],\n",
              "       [22.188915  ],\n",
              "       [ 9.692709  ],\n",
              "       [19.118732  ],\n",
              "       [18.986233  ],\n",
              "       [ 1.6715108 ],\n",
              "       [-0.21267262],\n",
              "       [ 8.775704  ],\n",
              "       [14.724741  ],\n",
              "       [12.299576  ],\n",
              "       [-7.1486983 ],\n",
              "       [ 0.4417382 ],\n",
              "       [23.875727  ],\n",
              "       [10.930067  ],\n",
              "       [24.706005  ],\n",
              "       [12.217394  ],\n",
              "       [ 8.694941  ],\n",
              "       [11.937284  ],\n",
              "       [ 1.1123157 ],\n",
              "       [12.60338   ],\n",
              "       [-1.4860276 ],\n",
              "       [14.607231  ],\n",
              "       [ 7.8030353 ],\n",
              "       [19.914993  ],\n",
              "       [14.421152  ],\n",
              "       [14.372898  ],\n",
              "       [ 1.8181648 ],\n",
              "       [ 9.387741  ],\n",
              "       [13.263696  ],\n",
              "       [10.813613  ],\n",
              "       [-1.6926798 ],\n",
              "       [13.038308  ],\n",
              "       [-0.8310145 ],\n",
              "       [ 1.4284793 ],\n",
              "       [ 2.554374  ],\n",
              "       [17.856064  ],\n",
              "       [15.880569  ],\n",
              "       [-2.5993705 ],\n",
              "       [11.2074585 ],\n",
              "       [24.75942   ],\n",
              "       [22.635565  ]], dtype=float32)"
            ]
          },
          "metadata": {
            "tags": []
          },
          "execution_count": 20
        }
      ]
    },
    {
      "metadata": {
        "id": "43IZ3BV4KO4o",
        "colab_type": "code",
        "colab": {
          "base_uri": "https://localhost:8080/",
          "height": 119
        },
        "outputId": "24dd892e-ba1f-4fbe-a21e-5d67cf3416b6"
      },
      "cell_type": "code",
      "source": [
        "print(y_val)\n",
        "print(y_val.shape)"
      ],
      "execution_count": 21,
      "outputs": [
        {
          "output_type": "stream",
          "text": [
            "[16  6  9 20 23  7 -7 18 25  8 16 15  0 12 18 14 12 23  8  3  0 -2 10  8\n",
            "  0 16 22  2  6 18  8 14 -5 23  9 13 20 20  6 23 26 20 12 19 10 15 21  4\n",
            " 16 14 21 16  0 23 22  2 11  1 24 10 22  7 20 18  3 -3  9 16 12 -8  0 24\n",
            " 12 26 13  8 12  4 10 -4 18  6 22 15 12  2 10 12 13 -1 13 -2  3  3 18 14\n",
            " -4  9 22 25]\n",
            "(100,)\n"
          ],
          "name": "stdout"
        }
      ]
    },
    {
      "metadata": {
        "id": "GftL-D89MLlA",
        "colab_type": "code",
        "colab": {
          "base_uri": "https://localhost:8080/",
          "height": 85
        },
        "outputId": "73ad438a-1c3c-44d0-acef-43e6cc439a37"
      },
      "cell_type": "code",
      "source": [
        "prediction = model.predict(X_val,steps = 1)\n",
        "mean_error = abs((y_val-prediction))\n",
        "print(\"mean absolute error: \")\n",
        "print(mean_error.mean())\n",
        "print(\"median: \")\n",
        "print(median_absolute_error(y_val, prediction))"
      ],
      "execution_count": 23,
      "outputs": [
        {
          "output_type": "stream",
          "text": [
            "mean absolute error: \n",
            "9.802996892702579\n",
            "median: \n",
            "1.2535505294799805\n"
          ],
          "name": "stdout"
        }
      ]
    },
    {
      "metadata": {
        "id": "v4VAu4TTUEW7",
        "colab_type": "code",
        "colab": {
          "base_uri": "https://localhost:8080/",
          "height": 376
        },
        "outputId": "1f3ef81f-a7f2-451c-9302-aafc3d064afb"
      },
      "cell_type": "code",
      "source": [
        "import matplotlib.pyplot as plt\n",
        "\n",
        "\n",
        "\n",
        "plt.plot(history.history['loss'])\n",
        "\n",
        "plt.title('model loss')\n",
        "plt.ylabel('loss')\n",
        "plt.xlabel('epoch')\n",
        "plt.legend(['train'], loc='upper left')\n",
        "plt.show()"
      ],
      "execution_count": 24,
      "outputs": [
        {
          "output_type": "display_data",
          "data": {
            "image/png": "[encoded data removed]",
            "text/plain": [
              "<matplotlib.figure.Figure at 0x7fe5449f3a58>"
            ]
          },
          "metadata": {
            "tags": []
          }
        }
      ]
    },
    {
      "metadata": {
        "id": "T8hn9engXaVn",
        "colab_type": "code",
        "colab": {}
      },
      "cell_type": "code",
      "source": [
        "API_KEY = '40b453c139590191'  \n",
        "BASE_URL = \"http://api.wunderground.com/api/{}/history_{}/q/Switzerland/Collombey.json\"\n",
        "target_date = datetime(2018,10,16)  \n",
        "features = [\"date\",\"meantempm\", \"meandewptm\", \"meanpressurem\", \"maxhumidity\", \"minhumidity\", \"maxtempm\",  \n",
        "            \"mintempm\", \"maxdewptm\", \"mindewptm\", \"maxpressurem\", \"minpressurem\", \"precipm\"]\n",
        "DailySummary = namedtuple(\"DailySummary\", features)\n",
        "\n",
        "def extract_weather_data(url, api_key, target_date, days):  \n",
        "    records_test = []\n",
        "    for _ in range(days):\n",
        "        request = BASE_URL.format(API_KEY, target_date.strftime('%Y%m%d'))\n",
        "        response = requests.get(request)\n",
        "        if response.status_code == 200:\n",
        "            data = response.json()['history']['dailysummary'][0]\n",
        "            records_test.append(DailySummary(\n",
        "                date=target_date,\n",
        "                meantempm=data['meantempm'],\n",
        "                meandewptm=data['meandewptm'],\n",
        "                meanpressurem=data['meanpressurem'],\n",
        "                maxhumidity=data['maxhumidity'],\n",
        "                minhumidity=data['minhumidity'],\n",
        "                maxtempm=data['maxtempm'],\n",
        "                mintempm=data['mintempm'],\n",
        "                maxdewptm=data['maxdewptm'],\n",
        "                mindewptm=data['mindewptm'],\n",
        "                maxpressurem=data['maxpressurem'],\n",
        "                minpressurem=data['minpressurem'],\n",
        "                precipm=data['precipm']))\n",
        "        time.sleep(6)\n",
        "        target_date += timedelta(days=1)\n",
        "    return records_test\n",
        "records_test = extract_weather_data(BASE_URL, API_KEY, target_date, 5) \n",
        "#we use the data from x-n day to predict the mean temperature at the day x otherwise we could have missing data"
      ],
      "execution_count": 0,
      "outputs": []
    },
    {
      "metadata": {
        "id": "0h3yMAx3Xafv",
        "colab_type": "code",
        "colab": {
          "base_uri": "https://localhost:8080/",
          "height": 238
        },
        "outputId": "b724f9a2-d34b-44c2-b32e-f4f5d98eaefe"
      },
      "cell_type": "code",
      "source": [
        "df1 = pd.DataFrame(records_test, columns=features)\n",
        "print(df1)"
      ],
      "execution_count": 39,
      "outputs": [
        {
          "output_type": "stream",
          "text": [
            "        date meantempm meandewptm meanpressurem maxhumidity minhumidity  \\\n",
            "0 2018-10-16        16          5       1019.12          71          23   \n",
            "1 2018-10-17        14          6       1018.53          76          22   \n",
            "2 2018-10-18        14          7       1016.94          87          28   \n",
            "3 2018-10-19        14          7       1019.95          87          34   \n",
            "4 2018-10-20        13          8       1025.15          93          38   \n",
            "\n",
            "  maxtempm mintempm maxdewptm mindewptm maxpressurem minpressurem precipm  \n",
            "0       23        8         7         3         1021         1015     0.0  \n",
            "1       22        7         8         4         1022         1014     0.0  \n",
            "2       21        7         9         5         1019         1013     0.0  \n",
            "3       20        8        10         5         1024         1017     0.0  \n",
            "4       19        7        10         6         1029         1023     0.0  \n"
          ],
          "name": "stdout"
        }
      ]
    },
    {
      "metadata": {
        "id": "6hWv7PQUXanR",
        "colab_type": "code",
        "colab": {}
      },
      "cell_type": "code",
      "source": [
        "def derive_nth_day_feature(df, feature, N):\n",
        "    rows = df.shape[0]\n",
        "    nth_prior_measurements = [None]*N + [df[feature][i-N] for i in range(N, rows)]\n",
        "    col_name = col_name = \"{}_{}\".format(feature, N)\n",
        "    df[col_name] = nth_prior_measurements\n",
        "for feature in features:\n",
        "    if feature != 'date':\n",
        "        for N in range(1,4):\n",
        "            derive_nth_day_feature(df1, feature, N)    "
      ],
      "execution_count": 0,
      "outputs": []
    },
    {
      "metadata": {
        "id": "wbDgoL2fXatT",
        "colab_type": "code",
        "colab": {
          "base_uri": "https://localhost:8080/",
          "height": 629
        },
        "outputId": "7c734717-10b0-40a1-898d-82de952445a5"
      },
      "cell_type": "code",
      "source": [
        "df1 = df1.apply(pd.to_numeric, errors=\"coerce\")\n",
        "print(df1)"
      ],
      "execution_count": 41,
      "outputs": [
        {
          "output_type": "stream",
          "text": [
            "                  date  meantempm  meandewptm  meanpressurem  maxhumidity  \\\n",
            "0  1539648000000000000         16           5        1019.12           71   \n",
            "1  1539734400000000000         14           6        1018.53           76   \n",
            "2  1539820800000000000         14           7        1016.94           87   \n",
            "3  1539907200000000000         14           7        1019.95           87   \n",
            "4  1539993600000000000         13           8        1025.15           93   \n",
            "\n",
            "   minhumidity  maxtempm  mintempm  maxdewptm  mindewptm    ...      \\\n",
            "0           23        23         8          7          3    ...       \n",
            "1           22        22         7          8          4    ...       \n",
            "2           28        21         7          9          5    ...       \n",
            "3           34        20         8         10          5    ...       \n",
            "4           38        19         7         10          6    ...       \n",
            "\n",
            "   mindewptm_3  maxpressurem_1  maxpressurem_2  maxpressurem_3  \\\n",
            "0          NaN             NaN             NaN             NaN   \n",
            "1          NaN          1021.0             NaN             NaN   \n",
            "2          NaN          1022.0          1021.0             NaN   \n",
            "3          3.0          1019.0          1022.0          1021.0   \n",
            "4          4.0          1024.0          1019.0          1022.0   \n",
            "\n",
            "   minpressurem_1  minpressurem_2  minpressurem_3  precipm_1  precipm_2  \\\n",
            "0             NaN             NaN             NaN        NaN        NaN   \n",
            "1          1015.0             NaN             NaN        0.0        NaN   \n",
            "2          1014.0          1015.0             NaN        0.0        0.0   \n",
            "3          1013.0          1014.0          1015.0        0.0        0.0   \n",
            "4          1017.0          1013.0          1014.0        0.0        0.0   \n",
            "\n",
            "   precipm_3  \n",
            "0        NaN  \n",
            "1        NaN  \n",
            "2        NaN  \n",
            "3        0.0  \n",
            "4        0.0  \n",
            "\n",
            "[5 rows x 49 columns]\n"
          ],
          "name": "stdout"
        }
      ]
    },
    {
      "metadata": {
        "id": "riIu3I40Xawy",
        "colab_type": "code",
        "colab": {}
      },
      "cell_type": "code",
      "source": [
        "df1 = df1.drop([0,1,2,3])"
      ],
      "execution_count": 0,
      "outputs": []
    },
    {
      "metadata": {
        "id": "v_nTmEZCXazv",
        "colab_type": "code",
        "colab": {
          "base_uri": "https://localhost:8080/",
          "height": 1207
        },
        "outputId": "92f97f55-ec60-4e0c-97fa-78840a53237f"
      },
      "cell_type": "code",
      "source": [
        "df1.info()\n",
        "print (df1)"
      ],
      "execution_count": 43,
      "outputs": [
        {
          "output_type": "stream",
          "text": [
            "<class 'pandas.core.frame.DataFrame'>\n",
            "Int64Index: 1 entries, 4 to 4\n",
            "Data columns (total 49 columns):\n",
            "date               1 non-null int64\n",
            "meantempm          1 non-null int64\n",
            "meandewptm         1 non-null int64\n",
            "meanpressurem      1 non-null float64\n",
            "maxhumidity        1 non-null int64\n",
            "minhumidity        1 non-null int64\n",
            "maxtempm           1 non-null int64\n",
            "mintempm           1 non-null int64\n",
            "maxdewptm          1 non-null int64\n",
            "mindewptm          1 non-null int64\n",
            "maxpressurem       1 non-null int64\n",
            "minpressurem       1 non-null int64\n",
            "precipm            1 non-null float64\n",
            "meantempm_1        1 non-null float64\n",
            "meantempm_2        1 non-null float64\n",
            "meantempm_3        1 non-null float64\n",
            "meandewptm_1       1 non-null float64\n",
            "meandewptm_2       1 non-null float64\n",
            "meandewptm_3       1 non-null float64\n",
            "meanpressurem_1    1 non-null float64\n",
            "meanpressurem_2    1 non-null float64\n",
            "meanpressurem_3    1 non-null float64\n",
            "maxhumidity_1      1 non-null float64\n",
            "maxhumidity_2      1 non-null float64\n",
            "maxhumidity_3      1 non-null float64\n",
            "minhumidity_1      1 non-null float64\n",
            "minhumidity_2      1 non-null float64\n",
            "minhumidity_3      1 non-null float64\n",
            "maxtempm_1         1 non-null float64\n",
            "maxtempm_2         1 non-null float64\n",
            "maxtempm_3         1 non-null float64\n",
            "mintempm_1         1 non-null float64\n",
            "mintempm_2         1 non-null float64\n",
            "mintempm_3         1 non-null float64\n",
            "maxdewptm_1        1 non-null float64\n",
            "maxdewptm_2        1 non-null float64\n",
            "maxdewptm_3        1 non-null float64\n",
            "mindewptm_1        1 non-null float64\n",
            "mindewptm_2        1 non-null float64\n",
            "mindewptm_3        1 non-null float64\n",
            "maxpressurem_1     1 non-null float64\n",
            "maxpressurem_2     1 non-null float64\n",
            "maxpressurem_3     1 non-null float64\n",
            "minpressurem_1     1 non-null float64\n",
            "minpressurem_2     1 non-null float64\n",
            "minpressurem_3     1 non-null float64\n",
            "precipm_1          1 non-null float64\n",
            "precipm_2          1 non-null float64\n",
            "precipm_3          1 non-null float64\n",
            "dtypes: float64(38), int64(11)\n",
            "memory usage: 400.0 bytes\n",
            "                  date  meantempm  meandewptm  meanpressurem  maxhumidity  \\\n",
            "4  1539993600000000000         13           8        1025.15           93   \n",
            "\n",
            "   minhumidity  maxtempm  mintempm  maxdewptm  mindewptm    ...      \\\n",
            "4           38        19         7         10          6    ...       \n",
            "\n",
            "   mindewptm_3  maxpressurem_1  maxpressurem_2  maxpressurem_3  \\\n",
            "4          4.0          1024.0          1019.0          1022.0   \n",
            "\n",
            "   minpressurem_1  minpressurem_2  minpressurem_3  precipm_1  precipm_2  \\\n",
            "4          1017.0          1013.0          1014.0        0.0        0.0   \n",
            "\n",
            "   precipm_3  \n",
            "4        0.0  \n",
            "\n",
            "[1 rows x 49 columns]\n"
          ],
          "name": "stdout"
        }
      ]
    },
    {
      "metadata": {
        "id": "Wwj5cPQSXa3N",
        "colab_type": "code",
        "colab": {}
      },
      "cell_type": "code",
      "source": [
        "X = df1[[col for col in df1.columns if col != 'meantempm']]"
      ],
      "execution_count": 0,
      "outputs": []
    },
    {
      "metadata": {
        "id": "uVkvmi9uXarQ",
        "colab_type": "code",
        "colab": {}
      },
      "cell_type": "code",
      "source": [
        "X = X.drop([\"meandewptm\",\"meanpressurem\",\"maxhumidity\",\"minhumidity\",\"maxdewptm\",\"mindewptm\",\"maxpressurem\",\n",
        "                \"minpressurem\",\"precipm\"  ], axis=1)"
      ],
      "execution_count": 0,
      "outputs": []
    },
    {
      "metadata": {
        "id": "YN9-kcixYD31",
        "colab_type": "code",
        "colab": {}
      },
      "cell_type": "code",
      "source": [
        "X = X.drop(['mintempm', 'maxtempm',\"date\"], axis=1)\n"
      ],
      "execution_count": 0,
      "outputs": []
    },
    {
      "metadata": {
        "id": "KtE7D948SFbM",
        "colab_type": "code",
        "colab": {
          "base_uri": "https://localhost:8080/",
          "height": 714
        },
        "outputId": "37cd566b-9df2-4ba7-fece-6bf8c6298c2d"
      },
      "cell_type": "code",
      "source": [
        "X.info()"
      ],
      "execution_count": 47,
      "outputs": [
        {
          "output_type": "stream",
          "text": [
            "<class 'pandas.core.frame.DataFrame'>\n",
            "Int64Index: 1 entries, 4 to 4\n",
            "Data columns (total 36 columns):\n",
            "meantempm_1        1 non-null float64\n",
            "meantempm_2        1 non-null float64\n",
            "meantempm_3        1 non-null float64\n",
            "meandewptm_1       1 non-null float64\n",
            "meandewptm_2       1 non-null float64\n",
            "meandewptm_3       1 non-null float64\n",
            "meanpressurem_1    1 non-null float64\n",
            "meanpressurem_2    1 non-null float64\n",
            "meanpressurem_3    1 non-null float64\n",
            "maxhumidity_1      1 non-null float64\n",
            "maxhumidity_2      1 non-null float64\n",
            "maxhumidity_3      1 non-null float64\n",
            "minhumidity_1      1 non-null float64\n",
            "minhumidity_2      1 non-null float64\n",
            "minhumidity_3      1 non-null float64\n",
            "maxtempm_1         1 non-null float64\n",
            "maxtempm_2         1 non-null float64\n",
            "maxtempm_3         1 non-null float64\n",
            "mintempm_1         1 non-null float64\n",
            "mintempm_2         1 non-null float64\n",
            "mintempm_3         1 non-null float64\n",
            "maxdewptm_1        1 non-null float64\n",
            "maxdewptm_2        1 non-null float64\n",
            "maxdewptm_3        1 non-null float64\n",
            "mindewptm_1        1 non-null float64\n",
            "mindewptm_2        1 non-null float64\n",
            "mindewptm_3        1 non-null float64\n",
            "maxpressurem_1     1 non-null float64\n",
            "maxpressurem_2     1 non-null float64\n",
            "maxpressurem_3     1 non-null float64\n",
            "minpressurem_1     1 non-null float64\n",
            "minpressurem_2     1 non-null float64\n",
            "minpressurem_3     1 non-null float64\n",
            "precipm_1          1 non-null float64\n",
            "precipm_2          1 non-null float64\n",
            "precipm_3          1 non-null float64\n",
            "dtypes: float64(36)\n",
            "memory usage: 296.0 bytes\n"
          ],
          "name": "stdout"
        }
      ]
    },
    {
      "metadata": {
        "id": "ZoD8CpHlYUsu",
        "colab_type": "code",
        "colab": {}
      },
      "cell_type": "code",
      "source": [
        "X = X.values"
      ],
      "execution_count": 0,
      "outputs": []
    },
    {
      "metadata": {
        "id": "6qc1NA5qX-7W",
        "colab_type": "code",
        "colab": {
          "base_uri": "https://localhost:8080/",
          "height": 34
        },
        "outputId": "4f7d83a7-88d2-4448-da49-742e6d00632c"
      },
      "cell_type": "code",
      "source": [
        "model.predict(X,steps = 1)"
      ],
      "execution_count": 49,
      "outputs": [
        {
          "output_type": "execute_result",
          "data": {
            "text/plain": [
              "array([[13.363598]], dtype=float32)"
            ]
          },
          "metadata": {
            "tags": []
          },
          "execution_count": 49
        }
      ]
    },
    {
      "metadata": {
        "id": "7yYSd5H7faQ1",
        "colab_type": "code",
        "colab": {}
      },
      "cell_type": "code",
      "source": [
        "#we can calculate the mean temperature but now the goal is to calculate the min and max temperature (as it shown on a weather forecast)(we could try to predict the precipitations as well)"
      ],
      "execution_count": 0,
      "outputs": []
    },
    {
      "metadata": {
        "id": "M-MiD_AkhLNF",
        "colab_type": "code",
        "colab": {}
      },
      "cell_type": "code",
      "source": [
        ""
      ],
      "execution_count": 0,
      "outputs": []
    },
    {
      "metadata": {
        "id": "u9bBDi-UhLU1",
        "colab_type": "code",
        "colab": {}
      },
      "cell_type": "code",
      "source": [
        ""
      ],
      "execution_count": 0,
      "outputs": []
    },
    {
      "metadata": {
        "id": "qlQoVvOqhLZV",
        "colab_type": "code",
        "colab": {}
      },
      "cell_type": "code",
      "source": [
        ""
      ],
      "execution_count": 0,
      "outputs": []
    },
    {
      "metadata": {
        "id": "64wxTTnahLce",
        "colab_type": "code",
        "colab": {}
      },
      "cell_type": "code",
      "source": [
        ""
      ],
      "execution_count": 0,
      "outputs": []
    },
    {
      "metadata": {
        "id": "HX0NAoNahLjJ",
        "colab_type": "code",
        "colab": {}
      },
      "cell_type": "code",
      "source": [
        ""
      ],
      "execution_count": 0,
      "outputs": []
    },
    {
      "metadata": {
        "id": "hJzoDBIOhXSo",
        "colab_type": "code",
        "colab": {
          "base_uri": "https://localhost:8080/",
          "height": 731
        },
        "outputId": "5ba7379e-ae83-4d9f-bf54-c60ee5361af6"
      },
      "cell_type": "code",
      "source": [
        "df.info()"
      ],
      "execution_count": 52,
      "outputs": [
        {
          "output_type": "stream",
          "text": [
            "<class 'pandas.core.frame.DataFrame'>\n",
            "Int64Index: 996 entries, 3 to 998\n",
            "Data columns (total 37 columns):\n",
            "meantempm          996 non-null int64\n",
            "meantempm_1        996 non-null float64\n",
            "meantempm_2        996 non-null float64\n",
            "meantempm_3        996 non-null float64\n",
            "meandewptm_1       996 non-null float64\n",
            "meandewptm_2       996 non-null float64\n",
            "meandewptm_3       996 non-null float64\n",
            "meanpressurem_1    996 non-null float64\n",
            "meanpressurem_2    996 non-null float64\n",
            "meanpressurem_3    996 non-null float64\n",
            "maxhumidity_1      996 non-null float64\n",
            "maxhumidity_2      996 non-null float64\n",
            "maxhumidity_3      996 non-null float64\n",
            "minhumidity_1      996 non-null float64\n",
            "minhumidity_2      996 non-null float64\n",
            "minhumidity_3      996 non-null float64\n",
            "maxtempm_1         996 non-null float64\n",
            "maxtempm_2         996 non-null float64\n",
            "maxtempm_3         996 non-null float64\n",
            "mintempm_1         996 non-null float64\n",
            "mintempm_2         996 non-null float64\n",
            "mintempm_3         996 non-null float64\n",
            "maxdewptm_1        996 non-null float64\n",
            "maxdewptm_2        996 non-null float64\n",
            "maxdewptm_3        996 non-null float64\n",
            "mindewptm_1        996 non-null float64\n",
            "mindewptm_2        996 non-null float64\n",
            "mindewptm_3        996 non-null float64\n",
            "maxpressurem_1     996 non-null float64\n",
            "maxpressurem_2     996 non-null float64\n",
            "maxpressurem_3     996 non-null float64\n",
            "minpressurem_1     996 non-null float64\n",
            "minpressurem_2     996 non-null float64\n",
            "minpressurem_3     996 non-null float64\n",
            "precipm_1          996 non-null float64\n",
            "precipm_2          996 non-null float64\n",
            "precipm_3          996 non-null float64\n",
            "dtypes: float64(36), int64(1)\n",
            "memory usage: 295.7 KB\n"
          ],
          "name": "stdout"
        }
      ]
    },
    {
      "metadata": {
        "id": "NjzGk-AQfamo",
        "colab_type": "code",
        "colab": {}
      },
      "cell_type": "code",
      "source": [
        "df = df.drop([\"meantempm\",\"meandewptm\",\"meanpressurem\",\"maxhumidity\",\"minhumidity\",\"maxdewptm\",\"mindewptm\",\"maxpressurem\",\"minpressurem\",\"precipm\",\"date\"], axis=1)\n",
        "X = df[[col for col in df.columns if col != 'maxtempm']]\n",
        "X = X.drop([\"mintempm\"],axis=1)\n",
        "y = df[['maxtempm',\"mintempm\"]]"
      ],
      "execution_count": 0,
      "outputs": []
    },
    {
      "metadata": {
        "id": "zrLBHTcGfasO",
        "colab_type": "code",
        "colab": {}
      },
      "cell_type": "code",
      "source": [
        "X.info()"
      ],
      "execution_count": 0,
      "outputs": []
    },
    {
      "metadata": {
        "id": "9CqocjBZjgTv",
        "colab_type": "code",
        "colab": {}
      },
      "cell_type": "code",
      "source": [
        "X = X.values\n",
        "y= y.values"
      ],
      "execution_count": 0,
      "outputs": []
    },
    {
      "metadata": {
        "id": "VGZMUVUljgd_",
        "colab_type": "code",
        "colab": {
          "base_uri": "https://localhost:8080/",
          "height": 68
        },
        "outputId": "dfbc1f43-a770-407e-b22c-95814fdb8df5"
      },
      "cell_type": "code",
      "source": [
        "history = LossHistory()\n",
        "X_train, X_tmp, y_train, y_tmp = train_test_split(X, y, test_size=0.2, random_state=23)\n",
        "X_test, X_val, y_test, y_val = train_test_split(X_tmp, y_tmp, test_size=0.5, random_state=23)\n",
        "\n",
        "X_train.shape, X_test.shape, X_val.shape  \n",
        "print(\"Training instances   {}, Training features   {}\".format(X_train.shape[0], X_train.shape[1]))  \n",
        "print(\"Validation instances {}, Validation features {}\".format(X_val.shape[0], X_val.shape[1]))  \n",
        "print(\"Testing instances    {}, Testing features    {}\".format(X_test.shape[0], X_test.shape[1]))"
      ],
      "execution_count": 65,
      "outputs": [
        {
          "output_type": "stream",
          "text": [
            "Training instances   796, Training features   36\n",
            "Validation instances 100, Validation features 36\n",
            "Testing instances    100, Testing features    36\n"
          ],
          "name": "stdout"
        }
      ]
    },
    {
      "metadata": {
        "id": "xFf2sP8cjggz",
        "colab_type": "code",
        "colab": {}
      },
      "cell_type": "code",
      "source": [
        "X_train = X_train.astype('float32')\n",
        "X_val = X_val.astype(\"float32\")\n",
        "X_test = X_test.astype('float32')"
      ],
      "execution_count": 0,
      "outputs": []
    },
    {
      "metadata": {
        "id": "m0ObOUOLjgnD",
        "colab_type": "code",
        "colab": {}
      },
      "cell_type": "code",
      "source": [
        ""
      ],
      "execution_count": 0,
      "outputs": []
    },
    {
      "metadata": {
        "id": "g2XdIaIDjgkX",
        "colab_type": "code",
        "colab": {}
      },
      "cell_type": "code",
      "source": [
        ""
      ],
      "execution_count": 0,
      "outputs": []
    },
    {
      "metadata": {
        "id": "zj48GlgTfap3",
        "colab_type": "code",
        "colab": {
          "base_uri": "https://localhost:8080/",
          "height": 204
        },
        "outputId": "87244bb0-9087-4ab4-9a32-d5014a0e358e"
      },
      "cell_type": "code",
      "source": [
        "model = Sequential()\n",
        "\n",
        "\n",
        "model.add(Dense(10,kernel_initializer='normal',activation = \"relu\",input_dim=36))\n",
        "\n",
        "#model.add(Dense(10,kernel_initializer='normal',activation = \"relu\"))\n",
        "\n",
        "model.add(Dense(2, kernel_initializer='normal',activation=\"linear\"))\n",
        "model.compile(optimizer='adagrad',loss='MAE', metrics=['accuracy'])\n",
        "model.summary()\n"
      ],
      "execution_count": 67,
      "outputs": [
        {
          "output_type": "stream",
          "text": [
            "_________________________________________________________________\n",
            "Layer (type)                 Output Shape              Param #   \n",
            "=================================================================\n",
            "dense_3 (Dense)              (None, 10)                370       \n",
            "_________________________________________________________________\n",
            "dense_4 (Dense)              (None, 2)                 22        \n",
            "=================================================================\n",
            "Total params: 392\n",
            "Trainable params: 392\n",
            "Non-trainable params: 0\n",
            "_________________________________________________________________\n"
          ],
          "name": "stdout"
        }
      ]
    },
    {
      "metadata": {
        "id": "wOsGJ7S6j1q5",
        "colab_type": "code",
        "colab": {}
      },
      "cell_type": "code",
      "source": [
        "history = model.fit(X_train,y_train,batch_size =64, epochs = 5000, verbose =0, validation_data=(X_test, y_test))"
      ],
      "execution_count": 0,
      "outputs": []
    },
    {
      "metadata": {
        "id": "7sDXwhSij5ej",
        "colab_type": "code",
        "colab": {}
      },
      "cell_type": "code",
      "source": [
        "model.predict(X_val,steps = 1)"
      ],
      "execution_count": 0,
      "outputs": []
    },
    {
      "metadata": {
        "id": "5fMP2kqhj_HQ",
        "colab_type": "code",
        "colab": {
          "base_uri": "https://localhost:8080/",
          "height": 367
        },
        "outputId": "658b5ed6-d4f6-481e-da62-5a86b26442ee"
      },
      "cell_type": "code",
      "source": [
        "prediction = model.predict(X_val,steps = 1)\n",
        "mean_error = abs((y_val-prediction))\n",
        "print(\"mean absolute error: \")\n",
        "print(mean_error.mean())\n",
        "print(\"median: \")\n",
        "print(median_absolute_error(y_val, prediction))"
      ],
      "execution_count": 70,
      "outputs": [
        {
          "output_type": "stream",
          "text": [
            "mean absolute error: \n",
            "1.9001942162960768\n",
            "median: \n"
          ],
          "name": "stdout"
        },
        {
          "output_type": "error",
          "ename": "ValueError",
          "evalue": "ignored",
          "traceback": [
            "\u001b[0;31m---------------------------------------------------------------------------\u001b[0m",
            "\u001b[0;31mValueError\u001b[0m                                Traceback (most recent call last)",
            "\u001b[0;32m<ipython-input-70-920d47a6856b>\u001b[0m in \u001b[0;36m<module>\u001b[0;34m()\u001b[0m\n\u001b[1;32m      4\u001b[0m \u001b[0mprint\u001b[0m\u001b[0;34m(\u001b[0m\u001b[0mmean_error\u001b[0m\u001b[0;34m.\u001b[0m\u001b[0mmean\u001b[0m\u001b[0;34m(\u001b[0m\u001b[0;34m)\u001b[0m\u001b[0;34m)\u001b[0m\u001b[0;34m\u001b[0m\u001b[0m\n\u001b[1;32m      5\u001b[0m \u001b[0mprint\u001b[0m\u001b[0;34m(\u001b[0m\u001b[0;34m\"median: \"\u001b[0m\u001b[0;34m)\u001b[0m\u001b[0;34m\u001b[0m\u001b[0m\n\u001b[0;32m----> 6\u001b[0;31m \u001b[0mprint\u001b[0m\u001b[0;34m(\u001b[0m\u001b[0mmedian_absolute_error\u001b[0m\u001b[0;34m(\u001b[0m\u001b[0my_val\u001b[0m\u001b[0;34m,\u001b[0m \u001b[0mprediction\u001b[0m\u001b[0;34m)\u001b[0m\u001b[0;34m)\u001b[0m\u001b[0;34m\u001b[0m\u001b[0m\n\u001b[0m",
            "\u001b[0;32m/usr/local/lib/python3.6/dist-packages/sklearn/metrics/regression.py\u001b[0m in \u001b[0;36mmedian_absolute_error\u001b[0;34m(y_true, y_pred)\u001b[0m\n\u001b[1;32m    346\u001b[0m                                                    'uniform_average')\n\u001b[1;32m    347\u001b[0m     \u001b[0;32mif\u001b[0m \u001b[0my_type\u001b[0m \u001b[0;34m==\u001b[0m \u001b[0;34m'continuous-multioutput'\u001b[0m\u001b[0;34m:\u001b[0m\u001b[0;34m\u001b[0m\u001b[0m\n\u001b[0;32m--> 348\u001b[0;31m         \u001b[0;32mraise\u001b[0m \u001b[0mValueError\u001b[0m\u001b[0;34m(\u001b[0m\u001b[0;34m\"Multioutput not supported in median_absolute_error\"\u001b[0m\u001b[0;34m)\u001b[0m\u001b[0;34m\u001b[0m\u001b[0m\n\u001b[0m\u001b[1;32m    349\u001b[0m     \u001b[0;32mreturn\u001b[0m \u001b[0mnp\u001b[0m\u001b[0;34m.\u001b[0m\u001b[0mmedian\u001b[0m\u001b[0;34m(\u001b[0m\u001b[0mnp\u001b[0m\u001b[0;34m.\u001b[0m\u001b[0mabs\u001b[0m\u001b[0;34m(\u001b[0m\u001b[0my_pred\u001b[0m \u001b[0;34m-\u001b[0m \u001b[0my_true\u001b[0m\u001b[0;34m)\u001b[0m\u001b[0;34m)\u001b[0m\u001b[0;34m\u001b[0m\u001b[0m\n\u001b[1;32m    350\u001b[0m \u001b[0;34m\u001b[0m\u001b[0m\n",
            "\u001b[0;31mValueError\u001b[0m: Multioutput not supported in median_absolute_error"
          ]
        }
      ]
    },
    {
      "metadata": {
        "id": "14s_WuBckNmf",
        "colab_type": "code",
        "colab": {
          "base_uri": "https://localhost:8080/",
          "height": 376
        },
        "outputId": "26461735-dfd6-4098-c657-48d8b10fab6b"
      },
      "cell_type": "code",
      "source": [
        "import matplotlib.pyplot as plt\n",
        "\n",
        "\n",
        "\n",
        "plt.plot(history.history['loss'])\n",
        "\n",
        "plt.title('model loss')\n",
        "plt.ylabel('loss')\n",
        "plt.xlabel('epoch')\n",
        "plt.legend(['train'], loc='upper left')\n",
        "plt.show()"
      ],
      "execution_count": 71,
      "outputs": [
        {
          "output_type": "display_data",
          "data": {
            "image/png": "[encoded data removed]",
            "text/plain": [
              "<matplotlib.figure.Figure at 0x7fe53ddf5d30>"
            ]
          },
          "metadata": {
            "tags": []
          }
        }
      ]
    },
    {
      "metadata": {
        "id": "nXNKYMu5lnLF",
        "colab_type": "code",
        "colab": {}
      },
      "cell_type": "code",
      "source": [
        "df1.info()"
      ],
      "execution_count": 0,
      "outputs": []
    },
    {
      "metadata": {
        "id": "YjmTjQU3lnTu",
        "colab_type": "code",
        "colab": {
          "base_uri": "https://localhost:8080/",
          "height": 714
        },
        "outputId": "5846f075-0977-4735-9c23-db969d255434"
      },
      "cell_type": "code",
      "source": [
        "X.info()"
      ],
      "execution_count": 79,
      "outputs": [
        {
          "output_type": "stream",
          "text": [
            "<class 'pandas.core.frame.DataFrame'>\n",
            "Int64Index: 1 entries, 4 to 4\n",
            "Data columns (total 36 columns):\n",
            "meantempm_1        1 non-null float64\n",
            "meantempm_2        1 non-null float64\n",
            "meantempm_3        1 non-null float64\n",
            "meandewptm_1       1 non-null float64\n",
            "meandewptm_2       1 non-null float64\n",
            "meandewptm_3       1 non-null float64\n",
            "meanpressurem_1    1 non-null float64\n",
            "meanpressurem_2    1 non-null float64\n",
            "meanpressurem_3    1 non-null float64\n",
            "maxhumidity_1      1 non-null float64\n",
            "maxhumidity_2      1 non-null float64\n",
            "maxhumidity_3      1 non-null float64\n",
            "minhumidity_1      1 non-null float64\n",
            "minhumidity_2      1 non-null float64\n",
            "minhumidity_3      1 non-null float64\n",
            "maxtempm_1         1 non-null float64\n",
            "maxtempm_2         1 non-null float64\n",
            "maxtempm_3         1 non-null float64\n",
            "mintempm_1         1 non-null float64\n",
            "mintempm_2         1 non-null float64\n",
            "mintempm_3         1 non-null float64\n",
            "maxdewptm_1        1 non-null float64\n",
            "maxdewptm_2        1 non-null float64\n",
            "maxdewptm_3        1 non-null float64\n",
            "mindewptm_1        1 non-null float64\n",
            "mindewptm_2        1 non-null float64\n",
            "mindewptm_3        1 non-null float64\n",
            "maxpressurem_1     1 non-null float64\n",
            "maxpressurem_2     1 non-null float64\n",
            "maxpressurem_3     1 non-null float64\n",
            "minpressurem_1     1 non-null float64\n",
            "minpressurem_2     1 non-null float64\n",
            "minpressurem_3     1 non-null float64\n",
            "precipm_1          1 non-null float64\n",
            "precipm_2          1 non-null float64\n",
            "precipm_3          1 non-null float64\n",
            "dtypes: float64(36)\n",
            "memory usage: 296.0 bytes\n"
          ],
          "name": "stdout"
        }
      ]
    },
    {
      "metadata": {
        "id": "5yXEFTXCkOpQ",
        "colab_type": "code",
        "colab": {}
      },
      "cell_type": "code",
      "source": [
        "X = df1[[col for col in df1.columns if col != 'maxtempm']]"
      ],
      "execution_count": 0,
      "outputs": []
    },
    {
      "metadata": {
        "id": "7tYHHNiIlmgD",
        "colab_type": "code",
        "colab": {}
      },
      "cell_type": "code",
      "source": [
        "X = X.drop([\"meandewptm\",\"meanpressurem\",\"maxhumidity\",\"minhumidity\",\"maxdewptm\",\"mindewptm\",\"maxpressurem\",\n",
        "                \"minpressurem\",\"precipm\"  ], axis=1)"
      ],
      "execution_count": 0,
      "outputs": []
    },
    {
      "metadata": {
        "id": "0atha7DckOw-",
        "colab_type": "code",
        "colab": {}
      },
      "cell_type": "code",
      "source": [
        "X = X.drop(['mintempm', 'meantempm',\"date\"], axis=1)"
      ],
      "execution_count": 0,
      "outputs": []
    },
    {
      "metadata": {
        "id": "jxwfDSVKkO2i",
        "colab_type": "code",
        "colab": {}
      },
      "cell_type": "code",
      "source": [
        "X = X.values"
      ],
      "execution_count": 0,
      "outputs": []
    },
    {
      "metadata": {
        "id": "VnDXaSAukO8b",
        "colab_type": "code",
        "colab": {
          "base_uri": "https://localhost:8080/",
          "height": 34
        },
        "outputId": "ff14a7ec-2363-4e05-83af-3125a697a660"
      },
      "cell_type": "code",
      "source": [
        "model.predict(X,steps = 1)"
      ],
      "execution_count": 81,
      "outputs": [
        {
          "output_type": "execute_result",
          "data": {
            "text/plain": [
              "array([[19.45795 ,  8.006131]], dtype=float32)"
            ]
          },
          "metadata": {
            "tags": []
          },
          "execution_count": 81
        }
      ]
    },
    {
      "metadata": {
        "id": "PaOQIcnSmyWi",
        "colab_type": "code",
        "colab": {}
      },
      "cell_type": "code",
      "source": [
        ""
      ],
      "execution_count": 0,
      "outputs": []
    },
    {
      "metadata": {
        "id": "pPSYmYxSkPD_",
        "colab_type": "code",
        "colab": {}
      },
      "cell_type": "code",
      "source": [
        ""
      ],
      "execution_count": 0,
      "outputs": []
    },
    {
      "metadata": {
        "id": "wiDEuZb8kPCI",
        "colab_type": "code",
        "colab": {}
      },
      "cell_type": "code",
      "source": [
        ""
      ],
      "execution_count": 0,
      "outputs": []
    },
    {
      "metadata": {
        "id": "t32jYsebkPAJ",
        "colab_type": "code",
        "colab": {}
      },
      "cell_type": "code",
      "source": [
        ""
      ],
      "execution_count": 0,
      "outputs": []
    },
    {
      "metadata": {
        "id": "94EJxBqRkO6C",
        "colab_type": "code",
        "colab": {}
      },
      "cell_type": "code",
      "source": [
        ""
      ],
      "execution_count": 0,
      "outputs": []
    },
    {
      "metadata": {
        "id": "1VjzgTkBkO0B",
        "colab_type": "code",
        "colab": {}
      },
      "cell_type": "code",
      "source": [
        "#precipitation prediction"
      ],
      "execution_count": 0,
      "outputs": []
    },
    {
      "metadata": {
        "id": "vZZs3xQcofht",
        "colab_type": "code",
        "colab": {}
      },
      "cell_type": "code",
      "source": [
        "df.info()"
      ],
      "execution_count": 0,
      "outputs": []
    },
    {
      "metadata": {
        "id": "vQF3CTrlo-15",
        "colab_type": "code",
        "colab": {
          "base_uri": "https://localhost:8080/",
          "height": 282
        },
        "outputId": "1880a663-c11a-416e-ef8b-47049be0804c"
      },
      "cell_type": "code",
      "source": [
        "y.info()"
      ],
      "execution_count": 102,
      "outputs": [
        {
          "output_type": "error",
          "ename": "AttributeError",
          "evalue": "ignored",
          "traceback": [
            "\u001b[0;31m---------------------------------------------------------------------------\u001b[0m",
            "\u001b[0;31mAttributeError\u001b[0m                            Traceback (most recent call last)",
            "\u001b[0;32m<ipython-input-102-f75f9ed05036>\u001b[0m in \u001b[0;36m<module>\u001b[0;34m()\u001b[0m\n\u001b[0;32m----> 1\u001b[0;31m \u001b[0my\u001b[0m\u001b[0;34m.\u001b[0m\u001b[0minfo\u001b[0m\u001b[0;34m(\u001b[0m\u001b[0;34m)\u001b[0m\u001b[0;34m\u001b[0m\u001b[0m\n\u001b[0m",
            "\u001b[0;32m/usr/local/lib/python3.6/dist-packages/pandas/core/generic.py\u001b[0m in \u001b[0;36m__getattr__\u001b[0;34m(self, name)\u001b[0m\n\u001b[1;32m   3612\u001b[0m             \u001b[0;32mif\u001b[0m \u001b[0mname\u001b[0m \u001b[0;32min\u001b[0m \u001b[0mself\u001b[0m\u001b[0;34m.\u001b[0m\u001b[0m_info_axis\u001b[0m\u001b[0;34m:\u001b[0m\u001b[0;34m\u001b[0m\u001b[0m\n\u001b[1;32m   3613\u001b[0m                 \u001b[0;32mreturn\u001b[0m \u001b[0mself\u001b[0m\u001b[0;34m[\u001b[0m\u001b[0mname\u001b[0m\u001b[0;34m]\u001b[0m\u001b[0;34m\u001b[0m\u001b[0m\n\u001b[0;32m-> 3614\u001b[0;31m             \u001b[0;32mreturn\u001b[0m \u001b[0mobject\u001b[0m\u001b[0;34m.\u001b[0m\u001b[0m__getattribute__\u001b[0m\u001b[0;34m(\u001b[0m\u001b[0mself\u001b[0m\u001b[0;34m,\u001b[0m \u001b[0mname\u001b[0m\u001b[0;34m)\u001b[0m\u001b[0;34m\u001b[0m\u001b[0m\n\u001b[0m\u001b[1;32m   3615\u001b[0m \u001b[0;34m\u001b[0m\u001b[0m\n\u001b[1;32m   3616\u001b[0m     \u001b[0;32mdef\u001b[0m \u001b[0m__setattr__\u001b[0m\u001b[0;34m(\u001b[0m\u001b[0mself\u001b[0m\u001b[0;34m,\u001b[0m \u001b[0mname\u001b[0m\u001b[0;34m,\u001b[0m \u001b[0mvalue\u001b[0m\u001b[0;34m)\u001b[0m\u001b[0;34m:\u001b[0m\u001b[0;34m\u001b[0m\u001b[0m\n",
            "\u001b[0;31mAttributeError\u001b[0m: 'Series' object has no attribute 'info'"
          ]
        }
      ]
    },
    {
      "metadata": {
        "id": "oeB54Yr_nWon",
        "colab_type": "code",
        "colab": {}
      },
      "cell_type": "code",
      "source": [
        "df = df.drop([\"maxtempm\",\"mintempm\",\"meantempm\",\"meandewptm\",\"meanpressurem\",\"maxhumidity\",\"minhumidity\",\"maxdewptm\",\"mindewptm\",\"maxpressurem\",\"minpressurem\",\"date\"], axis=1)\n",
        "X = df[[col for col in df.columns if col != 'precipm']]\n",
        "y = df[\"precipm\"]"
      ],
      "execution_count": 0,
      "outputs": []
    },
    {
      "metadata": {
        "id": "ZgMoCdvbnela",
        "colab_type": "code",
        "colab": {}
      },
      "cell_type": "code",
      "source": [
        "X = X.values\n",
        "y= y.values"
      ],
      "execution_count": 0,
      "outputs": []
    },
    {
      "metadata": {
        "id": "CX2kfgjinhNS",
        "colab_type": "code",
        "colab": {
          "base_uri": "https://localhost:8080/",
          "height": 68
        },
        "outputId": "83dd69fb-7880-4df7-ffe7-7afa02ccac1c"
      },
      "cell_type": "code",
      "source": [
        "history = LossHistory()\n",
        "X_train, X_tmp, y_train, y_tmp = train_test_split(X, y, test_size=0.2, random_state=23)\n",
        "X_test, X_val, y_test, y_val = train_test_split(X_tmp, y_tmp, test_size=0.5, random_state=23)\n",
        "\n",
        "X_train.shape, X_test.shape, X_val.shape  \n",
        "print(\"Training instances   {}, Training features   {}\".format(X_train.shape[0], X_train.shape[1]))  \n",
        "print(\"Validation instances {}, Validation features {}\".format(X_val.shape[0], X_val.shape[1]))  \n",
        "print(\"Testing instances    {}, Testing features    {}\".format(X_test.shape[0], X_test.shape[1]))"
      ],
      "execution_count": 104,
      "outputs": [
        {
          "output_type": "stream",
          "text": [
            "Training instances   796, Training features   36\n",
            "Validation instances 100, Validation features 36\n",
            "Testing instances    100, Testing features    36\n"
          ],
          "name": "stdout"
        }
      ]
    },
    {
      "metadata": {
        "id": "dSgJ9b7unjjh",
        "colab_type": "code",
        "colab": {}
      },
      "cell_type": "code",
      "source": [
        "X_train = X_train.astype('float32')\n",
        "X_val = X_val.astype(\"float32\")\n",
        "X_test = X_test.astype('float32')"
      ],
      "execution_count": 0,
      "outputs": []
    },
    {
      "metadata": {
        "id": "dyNHzH4Hnlx9",
        "colab_type": "code",
        "colab": {
          "base_uri": "https://localhost:8080/",
          "height": 204
        },
        "outputId": "e2716ebe-a95f-41a9-9487-247bc222b05e"
      },
      "cell_type": "code",
      "source": [
        "model = Sequential()\n",
        "\n",
        "\n",
        "model.add(Dense(10,kernel_initializer='normal',activation = \"relu\",input_dim=36))\n",
        "\n",
        "#model.add(Dense(10,kernel_initializer='normal',activation = \"relu\"))\n",
        "\n",
        "model.add(Dense(1, kernel_initializer='normal',activation=\"linear\"))\n",
        "model.compile(optimizer='adagrad',loss='MAE', metrics=['accuracy'])\n",
        "model.summary()"
      ],
      "execution_count": 106,
      "outputs": [
        {
          "output_type": "stream",
          "text": [
            "_________________________________________________________________\n",
            "Layer (type)                 Output Shape              Param #   \n",
            "=================================================================\n",
            "dense_5 (Dense)              (None, 10)                370       \n",
            "_________________________________________________________________\n",
            "dense_6 (Dense)              (None, 1)                 11        \n",
            "=================================================================\n",
            "Total params: 381\n",
            "Trainable params: 381\n",
            "Non-trainable params: 0\n",
            "_________________________________________________________________\n"
          ],
          "name": "stdout"
        }
      ]
    },
    {
      "metadata": {
        "id": "ejSqHAjMnoJn",
        "colab_type": "code",
        "colab": {}
      },
      "cell_type": "code",
      "source": [
        "history = model.fit(X_train,y_train,batch_size =64, epochs = 5000, verbose =0, validation_data=(X_test, y_test))"
      ],
      "execution_count": 0,
      "outputs": []
    },
    {
      "metadata": {
        "id": "7ECh0AD6nq7M",
        "colab_type": "code",
        "colab": {
          "base_uri": "https://localhost:8080/",
          "height": 1717
        },
        "outputId": "48266db3-feca-4ace-c62b-2dcee5f9070e"
      },
      "cell_type": "code",
      "source": [
        "model.predict(X_val,steps = 1)"
      ],
      "execution_count": 108,
      "outputs": [
        {
          "output_type": "execute_result",
          "data": {
            "text/plain": [
              "array([[ 3.82413641e-02],\n",
              "       [-2.31061205e-02],\n",
              "       [ 3.78088728e-02],\n",
              "       [ 2.89817303e-01],\n",
              "       [ 3.23724523e-02],\n",
              "       [ 7.74316564e-02],\n",
              "       [ 2.45485082e-02],\n",
              "       [ 3.57305020e-01],\n",
              "       [ 3.36413160e-02],\n",
              "       [ 7.46879354e-02],\n",
              "       [ 3.99100751e-01],\n",
              "       [ 1.94888577e-01],\n",
              "       [ 4.69102636e-02],\n",
              "       [-3.65279149e-04],\n",
              "       [ 1.30437836e-01],\n",
              "       [ 1.79734007e-02],\n",
              "       [ 1.16723038e-01],\n",
              "       [ 7.82646909e-02],\n",
              "       [ 3.44218984e-02],\n",
              "       [ 1.51090607e-01],\n",
              "       [ 5.76033369e-02],\n",
              "       [ 3.01761404e-02],\n",
              "       [ 5.07926717e-02],\n",
              "       [ 6.06665388e-02],\n",
              "       [-9.76660103e-03],\n",
              "       [ 3.78241986e-01],\n",
              "       [ 7.97133222e-02],\n",
              "       [ 1.77020803e-02],\n",
              "       [ 2.11262688e-01],\n",
              "       [-2.52390131e-02],\n",
              "       [ 3.12471166e-02],\n",
              "       [ 7.14010969e-02],\n",
              "       [-1.76244006e-02],\n",
              "       [ 1.53321996e-02],\n",
              "       [ 1.15154244e-01],\n",
              "       [ 6.70642629e-02],\n",
              "       [ 4.00833860e-02],\n",
              "       [ 2.89817303e-01],\n",
              "       [ 6.89906850e-02],\n",
              "       [ 1.21329285e-01],\n",
              "       [ 1.55076757e-02],\n",
              "       [-7.61225028e-03],\n",
              "       [ 1.05521875e-03],\n",
              "       [ 1.14918686e-01],\n",
              "       [ 1.88770071e-02],\n",
              "       [ 2.90527120e-02],\n",
              "       [ 6.29677549e-02],\n",
              "       [ 2.08987698e-01],\n",
              "       [ 1.90211758e-01],\n",
              "       [-6.10592170e-03],\n",
              "       [ 4.87012640e-02],\n",
              "       [ 1.59110799e-02],\n",
              "       [ 2.07901940e-01],\n",
              "       [ 2.61876779e-03],\n",
              "       [ 2.22095475e-01],\n",
              "       [-4.57749590e-02],\n",
              "       [ 9.42415968e-02],\n",
              "       [ 8.47528130e-03],\n",
              "       [ 4.98523489e-02],\n",
              "       [ 9.67368856e-02],\n",
              "       [-1.78585276e-02],\n",
              "       [ 6.99041085e-03],\n",
              "       [ 1.23986974e-02],\n",
              "       [ 9.81826559e-02],\n",
              "       [-9.66408104e-03],\n",
              "       [ 6.56745629e-03],\n",
              "       [ 5.72037473e-02],\n",
              "       [ 7.13743940e-02],\n",
              "       [ 6.26573339e-02],\n",
              "       [ 2.51827016e-02],\n",
              "       [ 2.52175108e-02],\n",
              "       [ 2.56013647e-02],\n",
              "       [-4.71737189e-03],\n",
              "       [ 3.29203382e-02],\n",
              "       [ 3.51714864e-02],\n",
              "       [ 3.12471166e-02],\n",
              "       [ 7.92946592e-02],\n",
              "       [ 1.21893659e-02],\n",
              "       [ 1.71884522e-01],\n",
              "       [ 2.22380146e-01],\n",
              "       [ 9.41004530e-02],\n",
              "       [ 3.04870382e-02],\n",
              "       [ 3.59968916e-02],\n",
              "       [-3.98059115e-02],\n",
              "       [ 1.58400312e-02],\n",
              "       [ 2.06002966e-02],\n",
              "       [-1.06059097e-01],\n",
              "       [-2.38876566e-02],\n",
              "       [ 3.97776097e-01],\n",
              "       [ 1.44257322e-02],\n",
              "       [-1.85232386e-02],\n",
              "       [-1.87106356e-02],\n",
              "       [ 1.51090607e-01],\n",
              "       [ 1.89008698e-01],\n",
              "       [ 4.32185903e-02],\n",
              "       [ 2.22997442e-02],\n",
              "       [ 7.44666830e-02],\n",
              "       [ 1.18651167e-02],\n",
              "       [ 9.31620374e-02],\n",
              "       [ 2.24780813e-02]], dtype=float32)"
            ]
          },
          "metadata": {
            "tags": []
          },
          "execution_count": 108
        }
      ]
    },
    {
      "metadata": {
        "id": "-4KnGvbWntAp",
        "colab_type": "code",
        "colab": {
          "base_uri": "https://localhost:8080/",
          "height": 85
        },
        "outputId": "1ff8d52c-1647-47f0-aa44-a563b99bf4a6"
      },
      "cell_type": "code",
      "source": [
        "prediction = model.predict(X_val,steps = 1)\n",
        "mean_error = abs((y_val-prediction))\n",
        "print(\"mean absolute error: \")\n",
        "print(mean_error.mean())\n",
        "print(\"median: \")\n",
        "print(median_absolute_error(y_val, prediction))"
      ],
      "execution_count": 109,
      "outputs": [
        {
          "output_type": "stream",
          "text": [
            "mean absolute error: \n",
            "0.7592129325611144\n",
            "median: \n",
            "0.05725438371300698\n"
          ],
          "name": "stdout"
        }
      ]
    },
    {
      "metadata": {
        "id": "SHSAnsQCnv-q",
        "colab_type": "code",
        "colab": {
          "base_uri": "https://localhost:8080/",
          "height": 376
        },
        "outputId": "20a2c860-7a6f-4516-907f-4ed8ea287861"
      },
      "cell_type": "code",
      "source": [
        "import matplotlib.pyplot as plt\n",
        "\n",
        "\n",
        "\n",
        "plt.plot(history.history['loss'])\n",
        "\n",
        "plt.title('model loss')\n",
        "plt.ylabel('loss')\n",
        "plt.xlabel('epoch')\n",
        "plt.legend(['train'], loc='upper left')\n",
        "plt.show()"
      ],
      "execution_count": 110,
      "outputs": [
        {
          "output_type": "display_data",
          "data": {
            "image/png": "[encoded data removed]",
            "text/plain": [
              "<matplotlib.figure.Figure at 0x7fe53cfc7e10>"
            ]
          },
          "metadata": {
            "tags": []
          }
        }
      ]
    },
    {
      "metadata": {
        "id": "8DbgtrKWnyrM",
        "colab_type": "code",
        "colab": {}
      },
      "cell_type": "code",
      "source": [
        ""
      ],
      "execution_count": 0,
      "outputs": []
    },
    {
      "metadata": {
        "id": "xw4I8Ynlny0x",
        "colab_type": "code",
        "colab": {}
      },
      "cell_type": "code",
      "source": [
        "X = df1[[col for col in df1.columns if col != 'maxtempm']]"
      ],
      "execution_count": 0,
      "outputs": []
    },
    {
      "metadata": {
        "id": "YSvNQGawn0vG",
        "colab_type": "code",
        "colab": {}
      },
      "cell_type": "code",
      "source": [
        "X = X.drop([\"meandewptm\",\"meanpressurem\",\"maxhumidity\",\"minhumidity\",\"maxdewptm\",\"mindewptm\",\"maxpressurem\",\n",
        "                \"minpressurem\",\"precipm\"  ], axis=1)"
      ],
      "execution_count": 0,
      "outputs": []
    },
    {
      "metadata": {
        "id": "RCDJGonwn2_J",
        "colab_type": "code",
        "colab": {}
      },
      "cell_type": "code",
      "source": [
        "X = X.drop(['mintempm', 'meantempm',\"date\"], axis=1)"
      ],
      "execution_count": 0,
      "outputs": []
    },
    {
      "metadata": {
        "id": "6O_5B5JVn40o",
        "colab_type": "code",
        "colab": {}
      },
      "cell_type": "code",
      "source": [
        "X = X.values"
      ],
      "execution_count": 0,
      "outputs": []
    },
    {
      "metadata": {
        "id": "qBYX3Bx5n6ig",
        "colab_type": "code",
        "colab": {
          "base_uri": "https://localhost:8080/",
          "height": 34
        },
        "outputId": "e5332ed1-c273-4ebf-efbf-f5e8de178753"
      },
      "cell_type": "code",
      "source": [
        "model.predict(X,steps = 1)"
      ],
      "execution_count": 115,
      "outputs": [
        {
          "output_type": "execute_result",
          "data": {
            "text/plain": [
              "array([[0.03763476]], dtype=float32)"
            ]
          },
          "metadata": {
            "tags": []
          },
          "execution_count": 115
        }
      ]
    }
  ]
}